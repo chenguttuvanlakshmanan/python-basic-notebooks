{
 "cells": [
  {
   "cell_type": "markdown",
   "id": "87683932",
   "metadata": {},
   "source": [
    "## Decorators"
   ]
  },
  {
   "cell_type": "markdown",
   "id": "34d98cda",
   "metadata": {},
   "source": [
    "2 types of decorators => function and class decorators"
   ]
  },
  {
   "cell_type": "markdown",
   "id": "c97c9c8f",
   "metadata": {},
   "source": [
    "A decorator in Python is a function that takes another function as its argument, and returns yet another function . \n",
    "Decorators can be extremely useful as they allow the extension of an existing function, \n",
    "without any modification to the original function source code."
   ]
  },
  {
   "cell_type": "markdown",
   "id": "3055f7d3",
   "metadata": {},
   "source": [
    "Function are first class objects => means we can pass function as argument"
   ]
  },
  {
   "cell_type": "markdown",
   "id": "8a5776c7",
   "metadata": {},
   "source": [
    "Such functions that take other functions as arguments are also called higher order functions"
   ]
  },
  {
   "cell_type": "markdown",
   "id": "72d229ed",
   "metadata": {},
   "source": [
    "pure functions => which takes a input and returns a ouput and do not produce any side effects \n",
    "example => def add(x,y):return a+b"
   ]
  },
  {
   "cell_type": "markdown",
   "id": "fe5c78f3",
   "metadata": {},
   "source": [
    "A function defined inside another function is called a nested function. \n",
    "Nested functions can access variables of the enclosing scope."
   ]
  },
  {
   "cell_type": "markdown",
   "id": "d343730c",
   "metadata": {},
   "source": [
    "### Function Decorators"
   ]
  },
  {
   "cell_type": "code",
   "execution_count": 1,
   "id": "a72bd2ca",
   "metadata": {},
   "outputs": [],
   "source": [
    "# higher order function\n",
    "def wrapfunction(myfunc):\n",
    "    def wrapreturn():\n",
    "        print(\"wrap function\")\n",
    "        myfunc()\n",
    "    return wrapreturn"
   ]
  },
  {
   "cell_type": "code",
   "execution_count": 2,
   "id": "fe7c893d",
   "metadata": {},
   "outputs": [],
   "source": [
    "@wrapfunction\n",
    "def newfunc():\n",
    "    print(\"i am inside function\")\n",
    "    \n",
    "#this equivalent to wrapfunction(newfunc)"
   ]
  },
  {
   "cell_type": "code",
   "execution_count": 3,
   "id": "a56e901f",
   "metadata": {},
   "outputs": [
    {
     "name": "stdout",
     "output_type": "stream",
     "text": [
      "wrap function\n",
      "i am inside function\n"
     ]
    }
   ],
   "source": [
    "newfunc()"
   ]
  },
  {
   "cell_type": "code",
   "execution_count": 6,
   "id": "56d0334e",
   "metadata": {},
   "outputs": [],
   "source": [
    "#passing arguments to the decorator\n",
    "def smartdivide(func):\n",
    "    def innerfunc(a,b):\n",
    "        if b == 0:\n",
    "            return \"divide error\"\n",
    "        return func(a,b)\n",
    "    return innerfunc"
   ]
  },
  {
   "cell_type": "code",
   "execution_count": 7,
   "id": "4057c704",
   "metadata": {},
   "outputs": [
    {
     "data": {
      "text/plain": [
       "2.0"
      ]
     },
     "execution_count": 7,
     "metadata": {},
     "output_type": "execute_result"
    }
   ],
   "source": [
    "@smartdivide\n",
    "def divide(a,b):\n",
    "    return a/b\n",
    "\n",
    "divide(4,2)"
   ]
  },
  {
   "cell_type": "code",
   "execution_count": 8,
   "id": "f921adc0",
   "metadata": {},
   "outputs": [
    {
     "data": {
      "text/plain": [
       "'divide error'"
      ]
     },
     "execution_count": 8,
     "metadata": {},
     "output_type": "execute_result"
    }
   ],
   "source": [
    "divide(4,0)"
   ]
  },
  {
   "cell_type": "code",
   "execution_count": 11,
   "id": "e9fb6ced",
   "metadata": {},
   "outputs": [],
   "source": [
    "#chaining decorators the order of placing the decorator in the calling function is more important\n",
    "def percentprint(func):\n",
    "    def inner(*args,**kwargs):\n",
    "        print('%'*30)\n",
    "        func(*args,**kwargs)\n",
    "        print('%'*30)\n",
    "    return inner\n",
    "\n",
    "def starprint(func):\n",
    "    def inner(*args,**kwargs):\n",
    "        print('*'*30)\n",
    "        func(*args,**kwargs)\n",
    "        print('*'*30)\n",
    "    return inner\n",
    "\n",
    "@starprint\n",
    "@percentprint\n",
    "def myprint(msg):\n",
    "    print(msg)"
   ]
  },
  {
   "cell_type": "code",
   "execution_count": 12,
   "id": "122f7d00",
   "metadata": {},
   "outputs": [
    {
     "name": "stdout",
     "output_type": "stream",
     "text": [
      "******************************\n",
      "%%%%%%%%%%%%%%%%%%%%%%%%%%%%%%\n",
      "cheng\n",
      "%%%%%%%%%%%%%%%%%%%%%%%%%%%%%%\n",
      "******************************\n"
     ]
    }
   ],
   "source": [
    "myprint('cheng')"
   ]
  },
  {
   "cell_type": "code",
   "execution_count": 15,
   "id": "e73c0391",
   "metadata": {},
   "outputs": [],
   "source": [
    "def star(n):\n",
    "    def wrapfunction(fn):\n",
    "        def innerfunc(*args,**kwargs):\n",
    "            print('*'*n)\n",
    "            fn(*args,**kwargs)\n",
    "            print('*'*n)\n",
    "        return innerfunc            \n",
    "    return wrapfunction"
   ]
  },
  {
   "cell_type": "code",
   "execution_count": 16,
   "id": "d9fb0cdc",
   "metadata": {},
   "outputs": [
    {
     "name": "stdout",
     "output_type": "stream",
     "text": [
      "*****\n",
      "cheng\n",
      "*****\n"
     ]
    }
   ],
   "source": [
    "@star(5) # we are passing arguments to the decorator function\n",
    "def myprint(msg):\n",
    "    print(msg)\n",
    "    \n",
    "myprint('cheng')"
   ]
  },
  {
   "cell_type": "code",
   "execution_count": 71,
   "id": "aeac352f",
   "metadata": {},
   "outputs": [
    {
     "name": "stdout",
     "output_type": "stream",
     "text": [
      "**********\n",
      "hello\n",
      "**********\n"
     ]
    }
   ],
   "source": [
    "star(10)(lambda: print('hello'))()"
   ]
  },
  {
   "cell_type": "markdown",
   "id": "e796d48e",
   "metadata": {},
   "source": [
    "### Class Decorators"
   ]
  },
  {
   "cell_type": "markdown",
   "id": "73672605",
   "metadata": {},
   "source": [
    "A class instance can be a callable when it implements the __call__ method. \n",
    "Therefore, you can make the __call__ method as a decorator."
   ]
  },
  {
   "cell_type": "code",
   "execution_count": 32,
   "id": "0149f83e",
   "metadata": {},
   "outputs": [],
   "source": [
    "class starclass:\n",
    "    \n",
    "    def __init__(self,n):\n",
    "        self.n = n\n",
    "        \n",
    "    def __call__(self,fn):       \n",
    "        def innerfunc(*args,**kwargs):\n",
    "            print('*'*self.n)\n",
    "            fn(*args,**kwargs)\n",
    "            print('*'*self.n)\n",
    "        return innerfunc\n",
    "        "
   ]
  },
  {
   "cell_type": "code",
   "execution_count": 33,
   "id": "addad9de",
   "metadata": {},
   "outputs": [],
   "source": [
    "@starclass(5) # we are passing arguments to the decorator function\n",
    "def myprint(msg):\n",
    "    print(msg)"
   ]
  },
  {
   "cell_type": "code",
   "execution_count": 34,
   "id": "90caf7d0",
   "metadata": {},
   "outputs": [
    {
     "name": "stdout",
     "output_type": "stream",
     "text": [
      "*****\n",
      "cheng\n",
      "*****\n"
     ]
    }
   ],
   "source": [
    "myprint('cheng')"
   ]
  },
  {
   "cell_type": "code",
   "execution_count": 1,
   "id": "d529ad18",
   "metadata": {
    "ExecuteTime": {
     "end_time": "2022-04-11T08:41:42.152687Z",
     "start_time": "2022-04-11T08:41:42.137163Z"
    }
   },
   "outputs": [],
   "source": [
    "# ************************************************************************************************************************"
   ]
  },
  {
   "cell_type": "markdown",
   "id": "64cea298",
   "metadata": {},
   "source": [
    "### Nesting Functions"
   ]
  },
  {
   "cell_type": "code",
   "execution_count": 43,
   "id": "a94314d9",
   "metadata": {},
   "outputs": [],
   "source": [
    "def nest1():\n",
    "    print('i am nest1')\n",
    "    x= 10\n",
    "    def inner():\n",
    "        print(\"i am inner\")\n",
    "        print(x) # this is closure we will be able to enclosing function scope\n",
    "    return inner"
   ]
  },
  {
   "cell_type": "code",
   "execution_count": 44,
   "id": "27fcab0a",
   "metadata": {},
   "outputs": [
    {
     "name": "stdout",
     "output_type": "stream",
     "text": [
      "i am nest1\n"
     ]
    },
    {
     "data": {
      "text/plain": [
       "<function __main__.nest1.<locals>.inner()>"
      ]
     },
     "execution_count": 44,
     "metadata": {},
     "output_type": "execute_result"
    }
   ],
   "source": [
    "nest1()"
   ]
  },
  {
   "cell_type": "code",
   "execution_count": 45,
   "id": "594fef5e",
   "metadata": {},
   "outputs": [
    {
     "name": "stdout",
     "output_type": "stream",
     "text": [
      "i am nest1\n",
      "i am inner\n",
      "10\n"
     ]
    }
   ],
   "source": [
    "nest1()()"
   ]
  },
  {
   "cell_type": "markdown",
   "id": "415e7f4e",
   "metadata": {},
   "source": [
    "### Global"
   ]
  },
  {
   "cell_type": "code",
   "execution_count": 54,
   "id": "0ce08cde",
   "metadata": {},
   "outputs": [
    {
     "name": "stdout",
     "output_type": "stream",
     "text": [
      "9\n"
     ]
    }
   ],
   "source": [
    "def myfunc(a,b):\n",
    "    global result\n",
    "    result = a + b\n",
    "    \n",
    "myfunc(4,5)\n",
    "print(result)"
   ]
  }
 ],
 "metadata": {
  "kernelspec": {
   "display_name": "Python 3 (ipykernel)",
   "language": "python",
   "name": "python3"
  },
  "language_info": {
   "codemirror_mode": {
    "name": "ipython",
    "version": 3
   },
   "file_extension": ".py",
   "mimetype": "text/x-python",
   "name": "python",
   "nbconvert_exporter": "python",
   "pygments_lexer": "ipython3",
   "version": "3.10.0"
  },
  "varInspector": {
   "cols": {
    "lenName": 16,
    "lenType": 16,
    "lenVar": 40
   },
   "kernels_config": {
    "python": {
     "delete_cmd_postfix": "",
     "delete_cmd_prefix": "del ",
     "library": "var_list.py",
     "varRefreshCmd": "print(var_dic_list())"
    },
    "r": {
     "delete_cmd_postfix": ") ",
     "delete_cmd_prefix": "rm(",
     "library": "var_list.r",
     "varRefreshCmd": "cat(var_dic_list()) "
    }
   },
   "types_to_exclude": [
    "module",
    "function",
    "builtin_function_or_method",
    "instance",
    "_Feature"
   ],
   "window_display": false
  }
 },
 "nbformat": 4,
 "nbformat_minor": 5
}
