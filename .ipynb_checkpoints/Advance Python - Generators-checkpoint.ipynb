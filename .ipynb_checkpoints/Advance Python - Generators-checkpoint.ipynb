{
 "cells": [
  {
   "cell_type": "markdown",
   "id": "74136c02",
   "metadata": {},
   "source": [
    "## Generators\n",
    "\n",
    "<div class=\"alert alert-info\">\n",
    "A Python generator is a piece of specialized code able to produce a series of values, and to control the iteration process.\n",
    "\n",
    "A generator in python makes use of the 'yield' keyword. A python iterator doesn't. Python generator saves the states of the local variables every time 'yield' pauses the loop in python. An iterator does not make use of local variables, all it needs is iterable to iterate on\n",
    "</div>"
   ]
  },
  {
   "cell_type": "markdown",
   "id": "4464815b",
   "metadata": {},
   "source": [
    "Python generators are functions that contain at least one yield statement.\n",
    "\n",
    "A generator function returns a generator object.\n",
    "\n",
    "A generator object is an iterator. Therefore, it becomes exhausted once there’s no remaining item to return."
   ]
  },
  {
   "cell_type": "markdown",
   "id": "a55ee418",
   "metadata": {},
   "source": [
    "To pause a function midway and resume from where the function was paused, you use the yield statement."
   ]
  },
  {
   "cell_type": "markdown",
   "id": "e0b9ab2f",
   "metadata": {},
   "source": [
    "Generator objects (or generators) implement the iterator protocol. In fact, generators are lazy iterators. Therefore, to execute a generator function, you call the next() built-in function on it"
   ]
  },
  {
   "cell_type": "markdown",
   "id": "4b92ceab",
   "metadata": {},
   "source": [
    "The return statement is where all the local variables are destroyed and the resulting value is given back (returned) to the caller. Should the same function be called some time later, the function will get a fresh new set of variables."
   ]
  },
  {
   "cell_type": "markdown",
   "id": "c0b624c9",
   "metadata": {},
   "source": [
    "But what if the local variables aren't thrown away when we exit a function? This implies that we can resume the function where we left off. This is where the concept of generators are introduced and the yield statement resumes where the function left off."
   ]
  },
  {
   "cell_type": "code",
   "execution_count": 1,
   "id": "b2565baf",
   "metadata": {
    "ExecuteTime": {
     "end_time": "2021-12-30T13:06:39.516110Z",
     "start_time": "2021-12-30T13:06:39.508253Z"
    }
   },
   "outputs": [],
   "source": [
    "def mygenerator():\n",
    "    yield(1)\n",
    "    yield(2)"
   ]
  },
  {
   "cell_type": "code",
   "execution_count": 2,
   "id": "775671e1",
   "metadata": {
    "ExecuteTime": {
     "end_time": "2021-12-30T13:06:39.529666Z",
     "start_time": "2021-12-30T13:06:39.518015Z"
    }
   },
   "outputs": [
    {
     "data": {
      "text/plain": [
       "generator"
      ]
     },
     "execution_count": 2,
     "metadata": {},
     "output_type": "execute_result"
    }
   ],
   "source": [
    "g = mygenerator()\n",
    "type(g)"
   ]
  },
  {
   "cell_type": "code",
   "execution_count": 3,
   "id": "f129bf99",
   "metadata": {
    "ExecuteTime": {
     "end_time": "2021-12-30T13:06:39.537562Z",
     "start_time": "2021-12-30T13:06:39.531232Z"
    }
   },
   "outputs": [
    {
     "name": "stdout",
     "output_type": "stream",
     "text": [
      "1\n",
      "2\n"
     ]
    }
   ],
   "source": [
    "print(next(g))\n",
    "print(next(g))"
   ]
  },
  {
   "cell_type": "code",
   "execution_count": 4,
   "id": "791d5c0f",
   "metadata": {
    "ExecuteTime": {
     "end_time": "2021-12-30T13:06:39.661107Z",
     "start_time": "2021-12-30T13:06:39.541455Z"
    }
   },
   "outputs": [
    {
     "ename": "StopIteration",
     "evalue": "",
     "output_type": "error",
     "traceback": [
      "\u001b[1;31m---------------------------------------------------------------------------\u001b[0m",
      "\u001b[1;31mStopIteration\u001b[0m                             Traceback (most recent call last)",
      "\u001b[1;32m~\\AppData\\Local\\Temp/ipykernel_20092/4253931490.py\u001b[0m in \u001b[0;36m<module>\u001b[1;34m\u001b[0m\n\u001b[1;32m----> 1\u001b[1;33m \u001b[0mnext\u001b[0m\u001b[1;33m(\u001b[0m\u001b[0mg\u001b[0m\u001b[1;33m)\u001b[0m\u001b[1;33m\u001b[0m\u001b[1;33m\u001b[0m\u001b[0m\n\u001b[0m",
      "\u001b[1;31mStopIteration\u001b[0m: "
     ]
    }
   ],
   "source": [
    "next(g)"
   ]
  },
  {
   "cell_type": "code",
   "execution_count": 20,
   "id": "33f948c0",
   "metadata": {
    "ExecuteTime": {
     "end_time": "2021-12-30T14:32:55.091091Z",
     "start_time": "2021-12-30T14:32:55.085251Z"
    }
   },
   "outputs": [
    {
     "data": {
      "text/plain": [
       "True"
      ]
     },
     "execution_count": 20,
     "metadata": {},
     "output_type": "execute_result"
    }
   ],
   "source": [
    "'__next__' in dir(g) "
   ]
  },
  {
   "cell_type": "code",
   "execution_count": 5,
   "id": "9df7c674",
   "metadata": {
    "ExecuteTime": {
     "end_time": "2021-12-30T13:06:45.568236Z",
     "start_time": "2021-12-30T13:06:45.563338Z"
    }
   },
   "outputs": [],
   "source": [
    "f = mygenerator()"
   ]
  },
  {
   "cell_type": "code",
   "execution_count": 6,
   "id": "961d1010",
   "metadata": {
    "ExecuteTime": {
     "end_time": "2021-12-30T13:06:47.919126Z",
     "start_time": "2021-12-30T13:06:47.915233Z"
    }
   },
   "outputs": [
    {
     "name": "stdout",
     "output_type": "stream",
     "text": [
      "2\n"
     ]
    }
   ],
   "source": [
    "for x in f:\n",
    "    print(next(f))"
   ]
  },
  {
   "cell_type": "code",
   "execution_count": 10,
   "id": "37a07e5b",
   "metadata": {
    "ExecuteTime": {
     "end_time": "2021-12-30T13:32:01.223418Z",
     "start_time": "2021-12-30T13:32:01.219338Z"
    }
   },
   "outputs": [],
   "source": [
    "def gen():\n",
    "    yield(list(range(10)))"
   ]
  },
  {
   "cell_type": "code",
   "execution_count": 12,
   "id": "cb6da033",
   "metadata": {
    "ExecuteTime": {
     "end_time": "2021-12-30T13:32:23.963019Z",
     "start_time": "2021-12-30T13:32:23.958027Z"
    }
   },
   "outputs": [
    {
     "data": {
      "text/plain": [
       "generator"
      ]
     },
     "execution_count": 12,
     "metadata": {},
     "output_type": "execute_result"
    }
   ],
   "source": [
    "g = gen()\n",
    "type(g)"
   ]
  },
  {
   "cell_type": "code",
   "execution_count": 11,
   "id": "13699719",
   "metadata": {
    "ExecuteTime": {
     "end_time": "2021-12-30T13:32:11.987852Z",
     "start_time": "2021-12-30T13:32:11.983004Z"
    }
   },
   "outputs": [
    {
     "name": "stdout",
     "output_type": "stream",
     "text": [
      "[0, 1, 2, 3, 4, 5, 6, 7, 8, 9]\n"
     ]
    }
   ],
   "source": [
    "for x in gen():\n",
    "    print(x)"
   ]
  },
  {
   "cell_type": "code",
   "execution_count": 14,
   "id": "cfe59f57",
   "metadata": {
    "ExecuteTime": {
     "end_time": "2021-12-30T13:40:22.299481Z",
     "start_time": "2021-12-30T13:40:22.294617Z"
    }
   },
   "outputs": [],
   "source": [
    "#generating fibonachi sequence\n",
    "def fib():\n",
    "    a,b = 0,1\n",
    "    while True:\n",
    "        yield a\n",
    "        a,b = b,a+b"
   ]
  },
  {
   "cell_type": "code",
   "execution_count": 18,
   "id": "17495e30",
   "metadata": {
    "ExecuteTime": {
     "end_time": "2021-12-30T13:42:02.714835Z",
     "start_time": "2021-12-30T13:42:02.709967Z"
    }
   },
   "outputs": [
    {
     "name": "stdout",
     "output_type": "stream",
     "text": [
      "0\n",
      "1\n",
      "1\n",
      "2\n",
      "3\n",
      "5\n",
      "8\n",
      "13\n"
     ]
    }
   ],
   "source": [
    "for f in fib():\n",
    "    if f > 20:\n",
    "        break\n",
    "    else:\n",
    "        print(f)    "
   ]
  },
  {
   "cell_type": "code",
   "execution_count": 5,
   "id": "27c8b224",
   "metadata": {
    "ExecuteTime": {
     "end_time": "2022-05-05T13:10:12.732157Z",
     "start_time": "2022-05-05T13:10:12.720821Z"
    }
   },
   "outputs": [
    {
     "name": "stdout",
     "output_type": "stream",
     "text": [
      "<class 'generator'>\n",
      "1 0 1 0 1 0 1 0 1 0 "
     ]
    }
   ],
   "source": [
    "# see the difference we have braces instead of square brackets\n",
    "the_generator = (1 if x % 2 == 0 else 0 for x in range(10))\n",
    "print(type(the_generator))\n",
    "\n",
    "for v in the_generator:\n",
    "    print(v, end=\" \")"
   ]
  },
  {
   "cell_type": "code",
   "execution_count": 2,
   "id": "72725b16",
   "metadata": {
    "ExecuteTime": {
     "end_time": "2022-05-05T13:08:37.801325Z",
     "start_time": "2022-05-05T13:08:37.782070Z"
    }
   },
   "outputs": [
    {
     "name": "stdout",
     "output_type": "stream",
     "text": [
      "1\n",
      "1\n",
      "2\n",
      "3\n",
      "5\n"
     ]
    }
   ],
   "source": [
    "# class based iterator fibonnaci series\n",
    "class Fib:\n",
    "    def __init__(self, nn):        \n",
    "        self.__n = nn\n",
    "        self.__i = 0\n",
    "        self.__p1 = self.__p2 = 1\n",
    "\n",
    "    def __iter__(self):        \n",
    "        return self\n",
    "\n",
    "    def __next__(self):        \n",
    "        self.__i += 1\n",
    "        if self.__i > self.__n:\n",
    "            raise StopIteration\n",
    "        if self.__i in [1, 2]:\n",
    "            return 1\n",
    "        ret = self.__p1 + self.__p2\n",
    "        self.__p1, self.__p2 = self.__p2, ret\n",
    "        return ret\n",
    "\n",
    "\n",
    "for i in Fib(5):\n",
    "    print(i)"
   ]
  }
 ],
 "metadata": {
  "kernelspec": {
   "display_name": "Python 3 (ipykernel)",
   "language": "python",
   "name": "python3"
  },
  "language_info": {
   "codemirror_mode": {
    "name": "ipython",
    "version": 3
   },
   "file_extension": ".py",
   "mimetype": "text/x-python",
   "name": "python",
   "nbconvert_exporter": "python",
   "pygments_lexer": "ipython3",
   "version": "3.10.0"
  },
  "varInspector": {
   "cols": {
    "lenName": 16,
    "lenType": 16,
    "lenVar": 40
   },
   "kernels_config": {
    "python": {
     "delete_cmd_postfix": "",
     "delete_cmd_prefix": "del ",
     "library": "var_list.py",
     "varRefreshCmd": "print(var_dic_list())"
    },
    "r": {
     "delete_cmd_postfix": ") ",
     "delete_cmd_prefix": "rm(",
     "library": "var_list.r",
     "varRefreshCmd": "cat(var_dic_list()) "
    }
   },
   "types_to_exclude": [
    "module",
    "function",
    "builtin_function_or_method",
    "instance",
    "_Feature"
   ],
   "window_display": false
  }
 },
 "nbformat": 4,
 "nbformat_minor": 5
}
