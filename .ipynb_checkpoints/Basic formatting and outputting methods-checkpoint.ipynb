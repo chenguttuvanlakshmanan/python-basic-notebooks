{
 "cells": [
  {
   "cell_type": "markdown",
   "id": "248b1f6a",
   "metadata": {},
   "source": [
    "# Basic formatting and outputting methods"
   ]
  },
  {
   "cell_type": "markdown",
   "id": "992878d8",
   "metadata": {},
   "source": [
    "## Output Formatting"
   ]
  },
  {
   "cell_type": "code",
   "execution_count": null,
   "id": "5dcfc19f",
   "metadata": {},
   "outputs": [],
   "source": [
    "# print Statement Options"
   ]
  },
  {
   "cell_type": "code",
   "execution_count": 49,
   "id": "1211e4b9",
   "metadata": {
    "ExecuteTime": {
     "end_time": "2022-04-06T11:12:08.258228Z",
     "start_time": "2022-04-06T11:12:08.251249Z"
    }
   },
   "outputs": [
    {
     "name": "stdout",
     "output_type": "stream",
     "text": [
      "PCAP certified chenguttuvan\n",
      "expert always\n"
     ]
    }
   ],
   "source": [
    "print(\"PCAP certified \" ,end= \"\")\n",
    "print(\"chenguttuvan\")\n",
    "print(\"expert\",\"always\")"
   ]
  },
  {
   "cell_type": "code",
   "execution_count": 4,
   "id": "71e0a8d0",
   "metadata": {
    "ExecuteTime": {
     "end_time": "2022-04-06T09:33:15.892297Z",
     "start_time": "2022-04-06T09:33:15.877440Z"
    }
   },
   "outputs": [
    {
     "name": "stdout",
     "output_type": "stream",
     "text": [
      "a,b\n"
     ]
    }
   ],
   "source": [
    "print(*[\"a\",\"b\"],sep=\",\")"
   ]
  },
  {
   "cell_type": "code",
   "execution_count": 7,
   "id": "0a6e93f0",
   "metadata": {
    "ExecuteTime": {
     "end_time": "2022-04-06T09:34:32.477563Z",
     "start_time": "2022-04-06T09:34:32.461617Z"
    }
   },
   "outputs": [
    {
     "name": "stdout",
     "output_type": "stream",
     "text": [
      "['c', 'h', 'e', 'n', 'g']\n"
     ]
    }
   ],
   "source": [
    "print(list(\"cheng\"))"
   ]
  },
  {
   "cell_type": "code",
   "execution_count": 64,
   "id": "4219ee4d",
   "metadata": {
    "ExecuteTime": {
     "end_time": "2022-04-06T11:54:49.646641Z",
     "start_time": "2022-04-06T11:54:49.631692Z"
    }
   },
   "outputs": [
    {
     "name": "stdout",
     "output_type": "stream",
     "text": [
      "my\"\n",
      "my\\\n"
     ]
    }
   ],
   "source": [
    "#escape sequence for quotes\n",
    "print(\"my\\\"\")\n",
    "print(\"my\\\\\")"
   ]
  },
  {
   "cell_type": "code",
   "execution_count": 2,
   "id": "3ba27209",
   "metadata": {
    "ExecuteTime": {
     "end_time": "2022-05-05T14:09:41.357035Z",
     "start_time": "2022-05-05T14:09:41.345724Z"
    }
   },
   "outputs": [
    {
     "data": {
      "text/plain": [
       "function"
      ]
     },
     "execution_count": 2,
     "metadata": {},
     "output_type": "execute_result"
    }
   ],
   "source": [
    "# pretty printing option in python\n",
    "from pprint import pprint as pp\n",
    "type(pp)\n"
   ]
  },
  {
   "cell_type": "code",
   "execution_count": 3,
   "id": "5149f438",
   "metadata": {
    "ExecuteTime": {
     "end_time": "2022-05-05T14:09:43.061243Z",
     "start_time": "2022-05-05T14:09:43.044782Z"
    }
   },
   "outputs": [
    {
     "name": "stdout",
     "output_type": "stream",
     "text": [
      "hello\n",
      "'hello'\n"
     ]
    }
   ],
   "source": [
    "print(\"hello\")\n",
    "pp(\"hello\")"
   ]
  },
  {
   "cell_type": "code",
   "execution_count": 60,
   "id": "a34d925f",
   "metadata": {
    "ExecuteTime": {
     "end_time": "2022-04-06T11:47:15.978309Z",
     "start_time": "2022-04-06T11:47:15.972295Z"
    }
   },
   "outputs": [
    {
     "name": "stdout",
     "output_type": "stream",
     "text": [
      "{'x': [0,\n",
      "       1,\n",
      "       1024,\n",
      "       59049,\n",
      "       1048576,\n",
      "       9765625,\n",
      "       60466176,\n",
      "       282475249,\n",
      "       1073741824,\n",
      "       3486784401,\n",
      "       10000000000,\n",
      "       25937424601]}\n"
     ]
    }
   ],
   "source": [
    "mydict = { 'x' : [x**10 for x in range(12)]}\n",
    "pp(mydict)"
   ]
  },
  {
   "cell_type": "code",
   "execution_count": 61,
   "id": "8bb4389f",
   "metadata": {
    "ExecuteTime": {
     "end_time": "2022-04-06T11:47:19.427788Z",
     "start_time": "2022-04-06T11:47:19.423891Z"
    }
   },
   "outputs": [
    {
     "name": "stdout",
     "output_type": "stream",
     "text": [
      "{'x': [0, 1, 1024, 59049, 1048576, 9765625, 60466176, 282475249, 1073741824, 3486784401, 10000000000, 25937424601]}\n"
     ]
    }
   ],
   "source": [
    "print(mydict)"
   ]
  },
  {
   "cell_type": "markdown",
   "id": "53df990c",
   "metadata": {},
   "source": [
    "## Input String Formatting"
   ]
  },
  {
   "cell_type": "code",
   "execution_count": 8,
   "id": "e3f88481",
   "metadata": {
    "ExecuteTime": {
     "end_time": "2022-04-06T10:27:05.724655Z",
     "start_time": "2022-04-06T10:27:05.707710Z"
    }
   },
   "outputs": [
    {
     "data": {
      "text/plain": [
       "'this year is 2022'"
      ]
     },
     "execution_count": 8,
     "metadata": {},
     "output_type": "execute_result"
    }
   ],
   "source": [
    "year = 2022\n",
    "f\"this year is {year}\""
   ]
  },
  {
   "cell_type": "code",
   "execution_count": 11,
   "id": "649bcab6",
   "metadata": {
    "ExecuteTime": {
     "end_time": "2022-04-06T10:28:25.678193Z",
     "start_time": "2022-04-06T10:28:25.664194Z"
    }
   },
   "outputs": [
    {
     "data": {
      "text/plain": [
       "'percentage 20.35%'"
      ]
     },
     "execution_count": 11,
     "metadata": {},
     "output_type": "execute_result"
    }
   ],
   "source": [
    "percen = .203456 # value shoud be between 0 and 1\n",
    "f\"percentage {percen:.2%}\""
   ]
  },
  {
   "cell_type": "code",
   "execution_count": 12,
   "id": "9d0d1071",
   "metadata": {
    "ExecuteTime": {
     "end_time": "2022-04-06T10:29:17.022677Z",
     "start_time": "2022-04-06T10:29:17.007752Z"
    }
   },
   "outputs": [
    {
     "data": {
      "text/plain": [
       "'float number is  20.36'"
      ]
     },
     "execution_count": 12,
     "metadata": {},
     "output_type": "execute_result"
    }
   ],
   "source": [
    "myfloat = 20.356\n",
    "f\"float number is {myfloat : 2.2f}\""
   ]
  },
  {
   "cell_type": "code",
   "execution_count": 22,
   "id": "dd6fbce0",
   "metadata": {
    "ExecuteTime": {
     "end_time": "2022-04-06T10:38:11.636538Z",
     "start_time": "2022-04-06T10:38:11.628597Z"
    }
   },
   "outputs": [
    {
     "data": {
      "text/plain": [
       "'formatted dictionary is chenguttuvan'"
      ]
     },
     "execution_count": 22,
     "metadata": {},
     "output_type": "execute_result"
    }
   ],
   "source": [
    "mydict = dict( name = \"chenguttuvan\")\n",
    "mynumber = dict( num1 = 123 )\n",
    "f\"formatted dictionary is {mydict['name']}\""
   ]
  },
  {
   "cell_type": "code",
   "execution_count": 23,
   "id": "3f7d1d39",
   "metadata": {
    "ExecuteTime": {
     "end_time": "2022-04-06T10:38:13.851193Z",
     "start_time": "2022-04-06T10:38:13.848106Z"
    }
   },
   "outputs": [
    {
     "data": {
      "text/plain": [
       "'formatted dictionary is  123'"
      ]
     },
     "execution_count": 23,
     "metadata": {},
     "output_type": "execute_result"
    }
   ],
   "source": [
    "f\"formatted dictionary is {mynumber['num1'] : 4d}\" # see space is added before 123"
   ]
  },
  {
   "cell_type": "code",
   "execution_count": 68,
   "id": "8a8326fe",
   "metadata": {
    "ExecuteTime": {
     "end_time": "2022-04-06T12:01:40.743703Z",
     "start_time": "2022-04-06T12:01:40.727736Z"
    }
   },
   "outputs": [
    {
     "data": {
      "text/plain": [
       "'formatted dictionary is  123.0000'"
      ]
     },
     "execution_count": 68,
     "metadata": {},
     "output_type": "execute_result"
    }
   ],
   "source": [
    "mynum = 123.00\n",
    "f\"formatted dictionary is {mynum : 4.4f}\""
   ]
  },
  {
   "cell_type": "code",
   "execution_count": 73,
   "id": "1f791f9a",
   "metadata": {
    "ExecuteTime": {
     "end_time": "2022-04-06T12:03:22.221742Z",
     "start_time": "2022-04-06T12:03:22.203841Z"
    }
   },
   "outputs": [
    {
     "data": {
      "text/plain": [
       "'expert is cheng '"
      ]
     },
     "execution_count": 73,
     "metadata": {},
     "output_type": "execute_result"
    }
   ],
   "source": [
    "mystring = \"cheng\"\n",
    "f\"expert is {mystring :6s}\" # we can see the space at the end"
   ]
  },
  {
   "cell_type": "code",
   "execution_count": 26,
   "id": "3d2df66f",
   "metadata": {
    "ExecuteTime": {
     "end_time": "2022-04-06T10:41:31.616993Z",
     "start_time": "2022-04-06T10:41:31.608024Z"
    }
   },
   "outputs": [
    {
     "data": {
      "text/plain": [
       "\"chenguttuvan is 'expert'\""
      ]
     },
     "execution_count": 26,
     "metadata": {},
     "output_type": "execute_result"
    }
   ],
   "source": [
    "mystring = 'expert'\n",
    "f\"chenguttuvan is {mystring!r}\" # in the output we can see the additional single quotes"
   ]
  },
  {
   "cell_type": "code",
   "execution_count": 41,
   "id": "dfda8992",
   "metadata": {
    "ExecuteTime": {
     "end_time": "2022-04-06T10:59:22.361191Z",
     "start_time": "2022-04-06T10:59:22.348331Z"
    }
   },
   "outputs": [
    {
     "name": "stdout",
     "output_type": "stream",
     "text": [
      " my string 12 13\n",
      " my string other 12 13\n",
      " my string other 12.26 13\n"
     ]
    }
   ],
   "source": [
    "# string format method\n",
    "print(\" my string {} {}\".format( 12,13))\n",
    "print(\" my string {other} {} {}\".format( 12,13,other=\"other\"))\n",
    "print(\" my string {other} {x:2.2f} {y}\".format( x= float(12.256), y =13,other=\"other\"))"
   ]
  },
  {
   "cell_type": "code",
   "execution_count": 42,
   "id": "5aeb589c",
   "metadata": {
    "ExecuteTime": {
     "end_time": "2022-04-06T11:01:34.986435Z",
     "start_time": "2022-04-06T11:01:34.975494Z"
    }
   },
   "outputs": [
    {
     "data": {
      "text/plain": [
       "'my string from dict is cheng'"
      ]
     },
     "execution_count": 42,
     "metadata": {},
     "output_type": "execute_result"
    }
   ],
   "source": [
    "mydict = {\"name\" : \"cheng\"}\n",
    "\"my string from dict is {name}\".format(**mydict)"
   ]
  },
  {
   "cell_type": "code",
   "execution_count": 44,
   "id": "2b7eea8b",
   "metadata": {
    "ExecuteTime": {
     "end_time": "2022-04-06T11:04:33.532911Z",
     "start_time": "2022-04-06T11:04:33.516007Z"
    }
   },
   "outputs": [
    {
     "data": {
      "text/plain": [
       "'mynumber is    200'"
      ]
     },
     "execution_count": 44,
     "metadata": {},
     "output_type": "execute_result"
    }
   ],
   "source": [
    "\"mynumber is {0:6d}\".format(200)"
   ]
  },
  {
   "cell_type": "code",
   "execution_count": 45,
   "id": "23b1b971",
   "metadata": {
    "ExecuteTime": {
     "end_time": "2022-04-06T11:05:31.240524Z",
     "start_time": "2022-04-06T11:05:31.223569Z"
    }
   },
   "outputs": [
    {
     "data": {
      "text/plain": [
       "'mypercentage is 23.57%'"
      ]
     },
     "execution_count": 45,
     "metadata": {},
     "output_type": "execute_result"
    }
   ],
   "source": [
    "\"mypercentage is {0:.2%}\".format(0.2356789)\n",
    "# we can reference the object passed using the index number"
   ]
  },
  {
   "cell_type": "code",
   "execution_count": 66,
   "id": "840d1f6e",
   "metadata": {
    "ExecuteTime": {
     "end_time": "2022-04-06T11:58:26.466362Z",
     "start_time": "2022-04-06T11:58:26.456395Z"
    }
   },
   "outputs": [
    {
     "name": "stdout",
     "output_type": "stream",
     "text": [
      "our string   take\n"
     ]
    }
   ],
   "source": [
    "mystring=\"take\"\n",
    "print(\"our string %6s\" %mystring)"
   ]
  },
  {
   "cell_type": "code",
   "execution_count": 47,
   "id": "fc625662",
   "metadata": {
    "ExecuteTime": {
     "end_time": "2022-04-06T11:09:19.046465Z",
     "start_time": "2022-04-06T11:09:19.031511Z"
    }
   },
   "outputs": [
    {
     "name": "stdout",
     "output_type": "stream",
     "text": [
      "the pi value is 3.142\n"
     ]
    }
   ],
   "source": [
    "# old string formating\n",
    "import math\n",
    "print(\"the pi value is %5.3f\" % math.pi)"
   ]
  },
  {
   "cell_type": "code",
   "execution_count": 75,
   "id": "76468bc8",
   "metadata": {
    "ExecuteTime": {
     "end_time": "2022-04-06T12:13:06.425843Z",
     "start_time": "2022-04-06T12:13:06.408782Z"
    }
   },
   "outputs": [
    {
     "data": {
      "text/plain": [
       "'my repr string\\\\n'"
      ]
     },
     "execution_count": 75,
     "metadata": {},
     "output_type": "execute_result"
    }
   ],
   "source": [
    "# string formatting as raw text with r\n",
    "r\"my repr string\\n\""
   ]
  },
  {
   "cell_type": "code",
   "execution_count": 1,
   "id": "a690ece1",
   "metadata": {
    "ExecuteTime": {
     "end_time": "2022-04-08T09:16:04.187914Z",
     "start_time": "2022-04-08T09:16:04.173887Z"
    }
   },
   "outputs": [
    {
     "name": "stdout",
     "output_type": "stream",
     "text": [
      "I have a Ford, it is a Mustang.\n"
     ]
    }
   ],
   "source": [
    "myorder = \"I have a {carname}, it is a {model}.\"\n",
    "print(myorder.format(carname = \"Ford\", model = \"Mustang\"))"
   ]
  },
  {
   "cell_type": "code",
   "execution_count": null,
   "id": "773c17b1",
   "metadata": {},
   "outputs": [],
   "source": []
  }
 ],
 "metadata": {
  "kernelspec": {
   "display_name": "Python 3 (ipykernel)",
   "language": "python",
   "name": "python3"
  },
  "language_info": {
   "codemirror_mode": {
    "name": "ipython",
    "version": 3
   },
   "file_extension": ".py",
   "mimetype": "text/x-python",
   "name": "python",
   "nbconvert_exporter": "python",
   "pygments_lexer": "ipython3",
   "version": "3.10.0"
  },
  "varInspector": {
   "cols": {
    "lenName": 16,
    "lenType": 16,
    "lenVar": 40
   },
   "kernels_config": {
    "python": {
     "delete_cmd_postfix": "",
     "delete_cmd_prefix": "del ",
     "library": "var_list.py",
     "varRefreshCmd": "print(var_dic_list())"
    },
    "r": {
     "delete_cmd_postfix": ") ",
     "delete_cmd_prefix": "rm(",
     "library": "var_list.r",
     "varRefreshCmd": "cat(var_dic_list()) "
    }
   },
   "types_to_exclude": [
    "module",
    "function",
    "builtin_function_or_method",
    "instance",
    "_Feature"
   ],
   "window_display": false
  }
 },
 "nbformat": 4,
 "nbformat_minor": 5
}
