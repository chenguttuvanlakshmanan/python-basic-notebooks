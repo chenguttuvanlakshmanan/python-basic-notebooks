{
 "cells": [
  {
   "cell_type": "markdown",
   "id": "b63d33b9",
   "metadata": {},
   "source": [
    "### Casting in python is therefore done using constructor functions:"
   ]
  },
  {
   "cell_type": "markdown",
   "id": "26d7adf8",
   "metadata": {},
   "source": [
    "    int() - constructs an integer number from an integer literal, a float literal (by removing all decimals), or a string literal (providing the string represents a whole number)\n",
    "    float() - constructs a float number from an integer literal, a float literal or a string literal (providing the string represents a float or an integer)\n",
    "    str() - constructs a string from a wide variety of data types, including strings, integer literals and float literals"
   ]
  },
  {
   "cell_type": "code",
   "execution_count": 3,
   "id": "0b57fdb6",
   "metadata": {
    "ExecuteTime": {
     "end_time": "2022-04-06T09:39:57.244168Z",
     "start_time": "2022-04-06T09:39:57.228258Z"
    }
   },
   "outputs": [
    {
     "data": {
      "text/plain": [
       "int"
      ]
     },
     "execution_count": 3,
     "metadata": {},
     "output_type": "execute_result"
    }
   ],
   "source": [
    "mystring = \"123\"\n",
    "type(int(mystring))"
   ]
  },
  {
   "cell_type": "code",
   "execution_count": 4,
   "id": "cdc573c1",
   "metadata": {
    "ExecuteTime": {
     "end_time": "2022-04-06T09:40:15.805330Z",
     "start_time": "2022-04-06T09:40:15.801345Z"
    }
   },
   "outputs": [
    {
     "data": {
      "text/plain": [
       "float"
      ]
     },
     "execution_count": 4,
     "metadata": {},
     "output_type": "execute_result"
    }
   ],
   "source": [
    "type(float(mystring))"
   ]
  },
  {
   "cell_type": "code",
   "execution_count": 5,
   "id": "eefebbbf",
   "metadata": {
    "ExecuteTime": {
     "end_time": "2022-04-06T09:40:26.060645Z",
     "start_time": "2022-04-06T09:40:26.052681Z"
    }
   },
   "outputs": [
    {
     "name": "stdout",
     "output_type": "stream",
     "text": [
      "123.0\n"
     ]
    }
   ],
   "source": [
    "print(float(mystring))"
   ]
  },
  {
   "cell_type": "code",
   "execution_count": 6,
   "id": "82906934",
   "metadata": {
    "ExecuteTime": {
     "end_time": "2022-04-06T09:40:46.383796Z",
     "start_time": "2022-04-06T09:40:46.376817Z"
    }
   },
   "outputs": [],
   "source": [
    "# covert to string we have 2 built in methods str() and repr()"
   ]
  },
  {
   "cell_type": "code",
   "execution_count": 1,
   "id": "9edb3268",
   "metadata": {
    "ExecuteTime": {
     "end_time": "2022-04-08T09:21:42.227420Z",
     "start_time": "2022-04-08T09:21:42.214462Z"
    }
   },
   "outputs": [
    {
     "name": "stdout",
     "output_type": "stream",
     "text": [
      "<class 'str'>\n",
      "'123'\n"
     ]
    }
   ],
   "source": [
    "mynumber = '123'\n",
    "print(type(repr(mynumber)))\n",
    "print(repr(mynumber)) # we can see the quotes in the print output for repr conversion"
   ]
  },
  {
   "cell_type": "code",
   "execution_count": 14,
   "id": "35dbc4a1",
   "metadata": {
    "ExecuteTime": {
     "end_time": "2022-04-06T12:18:49.481475Z",
     "start_time": "2022-04-06T12:18:47.151778Z"
    }
   },
   "outputs": [
    {
     "name": "stdout",
     "output_type": "stream",
     "text": [
      "enter a number20\n",
      "<class 'str'> | 20\n",
      "<class 'method'>\n"
     ]
    }
   ],
   "source": [
    "myvalue = input(\"enter a number\") # it always return string data type\n",
    "print(type(myvalue), myvalue,sep=' | ')\n",
    "print(type(input))"
   ]
  },
  {
   "cell_type": "code",
   "execution_count": null,
   "id": "22408bba",
   "metadata": {},
   "outputs": [],
   "source": []
  }
 ],
 "metadata": {
  "kernelspec": {
   "display_name": "Python 3 (ipykernel)",
   "language": "python",
   "name": "python3"
  },
  "language_info": {
   "codemirror_mode": {
    "name": "ipython",
    "version": 3
   },
   "file_extension": ".py",
   "mimetype": "text/x-python",
   "name": "python",
   "nbconvert_exporter": "python",
   "pygments_lexer": "ipython3",
   "version": "3.10.0"
  },
  "varInspector": {
   "cols": {
    "lenName": 16,
    "lenType": 16,
    "lenVar": 40
   },
   "kernels_config": {
    "python": {
     "delete_cmd_postfix": "",
     "delete_cmd_prefix": "del ",
     "library": "var_list.py",
     "varRefreshCmd": "print(var_dic_list())"
    },
    "r": {
     "delete_cmd_postfix": ") ",
     "delete_cmd_prefix": "rm(",
     "library": "var_list.r",
     "varRefreshCmd": "cat(var_dic_list()) "
    }
   },
   "types_to_exclude": [
    "module",
    "function",
    "builtin_function_or_method",
    "instance",
    "_Feature"
   ],
   "window_display": false
  }
 },
 "nbformat": 4,
 "nbformat_minor": 5
}
