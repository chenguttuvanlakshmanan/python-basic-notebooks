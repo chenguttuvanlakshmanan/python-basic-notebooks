{
 "cells": [
  {
   "cell_type": "markdown",
   "id": "ad4eee64",
   "metadata": {},
   "source": [
    "Exceptions:\n",
    "    \n",
    "    Each time your code tries to do something wrong/foolish/irresponsible/crazy/unenforceable, Python does two things:\n",
    "\n",
    "            it stops your program;\n",
    "            it creates a special kind of data, called an exception.\n",
    "             \n",
    "  try:\n",
    "    \n",
    "  except exc1:\n",
    "    \n",
    "  except exc2:\n",
    "    \n",
    "  except:\n",
    "\n",
    "In the exception error we can mention the actual exception or its base class exception\n",
    "example ArithmeticError can be used in place of ZeroDivisionError"
   ]
  },
  {
   "cell_type": "markdown",
   "id": "8ec04e39",
   "metadata": {},
   "source": [
    "ValueError: math domain error \n",
    "ZeroDivisionError: division by zero\n",
    "IndexError: list index out of range \n",
    "NameError: name 'prit' is not defined"
   ]
  },
  {
   "cell_type": "code",
   "execution_count": 3,
   "id": "9e483530",
   "metadata": {
    "ExecuteTime": {
     "end_time": "2022-05-10T11:26:05.028458Z",
     "start_time": "2022-05-10T11:26:05.016607Z"
    }
   },
   "outputs": [
    {
     "name": "stdout",
     "output_type": "stream",
     "text": [
      "error\n",
      "done\n"
     ]
    }
   ],
   "source": [
    "try:\n",
    "    a = 100 / 0\n",
    "except ZeroDivisionError:\n",
    "    print(\"error\")\n",
    "finally:\n",
    "    print(\"done\")"
   ]
  },
  {
   "cell_type": "code",
   "execution_count": 5,
   "id": "bfe989c7",
   "metadata": {
    "ExecuteTime": {
     "end_time": "2022-05-10T11:26:42.439590Z",
     "start_time": "2022-05-10T11:26:42.432072Z"
    }
   },
   "outputs": [
    {
     "name": "stdout",
     "output_type": "stream",
     "text": [
      "another\n",
      "done\n"
     ]
    }
   ],
   "source": [
    "try:\n",
    "    a = 100 / 10\n",
    "except ZeroDivisionError:\n",
    "    print(\"error\")\n",
    "else:\n",
    "    print(\"another\")\n",
    "finally:\n",
    "    print(\"done\")"
   ]
  },
  {
   "cell_type": "code",
   "execution_count": null,
   "id": "e52d31d4",
   "metadata": {},
   "outputs": [],
   "source": [
    "# Raise keyword to raise particular exception or raise the existing exception"
   ]
  },
  {
   "cell_type": "code",
   "execution_count": 7,
   "id": "c9244ebb",
   "metadata": {
    "ExecuteTime": {
     "end_time": "2022-05-10T11:44:46.430198Z",
     "start_time": "2022-05-10T11:44:46.419147Z"
    }
   },
   "outputs": [
    {
     "name": "stdout",
     "output_type": "stream",
     "text": [
      "error\n"
     ]
    },
    {
     "ename": "ZeroDivisionError",
     "evalue": "division by zero",
     "output_type": "error",
     "traceback": [
      "\u001b[1;31m---------------------------------------------------------------------------\u001b[0m",
      "\u001b[1;31mZeroDivisionError\u001b[0m                         Traceback (most recent call last)",
      "\u001b[1;32m~\\AppData\\Local\\Temp/ipykernel_9476/3070136819.py\u001b[0m in \u001b[0;36m<module>\u001b[1;34m\u001b[0m\n\u001b[0;32m      1\u001b[0m \u001b[1;32mtry\u001b[0m\u001b[1;33m:\u001b[0m\u001b[1;33m\u001b[0m\u001b[1;33m\u001b[0m\u001b[0m\n\u001b[1;32m----> 2\u001b[1;33m     \u001b[0ma\u001b[0m \u001b[1;33m=\u001b[0m \u001b[1;36m100\u001b[0m \u001b[1;33m/\u001b[0m \u001b[1;36m0\u001b[0m\u001b[1;33m\u001b[0m\u001b[1;33m\u001b[0m\u001b[0m\n\u001b[0m\u001b[0;32m      3\u001b[0m \u001b[1;32mexcept\u001b[0m \u001b[0mZeroDivisionError\u001b[0m\u001b[1;33m:\u001b[0m\u001b[1;33m\u001b[0m\u001b[1;33m\u001b[0m\u001b[0m\n\u001b[0;32m      4\u001b[0m     \u001b[0mprint\u001b[0m\u001b[1;33m(\u001b[0m\u001b[1;34m\"error\"\u001b[0m\u001b[1;33m)\u001b[0m\u001b[1;33m\u001b[0m\u001b[1;33m\u001b[0m\u001b[0m\n\u001b[0;32m      5\u001b[0m     \u001b[1;32mraise\u001b[0m\u001b[1;33m\u001b[0m\u001b[1;33m\u001b[0m\u001b[0m\n",
      "\u001b[1;31mZeroDivisionError\u001b[0m: division by zero"
     ]
    }
   ],
   "source": [
    "try:\n",
    "    a = 100 / 0\n",
    "except ZeroDivisionError:\n",
    "    print(\"error\")\n",
    "    raise"
   ]
  },
  {
   "cell_type": "markdown",
   "id": "9c4ee808",
   "metadata": {},
   "source": [
    "#### Assertion"
   ]
  },
  {
   "cell_type": "code",
   "execution_count": 10,
   "id": "02f3edd5",
   "metadata": {
    "ExecuteTime": {
     "end_time": "2022-05-10T11:46:38.029838Z",
     "start_time": "2022-05-10T11:46:34.351618Z"
    }
   },
   "outputs": [
    {
     "name": "stdout",
     "output_type": "stream",
     "text": [
      "Enter a number: -2\n"
     ]
    },
    {
     "ename": "AssertionError",
     "evalue": "",
     "output_type": "error",
     "traceback": [
      "\u001b[1;31m---------------------------------------------------------------------------\u001b[0m",
      "\u001b[1;31mAssertionError\u001b[0m                            Traceback (most recent call last)",
      "\u001b[1;32m~\\AppData\\Local\\Temp/ipykernel_9476/518628932.py\u001b[0m in \u001b[0;36m<module>\u001b[1;34m\u001b[0m\n\u001b[0;32m      2\u001b[0m \u001b[1;33m\u001b[0m\u001b[0m\n\u001b[0;32m      3\u001b[0m \u001b[0mx\u001b[0m \u001b[1;33m=\u001b[0m \u001b[0mfloat\u001b[0m\u001b[1;33m(\u001b[0m\u001b[0minput\u001b[0m\u001b[1;33m(\u001b[0m\u001b[1;34m\"Enter a number: \"\u001b[0m\u001b[1;33m)\u001b[0m\u001b[1;33m)\u001b[0m\u001b[1;33m\u001b[0m\u001b[1;33m\u001b[0m\u001b[0m\n\u001b[1;32m----> 4\u001b[1;33m \u001b[1;32massert\u001b[0m \u001b[0mx\u001b[0m \u001b[1;33m>=\u001b[0m \u001b[1;36m0.0\u001b[0m\u001b[1;33m\u001b[0m\u001b[1;33m\u001b[0m\u001b[0m\n\u001b[0m\u001b[0;32m      5\u001b[0m \u001b[1;33m\u001b[0m\u001b[0m\n\u001b[0;32m      6\u001b[0m \u001b[0mx\u001b[0m \u001b[1;33m=\u001b[0m \u001b[0mmath\u001b[0m\u001b[1;33m.\u001b[0m\u001b[0msqrt\u001b[0m\u001b[1;33m(\u001b[0m\u001b[0mx\u001b[0m\u001b[1;33m)\u001b[0m\u001b[1;33m\u001b[0m\u001b[1;33m\u001b[0m\u001b[0m\n",
      "\u001b[1;31mAssertionError\u001b[0m: "
     ]
    }
   ],
   "source": [
    "import math\n",
    "\n",
    "x = float(input(\"Enter a number: \"))\n",
    "assert x >= 0.0\n",
    "\n",
    "x = math.sqrt(x)\n",
    "\n",
    "print(x)"
   ]
  },
  {
   "cell_type": "markdown",
   "id": "5dbee448",
   "metadata": {},
   "source": [
    "except: and except BaseException = > both means same it take it implicitly\n",
    "\n",
    "ArithmeticError\n",
    "Location: BaseException ← Exception ← ArithmeticError\n",
    "\n",
    "OverflowError\n",
    "Location: BaseException ← Exception ← ArithmeticError ← OverflowError\n",
    "Description: a concrete exception raised when an operation produces a number too big to be successfully stored\n",
    "\n",
    "LookupError\n",
    "Location: BaseException ← Exception ← LookupError\n",
    "Description: an abstract exception including all exceptions caused by errors resulting from invalid references to different collections (lists, dictionaries, tuples, etc.)\n",
    "\n",
    "IndexError\n",
    "Location: BaseException ← Exception ← LookupError ← IndexError\n",
    "\n",
    "KeyError\n",
    "Location: BaseException ← Exception ← LookupError ← KeyError\n",
    "Description: a concrete exception raised when you try to access a collection's non-existent element (e.g., a dictionary's element)\n",
    "\n",
    "KeyboardInterrupt\n",
    "Location: BaseException ← KeyboardInterrupt\n",
    "\n",
    "MemoryError\n",
    "Location: BaseException ← Exception ← MemoryError\n",
    "Description: a concrete exception raised when an operation cannot be completed due to a lack of free memory.\n",
    "\n",
    "ImportError\n",
    "Location: BaseException ← Exception ← StandardError ← ImportError\n",
    "Description: a concrete exception raised when an import operation fails\n",
    "\n"
   ]
  }
 ],
 "metadata": {
  "kernelspec": {
   "display_name": "Python 3 (ipykernel)",
   "language": "python",
   "name": "python3"
  },
  "language_info": {
   "codemirror_mode": {
    "name": "ipython",
    "version": 3
   },
   "file_extension": ".py",
   "mimetype": "text/x-python",
   "name": "python",
   "nbconvert_exporter": "python",
   "pygments_lexer": "ipython3",
   "version": "3.10.0"
  },
  "varInspector": {
   "cols": {
    "lenName": 16,
    "lenType": 16,
    "lenVar": 40
   },
   "kernels_config": {
    "python": {
     "delete_cmd_postfix": "",
     "delete_cmd_prefix": "del ",
     "library": "var_list.py",
     "varRefreshCmd": "print(var_dic_list())"
    },
    "r": {
     "delete_cmd_postfix": ") ",
     "delete_cmd_prefix": "rm(",
     "library": "var_list.r",
     "varRefreshCmd": "cat(var_dic_list()) "
    }
   },
   "types_to_exclude": [
    "module",
    "function",
    "builtin_function_or_method",
    "instance",
    "_Feature"
   ],
   "window_display": false
  }
 },
 "nbformat": 4,
 "nbformat_minor": 5
}
