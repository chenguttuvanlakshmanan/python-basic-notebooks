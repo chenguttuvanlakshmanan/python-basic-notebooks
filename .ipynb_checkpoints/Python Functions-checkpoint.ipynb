{
 "cells": [
  {
   "cell_type": "markdown",
   "id": "102b26d2",
   "metadata": {},
   "source": [
    "Functions:\n",
    "    A good and attentive developer divides the code (or more accurately: the problem) into well-isolated pieces, and encodes each of them in the form of a function.\n",
    "\n",
    "This considerably simplifies the work of the program, because each piece of code can be encoded separately, and tested separately. The process described here is often called decomposition.\n",
    "\n",
    "def function(parameter):\n",
    "    ###\n",
    "    \n",
    "parameters live inside functions (this is their natural environment)\n",
    "arguments exist outside functions, and are carriers of values passed to corresponding parameters.\n",
    "\n",
    "A technique which assigns the ith (first, second, and so on) argument to the ith (first, second, and so on) function parameter is called positional parameter passing, while arguments passed in this way are named positional arguments.\n",
    "\n",
    "\n",
    "Python offers another convention for passing arguments, where the meaning of the argument is dictated by its name, not by its position - it's called keyword argument passing.\n",
    "\n",
    "introduction(surname=\"Skywalker\", firstName=\"Luke\")\n",
    "\n",
    "You can mix both fashions if you want - there is only one unbreakable rule: you have to put positional arguments before keyword arguments.\n",
    "\n",
    "It happens at times that a particular parameter's values are in use more often than others. Such arguments may have their default (predefined) values taken into consideration when their corresponding arguments have been omitted\n",
    "\n",
    "def introduction(firstName, lastName=\"Smith\"):\n",
    "    print(\"Hello, my name is\", fistName, lastName)\n",
    "    \n",
    "return :\n",
    "\n",
    "    it causes the immediate termination of the function's execution (nothing new compared to the first variant)\n",
    "    moreover, the function will evaluate the expression's value and will return (hence the name once again) it as the function's result.\n",
    "    \n",
    "The return instruction, enriched with the expression (the expression is very simple here), \"transports\" the expression's value to the place where the function has been invoked.\n",
    "\n",
    "if a function doesn't return a certain value using a return expression clause, it is assumed that it implicitly returns None.\n",
    "\n"
   ]
  },
  {
   "cell_type": "markdown",
   "id": "981abe83",
   "metadata": {},
   "source": [
    "SCope :\n",
    "    \n",
    "    The scope of a name (e.g., a variable name) is the part of a code where the name is properly recognizable.\n",
    "\n",
    "For example, the scope of a function's parameter is the function itself. The parameter is inaccessible outside the function.\n",
    "\n",
    "\n",
    "A variable existing outside a function has a scope inside the functions' bodies, excluding those of them which define a variable of the same name.\n",
    "\n",
    "global ketword =>this name becomes global (it has a global scope, and it doesn't matter whether it's the subject of read or assign).\n",
    "\n",
    "def myfunc():\n",
    "    global var\n",
    "    var = 2\n",
    "\n"
   ]
  },
  {
   "cell_type": "code",
   "execution_count": 2,
   "id": "7d7b241b",
   "metadata": {
    "ExecuteTime": {
     "end_time": "2022-05-09T04:31:26.825192Z",
     "start_time": "2022-05-09T04:31:26.812725Z"
    }
   },
   "outputs": [
    {
     "name": "stdout",
     "output_type": "stream",
     "text": [
      "[2, 3]\n",
      "[2, 3]\n"
     ]
    }
   ],
   "source": [
    "def myFunction(myList1):\n",
    "    print(myList1)\n",
    "    myList1 = [0, 1]\n",
    "\n",
    "myList2 = [2, 3]\n",
    "myFunction(myList2)\n",
    "print(myList2)"
   ]
  },
  {
   "cell_type": "markdown",
   "id": "200dd110",
   "metadata": {},
   "source": [
    " function receives the argument's value, not the argument itself. This is true for scalars.\n",
    "    \n",
    "if the argument is a list, then changing the value of the corresponding parameter doesn't affect the list (remember: variables containing lists are stored in a different way than scalars)\n",
    "but if you change a list identified by the parameter (note: the list, not the parameter!), the list will reflect the change"
   ]
  },
  {
   "cell_type": "code",
   "execution_count": 3,
   "id": "0667fee4",
   "metadata": {
    "ExecuteTime": {
     "end_time": "2022-05-09T04:32:41.878448Z",
     "start_time": "2022-05-09T04:32:41.865338Z"
    }
   },
   "outputs": [
    {
     "name": "stdout",
     "output_type": "stream",
     "text": [
      "[2, 3]\n",
      "[3]\n"
     ]
    }
   ],
   "source": [
    "def myFunction(myList1):\n",
    "    print(myList1)\n",
    "    del myList1[0]\n",
    "\n",
    "myList2 = [2, 3]\n",
    "myFunction(myList2)\n",
    "print(myList2)"
   ]
  },
  {
   "cell_type": "code",
   "execution_count": 4,
   "id": "23ab09a1",
   "metadata": {
    "ExecuteTime": {
     "end_time": "2022-05-09T04:41:46.837907Z",
     "start_time": "2022-05-09T04:41:46.828983Z"
    }
   },
   "outputs": [
    {
     "name": "stdout",
     "output_type": "stream",
     "text": [
      "1 1\n",
      "2 2\n",
      "3 6\n",
      "4 24\n",
      "5 120\n"
     ]
    }
   ],
   "source": [
    "# factorial function\n",
    "def factorialFun(n):\n",
    "    if n < 0:\n",
    "        return None\n",
    "    if n < 2:\n",
    "        return 1\n",
    "    \n",
    "    product = 1\n",
    "    for i in range(2, n + 1):\n",
    "        product *= i\n",
    "    return product\n",
    "\n",
    "for n in range(1, 6): # testing\n",
    "    print(n, factorialFun(n))"
   ]
  },
  {
   "cell_type": "markdown",
   "id": "893374b4",
   "metadata": {},
   "source": [
    "Recursion :\n",
    "    \n",
    "     technique where a function invokes itself and stops itself with a boundary condition\n",
    "        "
   ]
  },
  {
   "cell_type": "code",
   "execution_count": 10,
   "id": "2dbbdefc",
   "metadata": {
    "ExecuteTime": {
     "end_time": "2022-05-09T04:47:06.331606Z",
     "start_time": "2022-05-09T04:47:06.313099Z"
    }
   },
   "outputs": [],
   "source": [
    "def fib(n):\n",
    "    if n < 1:\n",
    "        return None\n",
    "    if n < 3:\n",
    "        return 1    \n",
    "    return fib(n - 1) + fib(n - 2)"
   ]
  },
  {
   "cell_type": "code",
   "execution_count": 12,
   "id": "90a0c9f8",
   "metadata": {
    "ExecuteTime": {
     "end_time": "2022-05-09T04:47:50.378020Z",
     "start_time": "2022-05-09T04:47:50.361097Z"
    }
   },
   "outputs": [
    {
     "name": "stdout",
     "output_type": "stream",
     "text": [
      "1\n",
      "1\n",
      "2\n",
      "3\n"
     ]
    }
   ],
   "source": [
    "for i in range(1,5):\n",
    "    print(fib(i))"
   ]
  },
  {
   "cell_type": "code",
   "execution_count": 13,
   "id": "88edb24a",
   "metadata": {
    "ExecuteTime": {
     "end_time": "2022-05-09T04:51:23.747578Z",
     "start_time": "2022-05-09T04:51:23.740649Z"
    }
   },
   "outputs": [
    {
     "name": "stdout",
     "output_type": "stream",
     "text": [
      "56\n"
     ]
    }
   ],
   "source": [
    "def fun(a):\n",
    "    if a > 30:\n",
    "        return 3\n",
    "    else:\n",
    "        return a + fun(a + 3)\n",
    "\n",
    "print(fun(25))"
   ]
  },
  {
   "cell_type": "code",
   "execution_count": null,
   "id": "720b0766",
   "metadata": {},
   "outputs": [],
   "source": []
  }
 ],
 "metadata": {
  "kernelspec": {
   "display_name": "Python 3 (ipykernel)",
   "language": "python",
   "name": "python3"
  },
  "language_info": {
   "codemirror_mode": {
    "name": "ipython",
    "version": 3
   },
   "file_extension": ".py",
   "mimetype": "text/x-python",
   "name": "python",
   "nbconvert_exporter": "python",
   "pygments_lexer": "ipython3",
   "version": "3.10.0"
  },
  "varInspector": {
   "cols": {
    "lenName": 16,
    "lenType": 16,
    "lenVar": 40
   },
   "kernels_config": {
    "python": {
     "delete_cmd_postfix": "",
     "delete_cmd_prefix": "del ",
     "library": "var_list.py",
     "varRefreshCmd": "print(var_dic_list())"
    },
    "r": {
     "delete_cmd_postfix": ") ",
     "delete_cmd_prefix": "rm(",
     "library": "var_list.r",
     "varRefreshCmd": "cat(var_dic_list()) "
    }
   },
   "types_to_exclude": [
    "module",
    "function",
    "builtin_function_or_method",
    "instance",
    "_Feature"
   ],
   "window_display": false
  }
 },
 "nbformat": 4,
 "nbformat_minor": 5
}
