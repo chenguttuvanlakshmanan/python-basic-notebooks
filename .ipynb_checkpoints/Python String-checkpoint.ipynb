{
 "cells": [
  {
   "cell_type": "markdown",
   "id": "63c264de",
   "metadata": {},
   "source": [
    "Characters:\n",
    "    \n",
    "    Computers store characters as numbers. Every character used by a computer corresponds to a unique number, and vice versa\n",
    "    \n",
    "    The one named ASCII (short for American Standard Code for Information Interchange) is the most widely used, and you can assume that nearly all modern devices (like computers, printers, mobile phones, tablets, etc.) use that code.\n",
    "    \n",
    "    The first 128 bits for languages & general symbols and remaining 128 used for other purposes\n",
    "    \n",
    "        A code point is a number which makes a character. For example, 32 is a code point which makes a space in ASCII encoding. We can say that standard ASCII code consists of 128 code points.\n",
    "        \n",
    "        A code page is a standard for using the upper 128 code points to store specific national characters. For example, there are different code pages for Western Europe and Eastern Europe, Cyrillic and Greek alphabets, Arabic and Hebrew languages, and so on.\n",
    "        \n",
    "        To support all languages the unicode come in to rescue\n",
    "        \n",
    "        Unicode assigns unique (unambiguous) characters (letters, hyphens, ideograms, etc.) to more than a million code points. The first 128 Unicode code points are identical to ASCII, and the first 256 Unicode code points are identical to the ISO/IEC 8859-1 code page (a code page designed for western European languages).\n",
    "        \n",
    "        UCS-4 =>\n",
    "    The Unicode standard says nothing about how to code and store the characters in the memory and files. It only names all available characters and assigns them to planes (a group of characters of similar origin, application, or nature).\n",
    "    \n",
    "    python supports unicode and utf-8 Unicode Transformation Format.\n"
   ]
  },
  {
   "cell_type": "code",
   "execution_count": null,
   "id": "766bf06c",
   "metadata": {},
   "outputs": [],
   "source": [
    "Strings :\n",
    "    \n",
    "    Python strings are immutable sequence"
   ]
  },
  {
   "cell_type": "code",
   "execution_count": 17,
   "id": "c7efd2af",
   "metadata": {
    "ExecuteTime": {
     "end_time": "2022-05-10T08:33:33.261514Z",
     "start_time": "2022-05-10T08:33:33.242024Z"
    }
   },
   "outputs": [
    {
     "ename": "TypeError",
     "evalue": "'str' object does not support item assignment",
     "output_type": "error",
     "traceback": [
      "\u001b[1;31m---------------------------------------------------------------------------\u001b[0m",
      "\u001b[1;31mTypeError\u001b[0m                                 Traceback (most recent call last)",
      "\u001b[1;32m~\\AppData\\Local\\Temp/ipykernel_15456/3624178298.py\u001b[0m in \u001b[0;36m<module>\u001b[1;34m\u001b[0m\n\u001b[0;32m      1\u001b[0m \u001b[0mmys\u001b[0m \u001b[1;33m=\u001b[0m \u001b[1;34m\"cheng\"\u001b[0m\u001b[1;33m\u001b[0m\u001b[1;33m\u001b[0m\u001b[0m\n\u001b[1;32m----> 2\u001b[1;33m \u001b[0mmys\u001b[0m\u001b[1;33m[\u001b[0m\u001b[1;36m1\u001b[0m\u001b[1;33m]\u001b[0m \u001b[1;33m=\u001b[0m \u001b[1;34m'o'\u001b[0m\u001b[1;33m\u001b[0m\u001b[1;33m\u001b[0m\u001b[0m\n\u001b[0m",
      "\u001b[1;31mTypeError\u001b[0m: 'str' object does not support item assignment"
     ]
    }
   ],
   "source": [
    "mys = \"cheng\"\n",
    "mys[1] = 'o'"
   ]
  },
  {
   "cell_type": "code",
   "execution_count": 18,
   "id": "57c8bdaf",
   "metadata": {
    "ExecuteTime": {
     "end_time": "2022-05-10T08:33:40.764237Z",
     "start_time": "2022-05-10T08:33:40.749064Z"
    }
   },
   "outputs": [
    {
     "ename": "TypeError",
     "evalue": "'str' object doesn't support item deletion",
     "output_type": "error",
     "traceback": [
      "\u001b[1;31m---------------------------------------------------------------------------\u001b[0m",
      "\u001b[1;31mTypeError\u001b[0m                                 Traceback (most recent call last)",
      "\u001b[1;32m~\\AppData\\Local\\Temp/ipykernel_15456/1728521946.py\u001b[0m in \u001b[0;36m<module>\u001b[1;34m\u001b[0m\n\u001b[1;32m----> 1\u001b[1;33m \u001b[1;32mdel\u001b[0m \u001b[0mmys\u001b[0m\u001b[1;33m[\u001b[0m\u001b[1;36m0\u001b[0m\u001b[1;33m]\u001b[0m\u001b[1;33m\u001b[0m\u001b[1;33m\u001b[0m\u001b[0m\n\u001b[0m",
      "\u001b[1;31mTypeError\u001b[0m: 'str' object doesn't support item deletion"
     ]
    }
   ],
   "source": [
    "# we can not delete , update or insert\n",
    "del mys[0]"
   ]
  },
  {
   "cell_type": "code",
   "execution_count": 5,
   "id": "260df442",
   "metadata": {
    "ExecuteTime": {
     "end_time": "2022-05-10T08:24:15.741813Z",
     "start_time": "2022-05-10T08:24:15.722472Z"
    }
   },
   "outputs": [
    {
     "data": {
      "text/plain": [
       "str"
      ]
     },
     "execution_count": 5,
     "metadata": {},
     "output_type": "execute_result"
    }
   ],
   "source": [
    "# this is doc string enclosed triple quotes\n",
    "doc_string = \"\"\"\n",
    "cheng is python expert\n",
    "power bi pro\n",
    "\"\"\"\n",
    "type(doc_string)"
   ]
  },
  {
   "cell_type": "code",
   "execution_count": 9,
   "id": "dc2468c0",
   "metadata": {
    "ExecuteTime": {
     "end_time": "2022-05-10T08:25:54.226727Z",
     "start_time": "2022-05-10T08:25:54.213817Z"
    }
   },
   "outputs": [
    {
     "name": "stdout",
     "output_type": "stream",
     "text": [
      "cheng power bi pro\n",
      "expert expert expert \n"
     ]
    }
   ],
   "source": [
    "# operations on string concate & replicate\n",
    "# The ability to use the same operator against completely different kinds of data (like numbers vs. strings) is called overloading \n",
    "print(\"cheng\" + \" power bi pro\")\n",
    "print(\"expert \" * 3)"
   ]
  },
  {
   "cell_type": "code",
   "execution_count": 12,
   "id": "81e1bd6e",
   "metadata": {
    "ExecuteTime": {
     "end_time": "2022-05-10T08:30:12.386207Z",
     "start_time": "2022-05-10T08:30:12.369711Z"
    }
   },
   "outputs": [
    {
     "name": "stdout",
     "output_type": "stream",
     "text": [
      "97\n",
      "\n",
      "a\n"
     ]
    }
   ],
   "source": [
    "# to know the unicode value of a character which is numeric representation of character\n",
    "print(ord('a'))\n",
    "print()\n",
    "# vice versa once you know the numeric value how to get the actual character\n",
    "print(chr(97))"
   ]
  },
  {
   "cell_type": "code",
   "execution_count": 13,
   "id": "2d0ba897",
   "metadata": {
    "ExecuteTime": {
     "end_time": "2022-05-10T08:31:24.239368Z",
     "start_time": "2022-05-10T08:31:24.226415Z"
    }
   },
   "outputs": [
    {
     "name": "stdout",
     "output_type": "stream",
     "text": [
      "c | h | e | n | g | "
     ]
    }
   ],
   "source": [
    "# strings as sequence indexing\n",
    "for i in 'cheng':\n",
    "    print(i , end = \" | \")"
   ]
  },
  {
   "cell_type": "code",
   "execution_count": 14,
   "id": "2b1a9eda",
   "metadata": {
    "ExecuteTime": {
     "end_time": "2022-05-10T08:31:58.789442Z",
     "start_time": "2022-05-10T08:31:58.779748Z"
    }
   },
   "outputs": [
    {
     "data": {
      "text/plain": [
       "'che'"
      ]
     },
     "execution_count": 14,
     "metadata": {},
     "output_type": "execute_result"
    }
   ],
   "source": [
    "# string slices\n",
    "mys = \"cheng\"\n",
    "mys[:3]"
   ]
  },
  {
   "cell_type": "code",
   "execution_count": 16,
   "id": "736e9489",
   "metadata": {
    "ExecuteTime": {
     "end_time": "2022-05-10T08:33:04.321414Z",
     "start_time": "2022-05-10T08:33:04.317329Z"
    }
   },
   "outputs": [
    {
     "name": "stdout",
     "output_type": "stream",
     "text": [
      "True\n",
      "True\n"
     ]
    }
   ],
   "source": [
    "print('c' in 'cheng')\n",
    "\n",
    "print('f' not in 'cheng')"
   ]
  },
  {
   "cell_type": "code",
   "execution_count": 21,
   "id": "9a45a4e5",
   "metadata": {
    "ExecuteTime": {
     "end_time": "2022-05-10T08:39:22.155497Z",
     "start_time": "2022-05-10T08:39:22.137396Z"
    }
   },
   "outputs": [
    {
     "name": "stdout",
     "output_type": "stream",
     "text": [
      "A c\n",
      "97 65\n"
     ]
    }
   ],
   "source": [
    "# calculation of min based on the ord value to the character\n",
    "print(min(\"abcA\") , max(\"abcA\"))\n",
    "print(ord('a') ,ord('A'))"
   ]
  },
  {
   "cell_type": "code",
   "execution_count": 23,
   "id": "1c4edf9f",
   "metadata": {
    "ExecuteTime": {
     "end_time": "2022-05-10T08:40:28.137733Z",
     "start_time": "2022-05-10T08:40:28.121597Z"
    }
   },
   "outputs": [
    {
     "data": {
      "text/plain": [
       "0"
      ]
     },
     "execution_count": 23,
     "metadata": {},
     "output_type": "execute_result"
    }
   ],
   "source": [
    "# index method find the position in the sequence\n",
    "mystring = 'cheng'\n",
    "mystring.index('c')"
   ]
  },
  {
   "cell_type": "code",
   "execution_count": 24,
   "id": "ace90346",
   "metadata": {
    "ExecuteTime": {
     "end_time": "2022-05-10T08:41:41.531948Z",
     "start_time": "2022-05-10T08:41:41.525435Z"
    }
   },
   "outputs": [
    {
     "data": {
      "text/plain": [
       "['c', 'h', 'e', 'n', 'g']"
      ]
     },
     "execution_count": 24,
     "metadata": {},
     "output_type": "execute_result"
    }
   ],
   "source": [
    "# LIST ON STRINGS\n",
    "list(mystring)"
   ]
  },
  {
   "cell_type": "code",
   "execution_count": 25,
   "id": "2e264a88",
   "metadata": {
    "ExecuteTime": {
     "end_time": "2022-05-10T08:42:04.544875Z",
     "start_time": "2022-05-10T08:42:04.529281Z"
    }
   },
   "outputs": [
    {
     "data": {
      "text/plain": [
       "0"
      ]
     },
     "execution_count": 25,
     "metadata": {},
     "output_type": "execute_result"
    }
   ],
   "source": [
    "# count method\n",
    "mystring.count('d')"
   ]
  },
  {
   "cell_type": "code",
   "execution_count": 57,
   "id": "cb280285",
   "metadata": {
    "ExecuteTime": {
     "end_time": "2022-05-10T09:07:36.329383Z",
     "start_time": "2022-05-10T09:07:36.318264Z"
    }
   },
   "outputs": [
    {
     "name": "stdout",
     "output_type": "stream",
     "text": [
      "Cheng\n",
      "CHENG\n",
      "abc\n",
      "CHENG\n",
      "Cheng Is A Expert\n",
      "______________\n",
      "True\n",
      "True\n",
      "True\n",
      "False\n",
      "True\n",
      "False\n",
      "True\n"
     ]
    }
   ],
   "source": [
    "# string methods\n",
    "print(mystring.capitalize())\n",
    "print(mystring.upper())\n",
    "print(\"ABC\".lower())\n",
    "print(\"cheng\".swapcase())\n",
    "print(\"cheng is a expert\".title())\n",
    "print(\"______________\")\n",
    "print(mystring.startswith('c'))\n",
    "print(mystring.endswith('g'))\n",
    "print(mystring.isalnum())\n",
    "print(\"abc10\".isalpha())\n",
    "print(\"100\".isdigit())\n",
    "print(\"ab c\".isspace())\n",
    "print(\"ab c\".islower())"
   ]
  },
  {
   "cell_type": "code",
   "execution_count": 43,
   "id": "9f5b55ad",
   "metadata": {
    "ExecuteTime": {
     "end_time": "2022-05-10T08:59:20.381707Z",
     "start_time": "2022-05-10T08:59:20.373991Z"
    }
   },
   "outputs": [
    {
     "name": "stdout",
     "output_type": "stream",
     "text": [
      "cheng   \n",
      "           cheng\n"
     ]
    }
   ],
   "source": [
    "# string methods\n",
    "print(\"  cheng   \".lstrip())\n",
    "print(\"           cheng \".rstrip())"
   ]
  },
  {
   "cell_type": "code",
   "execution_count": 30,
   "id": "56775cae",
   "metadata": {
    "ExecuteTime": {
     "end_time": "2022-05-10T08:46:15.904707Z",
     "start_time": "2022-05-10T08:46:15.900641Z"
    }
   },
   "outputs": [
    {
     "data": {
      "text/plain": [
       "'$$$$$$$cheng$$$$$$$$'"
      ]
     },
     "execution_count": 30,
     "metadata": {},
     "output_type": "execute_result"
    }
   ],
   "source": [
    "# centre used to position a string with the fixed width specified\n",
    "mystring.center(20,\"$\")"
   ]
  },
  {
   "cell_type": "markdown",
   "id": "44e60e6b",
   "metadata": {},
   "source": [
    "#### find method\n",
    "\n",
    "The find() method is similar to index(), which you already know - it looks for a substring and returns the index of first occurrence of this substring, but:\n",
    "\n",
    "it's safer - it doesn't generate an error for an argument containing a non-existent substring (it returns -1 then)\n",
    "it works with strings only - don't try to apply it to any other sequence."
   ]
  },
  {
   "cell_type": "code",
   "execution_count": 34,
   "id": "00e2c177",
   "metadata": {
    "ExecuteTime": {
     "end_time": "2022-05-10T08:48:50.145703Z",
     "start_time": "2022-05-10T08:48:50.132058Z"
    }
   },
   "outputs": [
    {
     "data": {
      "text/plain": [
       "1"
      ]
     },
     "execution_count": 34,
     "metadata": {},
     "output_type": "execute_result"
    }
   ],
   "source": [
    "mystring.find(\"h\")"
   ]
  },
  {
   "cell_type": "code",
   "execution_count": 41,
   "id": "37e277ee",
   "metadata": {
    "ExecuteTime": {
     "end_time": "2022-05-10T08:55:43.649490Z",
     "start_time": "2022-05-10T08:55:43.632644Z"
    }
   },
   "outputs": [
    {
     "data": {
      "text/plain": [
       "'cheng * is a pro'"
      ]
     },
     "execution_count": 41,
     "metadata": {},
     "output_type": "execute_result"
    }
   ],
   "source": [
    "# join method is a unique methods to generate string\n",
    "\" * \".join([\"cheng\",\"is a pro\"])"
   ]
  },
  {
   "cell_type": "markdown",
   "id": "7352c626",
   "metadata": {},
   "source": [
    "#### Replace\n",
    "\n",
    " returns a copy of the original string in which all occurrences of the first argument have been replaced by the second argument."
   ]
  },
  {
   "cell_type": "code",
   "execution_count": 50,
   "id": "d65abdbe",
   "metadata": {
    "ExecuteTime": {
     "end_time": "2022-05-10T09:02:03.720125Z",
     "start_time": "2022-05-10T09:02:03.708126Z"
    }
   },
   "outputs": [
    {
     "data": {
      "text/plain": [
       "'thare is'"
      ]
     },
     "execution_count": 50,
     "metadata": {},
     "output_type": "execute_result"
    }
   ],
   "source": [
    "\"this is\".replace(\"is\",\"are\",1) # we can replace the exact occurence\n"
   ]
  },
  {
   "cell_type": "code",
   "execution_count": 51,
   "id": "51d43133",
   "metadata": {
    "ExecuteTime": {
     "end_time": "2022-05-10T09:03:47.935975Z",
     "start_time": "2022-05-10T09:03:47.924620Z"
    }
   },
   "outputs": [
    {
     "data": {
      "text/plain": [
       "5"
      ]
     },
     "execution_count": 51,
     "metadata": {},
     "output_type": "execute_result"
    }
   ],
   "source": [
    "\"this is\".rfind('is')"
   ]
  },
  {
   "cell_type": "code",
   "execution_count": 54,
   "id": "ced71749",
   "metadata": {
    "ExecuteTime": {
     "end_time": "2022-05-10T09:05:31.499592Z",
     "start_time": "2022-05-10T09:05:31.484234Z"
    }
   },
   "outputs": [
    {
     "data": {
      "text/plain": [
       "['cheng is a ', 'expert']"
      ]
     },
     "execution_count": 54,
     "metadata": {},
     "output_type": "execute_result"
    }
   ],
   "source": [
    "# split method retuns a list we need to remember and we can specify the split condition also\n",
    "\"cheng is a @expert\".split('@')"
   ]
  },
  {
   "cell_type": "markdown",
   "id": "9452f186",
   "metadata": {},
   "source": [
    "#### Comparing Strings\n",
    "\n",
    "The final relation between strings is determined by comparing the first different character in both strings (keep ASCII/UNICODE code points in mind at all times.)\n",
    "\n",
    "When you compare two strings of different lengths and the shorter one is identical to the longer one's beginning, the longer string is considered greater."
   ]
  },
  {
   "cell_type": "code",
   "execution_count": 59,
   "id": "ef661446",
   "metadata": {
    "ExecuteTime": {
     "end_time": "2022-05-10T09:16:40.523888Z",
     "start_time": "2022-05-10T09:16:40.511062Z"
    }
   },
   "outputs": [
    {
     "name": "stdout",
     "output_type": "stream",
     "text": [
      "True True\n"
     ]
    }
   ],
   "source": [
    "print('alpha' == 'alpha',\\\n",
    "'alpha' != 'Alpha')"
   ]
  },
  {
   "cell_type": "code",
   "execution_count": 61,
   "id": "8935bc0b",
   "metadata": {
    "ExecuteTime": {
     "end_time": "2022-05-10T09:17:35.013928Z",
     "start_time": "2022-05-10T09:17:35.010757Z"
    }
   },
   "outputs": [
    {
     "name": "stdout",
     "output_type": "stream",
     "text": [
      "True\n",
      "True\n"
     ]
    }
   ],
   "source": [
    "print('alpha' < 'alphabet')\n",
    "print('beta' > 'Beta')"
   ]
  },
  {
   "cell_type": "code",
   "execution_count": 67,
   "id": "b9f57c0c",
   "metadata": {
    "ExecuteTime": {
     "end_time": "2022-05-10T09:24:08.870097Z",
     "start_time": "2022-05-10T09:24:08.846246Z"
    }
   },
   "outputs": [
    {
     "name": "stdout",
     "output_type": "stream",
     "text": [
      "False True False True\n",
      "True\n",
      "True\n",
      "False\n"
     ]
    },
    {
     "ename": "TypeError",
     "evalue": "'>' not supported between instances of 'str' and 'int'",
     "output_type": "error",
     "traceback": [
      "\u001b[1;31m---------------------------------------------------------------------------\u001b[0m",
      "\u001b[1;31mTypeError\u001b[0m                                 Traceback (most recent call last)",
      "\u001b[1;32m~\\AppData\\Local\\Temp/ipykernel_15456/832409646.py\u001b[0m in \u001b[0;36m<module>\u001b[1;34m\u001b[0m\n\u001b[0;32m      3\u001b[0m \u001b[0mprint\u001b[0m\u001b[1;33m(\u001b[0m\u001b[1;34m'10'\u001b[0m \u001b[1;33m>\u001b[0m \u001b[1;34m'010'\u001b[0m\u001b[1;33m)\u001b[0m\u001b[1;33m\u001b[0m\u001b[1;33m\u001b[0m\u001b[0m\n\u001b[0;32m      4\u001b[0m \u001b[0mprint\u001b[0m\u001b[1;33m(\u001b[0m\u001b[1;34m'10'\u001b[0m \u001b[1;33m==\u001b[0m \u001b[1;34m'010'\u001b[0m\u001b[1;33m)\u001b[0m\u001b[1;33m\u001b[0m\u001b[1;33m\u001b[0m\u001b[0m\n\u001b[1;32m----> 5\u001b[1;33m \u001b[0mprint\u001b[0m\u001b[1;33m(\u001b[0m\u001b[1;34m'10'\u001b[0m \u001b[1;33m>\u001b[0m \u001b[1;36m10\u001b[0m\u001b[1;33m)\u001b[0m\u001b[1;33m\u001b[0m\u001b[1;33m\u001b[0m\u001b[0m\n\u001b[0m",
      "\u001b[1;31mTypeError\u001b[0m: '>' not supported between instances of 'str' and 'int'"
     ]
    }
   ],
   "source": [
    "print('10' == 10 ,'10' != 10 ,'10' == 1 , '10' != 1 )\n",
    "print(\"20\" < \"80\")\n",
    "print('10' > '010')\n",
    "print('10' == '010')\n",
    "print('10' > 10)"
   ]
  },
  {
   "cell_type": "markdown",
   "id": "c7dee4fb",
   "metadata": {
    "ExecuteTime": {
     "end_time": "2022-05-10T09:25:06.888918Z",
     "start_time": "2022-05-10T09:25:06.872540Z"
    }
   },
   "source": [
    "#### Sorting Strings"
   ]
  },
  {
   "cell_type": "code",
   "execution_count": 71,
   "id": "db820352",
   "metadata": {
    "ExecuteTime": {
     "end_time": "2022-05-10T10:19:50.977563Z",
     "start_time": "2022-05-10T10:19:50.968490Z"
    }
   },
   "outputs": [
    {
     "name": "stdout",
     "output_type": "stream",
     "text": [
      "['alpha', 'gamma', 'omega', 'pi']\n",
      "['alpha', 'gamma', 'omega', 'pi']\n"
     ]
    }
   ],
   "source": [
    "first_greek = ['omega', 'alpha', 'pi', 'gamma']\n",
    "first_greek_2 = sorted(first_greek)\n",
    "print(first_greek_2)\n",
    "first_greek.sort()\n",
    "print(first_greek)"
   ]
  },
  {
   "cell_type": "markdown",
   "id": "27213d49",
   "metadata": {},
   "source": [
    "#### Encrpytion string\n",
    "\n",
    "This cipher was (probably) invented and used by Gaius Julius Caesar and his troops during the Gallic Wars. The idea is rather simple - every letter of the message is replaced by its nearest consequent (A becomes B, B becomes C, and so on). The only exception is Z, which becomes A."
   ]
  },
  {
   "cell_type": "code",
   "execution_count": 73,
   "id": "97633c4c",
   "metadata": {
    "ExecuteTime": {
     "end_time": "2022-05-10T10:25:14.206636Z",
     "start_time": "2022-05-10T10:25:11.941135Z"
    }
   },
   "outputs": [
    {
     "name": "stdout",
     "output_type": "stream",
     "text": [
      "Enter your message: cheng\n",
      "encrypted => DIFOH\n"
     ]
    }
   ],
   "source": [
    "# Caesar cipher.\n",
    "text = input(\"Enter your message: \")\n",
    "cipher = ''\n",
    "for char in text:\n",
    "    if not char.isalpha():\n",
    "        continue\n",
    "    char = char.upper()\n",
    "    code = ord(char) + 1\n",
    "    if code > ord('Z'):\n",
    "        code = ord('A')\n",
    "    cipher += chr(code)\n",
    "\n",
    "print('encrypted =>',cipher)"
   ]
  },
  {
   "cell_type": "code",
   "execution_count": 75,
   "id": "04b3a6cb",
   "metadata": {
    "ExecuteTime": {
     "end_time": "2022-05-10T10:48:37.964630Z",
     "start_time": "2022-05-10T10:48:37.951658Z"
    }
   },
   "outputs": [
    {
     "name": "stdout",
     "output_type": "stream",
     "text": [
      "The strings are anagrams.\n"
     ]
    }
   ],
   "source": [
    "# Program to check Anagram\n",
    "# An anagram of a string is another string that contains the same characters, \n",
    "# only the order of characters can be different. For example, “abcd” and “dabc” are an anagram of each other.\n",
    "\n",
    "# function to check if two strings are\n",
    "# anagram or not\n",
    "def check(s1, s2):\n",
    "     \n",
    "    # the sorted strings are checked\n",
    "    if(sorted(s1)== sorted(s2)):\n",
    "        print(\"The strings are anagrams.\")\n",
    "    else:\n",
    "        print(\"The strings aren't anagrams.\")        \n",
    "         \n",
    "# driver code \n",
    "s1 =\"listens\"\n",
    "s2 =\"silents\"\n",
    "check(s1, s2)"
   ]
  },
  {
   "cell_type": "code",
   "execution_count": null,
   "id": "11230163",
   "metadata": {},
   "outputs": [],
   "source": []
  }
 ],
 "metadata": {
  "kernelspec": {
   "display_name": "Python 3 (ipykernel)",
   "language": "python",
   "name": "python3"
  },
  "language_info": {
   "codemirror_mode": {
    "name": "ipython",
    "version": 3
   },
   "file_extension": ".py",
   "mimetype": "text/x-python",
   "name": "python",
   "nbconvert_exporter": "python",
   "pygments_lexer": "ipython3",
   "version": "3.10.0"
  },
  "varInspector": {
   "cols": {
    "lenName": 16,
    "lenType": 16,
    "lenVar": 40
   },
   "kernels_config": {
    "python": {
     "delete_cmd_postfix": "",
     "delete_cmd_prefix": "del ",
     "library": "var_list.py",
     "varRefreshCmd": "print(var_dic_list())"
    },
    "r": {
     "delete_cmd_postfix": ") ",
     "delete_cmd_prefix": "rm(",
     "library": "var_list.r",
     "varRefreshCmd": "cat(var_dic_list()) "
    }
   },
   "types_to_exclude": [
    "module",
    "function",
    "builtin_function_or_method",
    "instance",
    "_Feature"
   ],
   "window_display": false
  }
 },
 "nbformat": 4,
 "nbformat_minor": 5
}
