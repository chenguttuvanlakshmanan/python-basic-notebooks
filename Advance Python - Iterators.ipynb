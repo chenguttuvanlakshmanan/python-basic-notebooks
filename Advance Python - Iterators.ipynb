{
 "cells": [
  {
   "cell_type": "markdown",
   "id": "010d1472",
   "metadata": {},
   "source": [
    "## Iterators"
   ]
  },
  {
   "cell_type": "markdown",
   "id": "82970c54",
   "metadata": {},
   "source": [
    "An iterator is an object that implements:\n",
    "\n",
    "#__iter__  => method that returns the object itself.\n",
    "#__next__ => method that returns the next item. If all the items have been returned, the method raises a StopIteration exception.\n",
    " Note that these two methods are also known as the iterator protocol.\n",
    "\n",
    "Python allows you to use iterators in for loops, comprehensions, and other built-in functions including map, filter, reduce, and zip.\n",
    "\n",
    "<h5 style=\"color:blue !important;\"><i>An iterator cannot be reusable once all items have been returned</i></h5>\n"
   ]
  },
  {
   "cell_type": "code",
   "execution_count": 6,
   "id": "355d45d3",
   "metadata": {
    "ExecuteTime": {
     "end_time": "2021-12-31T08:34:43.698497Z",
     "start_time": "2021-12-31T08:34:43.693571Z"
    }
   },
   "outputs": [],
   "source": [
    "class Square:\n",
    "    \"\"\"returns square of sequence for the length value given\"\"\"\n",
    "    \n",
    "    def __init__(self,length):\n",
    "        self.length = length\n",
    "        self.current = 0\n",
    "        \n",
    "    def __iter__(self):\n",
    "        return self\n",
    "    \n",
    "    def __next__(self):\n",
    "        if self.current >= self.length:\n",
    "            raise StopIteration            \n",
    "        self.current += 1        \n",
    "        return self.current**2  "
   ]
  },
  {
   "cell_type": "code",
   "execution_count": 3,
   "id": "d6aac02c",
   "metadata": {
    "ExecuteTime": {
     "end_time": "2021-12-31T08:33:20.502193Z",
     "start_time": "2021-12-31T08:33:20.497352Z"
    }
   },
   "outputs": [
    {
     "name": "stdout",
     "output_type": "stream",
     "text": [
      "1\n",
      "4\n",
      "9\n",
      "16\n",
      "25\n",
      "36\n"
     ]
    }
   ],
   "source": [
    "for s in Square(5):\n",
    "    print(s)"
   ]
  },
  {
   "cell_type": "code",
   "execution_count": 8,
   "id": "9e15d4c0",
   "metadata": {
    "ExecuteTime": {
     "end_time": "2021-12-31T08:34:53.263386Z",
     "start_time": "2021-12-31T08:34:53.257531Z"
    }
   },
   "outputs": [
    {
     "data": {
      "text/plain": [
       "4"
      ]
     },
     "execution_count": 8,
     "metadata": {},
     "output_type": "execute_result"
    }
   ],
   "source": [
    "ss = Square(2)\n",
    "next(ss)\n",
    "next(ss)"
   ]
  },
  {
   "cell_type": "markdown",
   "id": "cd2c2f57",
   "metadata": {
    "ExecuteTime": {
     "end_time": "2021-12-31T08:50:35.885149Z",
     "start_time": "2021-12-31T08:50:35.881384Z"
    }
   },
   "source": [
    "## Iterables"
   ]
  },
  {
   "cell_type": "markdown",
   "id": "f8f753d8",
   "metadata": {
    "ExecuteTime": {
     "end_time": "2021-12-31T08:48:22.262455Z",
     "start_time": "2021-12-31T08:48:22.254489Z"
    }
   },
   "source": [
    "An iterable is an object that you can iterate over.\n",
    "\n",
    "An object is iterable when it implements the __iter__ method. And its __iter__ method returns a **** new iterator."
   ]
  },
  {
   "cell_type": "code",
   "execution_count": 12,
   "id": "7b372f65",
   "metadata": {
    "ExecuteTime": {
     "end_time": "2021-12-31T08:58:48.383170Z",
     "start_time": "2021-12-31T08:58:48.376260Z"
    }
   },
   "outputs": [],
   "source": [
    "class Colors:\n",
    "    \n",
    "    def __init__(self): # iterable\n",
    "        self.rgb = ['red','blue','green']\n",
    "        \n",
    "    def __len__(self):\n",
    "        return len(self.rgb)\n",
    "        \n",
    "    def __iter__(self):\n",
    "        return self.ColorIterator(self)\n",
    "    \n",
    "    class ColorIterator: # Iterator#\n",
    "        \n",
    "        def __init__(self,colors):\n",
    "            self.__colors = colors\n",
    "            self.__index = 0\n",
    "            \n",
    "        def __iter__(self):\n",
    "            return self\n",
    "        \n",
    "        def __next__(self):\n",
    "            if self.__index >= len(self.__colors):\n",
    "                raise StopIteration\n",
    "                \n",
    "            color = self.__colors.rgb[self.__index]\n",
    "            self.__index += 1\n",
    "            return color\n",
    "        "
   ]
  },
  {
   "cell_type": "code",
   "execution_count": 14,
   "id": "2d909b71",
   "metadata": {
    "ExecuteTime": {
     "end_time": "2021-12-31T08:59:32.274194Z",
     "start_time": "2021-12-31T08:59:32.268380Z"
    }
   },
   "outputs": [
    {
     "name": "stdout",
     "output_type": "stream",
     "text": [
      "red\n",
      "blue\n",
      "green\n"
     ]
    }
   ],
   "source": [
    "for c in Colors():\n",
    "    print(c)"
   ]
  },
  {
   "cell_type": "code",
   "execution_count": 17,
   "id": "923272a4",
   "metadata": {
    "ExecuteTime": {
     "end_time": "2021-12-31T10:21:35.906732Z",
     "start_time": "2021-12-31T10:21:35.900511Z"
    }
   },
   "outputs": [
    {
     "data": {
      "text/plain": [
       "__main__.Colors"
      ]
     },
     "execution_count": 17,
     "metadata": {},
     "output_type": "execute_result"
    }
   ],
   "source": [
    "type(Colors())"
   ]
  },
  {
   "cell_type": "markdown",
   "id": "2de68a71",
   "metadata": {},
   "source": [
    "### Iter Function"
   ]
  },
  {
   "cell_type": "markdown",
   "id": "35a63a47",
   "metadata": {},
   "source": [
    "The iter() function requires an argument that can be an iterable or a sequence. In general, the object argument can be any object that supports either iteration or sequence protocol.\n",
    "\n",
    "When you call the iter() function on an object, the function first looks for an __iter__() method of that object.\n",
    "\n",
    "If the __iter__() method exists, the iter() function calls it to get an iterator. Otherwise, the iter() function will look for a __getitem__() method.\n",
    "\n",
    "If the __getitem__() is available, the iter() function creates an iterator object and returns that object. Otherwise, it raises a TypeError exception.\n",
    "\n",
    "When both __iter__() and __getitem__() methods exist, the iter() function always uses the __iter__() method:"
   ]
  },
  {
   "cell_type": "code",
   "execution_count": 15,
   "id": "ad48dc14",
   "metadata": {
    "ExecuteTime": {
     "end_time": "2021-12-31T09:27:51.737963Z",
     "start_time": "2021-12-31T09:27:51.732672Z"
    }
   },
   "outputs": [
    {
     "name": "stdout",
     "output_type": "stream",
     "text": [
      "Help on built-in function iter in module builtins:\n",
      "\n",
      "iter(...)\n",
      "    iter(iterable) -> iterator\n",
      "    iter(callable, sentinel) -> iterator\n",
      "    \n",
      "    Get an iterator from an object.  In the first form, the argument must\n",
      "    supply its own iterator, or be a sequence.\n",
      "    In the second form, the callable is called until it returns the sentinel.\n",
      "\n"
     ]
    }
   ],
   "source": [
    "help(iter)"
   ]
  },
  {
   "cell_type": "code",
   "execution_count": null,
   "id": "1ac4c034",
   "metadata": {},
   "outputs": [],
   "source": [
    "# iter(callable,sentinel)  the callable is the iterable we want to iterate and \n",
    "# sentinel is the limit we can iterate with the iterable"
   ]
  }
 ],
 "metadata": {
  "kernelspec": {
   "display_name": "Python 3 (ipykernel)",
   "language": "python",
   "name": "python3"
  },
  "language_info": {
   "codemirror_mode": {
    "name": "ipython",
    "version": 3
   },
   "file_extension": ".py",
   "mimetype": "text/x-python",
   "name": "python",
   "nbconvert_exporter": "python",
   "pygments_lexer": "ipython3",
   "version": "3.10.0"
  },
  "varInspector": {
   "cols": {
    "lenName": 16,
    "lenType": 16,
    "lenVar": 40
   },
   "kernels_config": {
    "python": {
     "delete_cmd_postfix": "",
     "delete_cmd_prefix": "del ",
     "library": "var_list.py",
     "varRefreshCmd": "print(var_dic_list())"
    },
    "r": {
     "delete_cmd_postfix": ") ",
     "delete_cmd_prefix": "rm(",
     "library": "var_list.r",
     "varRefreshCmd": "cat(var_dic_list()) "
    }
   },
   "types_to_exclude": [
    "module",
    "function",
    "builtin_function_or_method",
    "instance",
    "_Feature"
   ],
   "window_display": false
  }
 },
 "nbformat": 4,
 "nbformat_minor": 5
}
