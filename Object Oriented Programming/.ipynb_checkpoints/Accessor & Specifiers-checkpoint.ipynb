{
 "cells": [
  {
   "cell_type": "markdown",
   "id": "2e14d8d9",
   "metadata": {},
   "source": [
    "Access specifiers or access modifiers in python programming are used to limit the access of class variables and class methods outside of class while implementing the concepts of inheritance. This can be achieved by: Public, Private and Protected keyword."
   ]
  },
  {
   "cell_type": "code",
   "execution_count": 14,
   "id": "020926c2",
   "metadata": {
    "ExecuteTime": {
     "end_time": "2022-04-28T13:15:46.495988Z",
     "start_time": "2022-04-28T13:15:46.478415Z"
    }
   },
   "outputs": [],
   "source": [
    "class Myclass:\n",
    "    \n",
    "    def __init__(self,age):\n",
    "        self.__age = age # private variable\n",
    "        self._agedivby2 = age/2 # protected variavble\n",
    "        self.newage = age"
   ]
  },
  {
   "cell_type": "code",
   "execution_count": 15,
   "id": "648045a5",
   "metadata": {
    "ExecuteTime": {
     "end_time": "2022-04-28T13:15:49.258681Z",
     "start_time": "2022-04-28T13:15:49.245681Z"
    }
   },
   "outputs": [
    {
     "ename": "AttributeError",
     "evalue": "'Myclass' object has no attribute '__age'",
     "output_type": "error",
     "traceback": [
      "\u001b[1;31m---------------------------------------------------------------------------\u001b[0m",
      "\u001b[1;31mAttributeError\u001b[0m                            Traceback (most recent call last)",
      "\u001b[1;32m~\\AppData\\Local\\Temp/ipykernel_24568/1913467931.py\u001b[0m in \u001b[0;36m<module>\u001b[1;34m\u001b[0m\n\u001b[0;32m      1\u001b[0m \u001b[1;31m# private variable or function can not be accessed by the class itself\u001b[0m\u001b[1;33m\u001b[0m\u001b[1;33m\u001b[0m\u001b[0m\n\u001b[0;32m      2\u001b[0m \u001b[0mc1\u001b[0m \u001b[1;33m=\u001b[0m \u001b[0mMyclass\u001b[0m\u001b[1;33m(\u001b[0m\u001b[1;36m42\u001b[0m\u001b[1;33m)\u001b[0m\u001b[1;33m\u001b[0m\u001b[1;33m\u001b[0m\u001b[0m\n\u001b[1;32m----> 3\u001b[1;33m \u001b[0mc1\u001b[0m\u001b[1;33m.\u001b[0m\u001b[0m__age\u001b[0m\u001b[1;33m\u001b[0m\u001b[1;33m\u001b[0m\u001b[0m\n\u001b[0m",
      "\u001b[1;31mAttributeError\u001b[0m: 'Myclass' object has no attribute '__age'"
     ]
    }
   ],
   "source": [
    "# private variable or function can not be accessed by the class itself\n",
    "c1 = Myclass(42)\n",
    "c1.__age"
   ]
  },
  {
   "cell_type": "code",
   "execution_count": 16,
   "id": "0a5b3eaa",
   "metadata": {
    "ExecuteTime": {
     "end_time": "2022-04-28T13:15:51.440802Z",
     "start_time": "2022-04-28T13:15:51.437784Z"
    }
   },
   "outputs": [
    {
     "data": {
      "text/plain": [
       "21.0"
      ]
     },
     "execution_count": 16,
     "metadata": {},
     "output_type": "execute_result"
    }
   ],
   "source": [
    "# proctected variable can be accessed by objects directly created from the class and sublclass ,\n",
    "# it is naming convention alone developer should take care\n",
    "c1._agedivby2"
   ]
  },
  {
   "cell_type": "code",
   "execution_count": 19,
   "id": "d396d7a9",
   "metadata": {
    "ExecuteTime": {
     "end_time": "2022-04-28T13:17:16.638128Z",
     "start_time": "2022-04-28T13:17:16.634222Z"
    }
   },
   "outputs": [],
   "source": [
    "# create a subclass from the Myclass\n",
    "class Newsubclass(Myclass):\n",
    "    \n",
    "    def __init__(self,age):\n",
    "        super().__init__(age)"
   ]
  },
  {
   "cell_type": "code",
   "execution_count": 20,
   "id": "576df8b7",
   "metadata": {
    "ExecuteTime": {
     "end_time": "2022-04-28T13:17:18.506336Z",
     "start_time": "2022-04-28T13:17:18.501337Z"
    }
   },
   "outputs": [
    {
     "data": {
      "text/plain": [
       "21.0"
      ]
     },
     "execution_count": 20,
     "metadata": {},
     "output_type": "execute_result"
    }
   ],
   "source": [
    "c2 = Newsubclass(42)\n",
    "c2._agedivby2"
   ]
  },
  {
   "cell_type": "code",
   "execution_count": 21,
   "id": "c40678f6",
   "metadata": {
    "ExecuteTime": {
     "end_time": "2022-04-28T13:17:30.082435Z",
     "start_time": "2022-04-28T13:17:30.069429Z"
    }
   },
   "outputs": [
    {
     "data": {
      "text/plain": [
       "42"
      ]
     },
     "execution_count": 21,
     "metadata": {},
     "output_type": "execute_result"
    }
   ],
   "source": [
    "c2.newage"
   ]
  },
  {
   "cell_type": "code",
   "execution_count": 22,
   "id": "3619ba1c",
   "metadata": {
    "ExecuteTime": {
     "end_time": "2022-04-28T13:17:35.980949Z",
     "start_time": "2022-04-28T13:17:35.969869Z"
    }
   },
   "outputs": [
    {
     "ename": "AttributeError",
     "evalue": "'Newsubclass' object has no attribute '__age'",
     "output_type": "error",
     "traceback": [
      "\u001b[1;31m---------------------------------------------------------------------------\u001b[0m",
      "\u001b[1;31mAttributeError\u001b[0m                            Traceback (most recent call last)",
      "\u001b[1;32m~\\AppData\\Local\\Temp/ipykernel_24568/1501602790.py\u001b[0m in \u001b[0;36m<module>\u001b[1;34m\u001b[0m\n\u001b[1;32m----> 1\u001b[1;33m \u001b[0mc2\u001b[0m\u001b[1;33m.\u001b[0m\u001b[0m__age\u001b[0m\u001b[1;33m\u001b[0m\u001b[1;33m\u001b[0m\u001b[0m\n\u001b[0m",
      "\u001b[1;31mAttributeError\u001b[0m: 'Newsubclass' object has no attribute '__age'"
     ]
    }
   ],
   "source": [
    "c2.__age"
   ]
  },
  {
   "cell_type": "code",
   "execution_count": 24,
   "id": "4f363bc4",
   "metadata": {
    "ExecuteTime": {
     "end_time": "2022-04-28T13:35:26.638845Z",
     "start_time": "2022-04-28T13:35:26.627845Z"
    }
   },
   "outputs": [],
   "source": [
    "import pydoc"
   ]
  },
  {
   "cell_type": "code",
   "execution_count": null,
   "id": "24e43d16",
   "metadata": {},
   "outputs": [],
   "source": []
  }
 ],
 "metadata": {
  "kernelspec": {
   "display_name": "Python 3 (ipykernel)",
   "language": "python",
   "name": "python3"
  },
  "language_info": {
   "codemirror_mode": {
    "name": "ipython",
    "version": 3
   },
   "file_extension": ".py",
   "mimetype": "text/x-python",
   "name": "python",
   "nbconvert_exporter": "python",
   "pygments_lexer": "ipython3",
   "version": "3.10.0"
  },
  "varInspector": {
   "cols": {
    "lenName": 16,
    "lenType": 16,
    "lenVar": 40
   },
   "kernels_config": {
    "python": {
     "delete_cmd_postfix": "",
     "delete_cmd_prefix": "del ",
     "library": "var_list.py",
     "varRefreshCmd": "print(var_dic_list())"
    },
    "r": {
     "delete_cmd_postfix": ") ",
     "delete_cmd_prefix": "rm(",
     "library": "var_list.r",
     "varRefreshCmd": "cat(var_dic_list()) "
    }
   },
   "types_to_exclude": [
    "module",
    "function",
    "builtin_function_or_method",
    "instance",
    "_Feature"
   ],
   "window_display": false
  }
 },
 "nbformat": 4,
 "nbformat_minor": 5
}
