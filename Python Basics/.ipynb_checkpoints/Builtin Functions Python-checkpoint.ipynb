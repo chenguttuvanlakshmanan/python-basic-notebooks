{
 "cells": [
  {
   "cell_type": "markdown",
   "id": "419b4973",
   "metadata": {},
   "source": [
    "### Built in Functions"
   ]
  },
  {
   "cell_type": "code",
   "execution_count": 13,
   "id": "ba315649",
   "metadata": {
    "ExecuteTime": {
     "end_time": "2022-04-08T10:26:49.109488Z",
     "start_time": "2022-04-08T10:26:49.103507Z"
    }
   },
   "outputs": [
    {
     "name": "stdout",
     "output_type": "stream",
     "text": [
      "['ArithmeticError', 'AssertionError', 'AttributeError', 'BaseException', 'BlockingIOError', 'BrokenPipeError', 'BufferError', 'BytesWarning', 'ChildProcessError', 'ConnectionAbortedError', 'ConnectionError', 'ConnectionRefusedError', 'ConnectionResetError', 'DeprecationWarning', 'EOFError', 'Ellipsis', 'EncodingWarning', 'EnvironmentError', 'Exception', 'False', 'FileExistsError', 'FileNotFoundError', 'FloatingPointError', 'FutureWarning', 'GeneratorExit', 'IOError', 'ImportError', 'ImportWarning', 'IndentationError', 'IndexError', 'InterruptedError', 'IsADirectoryError', 'KeyError', 'KeyboardInterrupt', 'LookupError', 'MemoryError', 'ModuleNotFoundError', 'NameError', 'None', 'NotADirectoryError', 'NotImplemented', 'NotImplementedError', 'OSError', 'OverflowError', 'PendingDeprecationWarning', 'PermissionError', 'ProcessLookupError', 'RecursionError', 'ReferenceError', 'ResourceWarning', 'RuntimeError', 'RuntimeWarning', 'StopAsyncIteration', 'StopIteration', 'SyntaxError', 'SyntaxWarning', 'SystemError', 'SystemExit', 'TabError', 'TimeoutError', 'True', 'TypeError', 'UnboundLocalError', 'UnicodeDecodeError', 'UnicodeEncodeError', 'UnicodeError', 'UnicodeTranslateError', 'UnicodeWarning', 'UserWarning', 'ValueError', 'Warning', 'WindowsError', 'ZeroDivisionError', '__IPYTHON__', '__build_class__', '__debug__', '__doc__', '__import__', '__loader__', '__name__', '__package__', '__spec__', 'abs', 'aiter', 'all', 'anext', 'any', 'ascii', 'bin', 'bool', 'breakpoint', 'bytearray', 'bytes', 'callable', 'chr', 'classmethod', 'compile', 'complex', 'copyright', 'credits', 'delattr', 'dict', 'dir', 'display', 'divmod', 'enumerate', 'eval', 'exec', 'execfile', 'filter', 'float', 'format', 'frozenset', 'get_ipython', 'getattr', 'globals', 'hasattr', 'hash', 'help', 'hex', 'id', 'input', 'int', 'isinstance', 'issubclass', 'iter', 'len', 'license', 'list', 'locals', 'map', 'max', 'memoryview', 'min', 'next', 'object', 'oct', 'open', 'ord', 'pow', 'print', 'property', 'range', 'repr', 'reversed', 'round', 'runfile', 'set', 'setattr', 'slice', 'sorted', 'staticmethod', 'str', 'sum', 'super', 'tuple', 'type', 'vars', 'zip']\n"
     ]
    }
   ],
   "source": [
    "import builtins\n",
    "print(dir(builtins))"
   ]
  },
  {
   "cell_type": "code",
   "execution_count": 15,
   "id": "96d32a9f",
   "metadata": {
    "ExecuteTime": {
     "end_time": "2022-04-08T10:29:01.921239Z",
     "start_time": "2022-04-08T10:29:01.903226Z"
    }
   },
   "outputs": [
    {
     "name": "stdout",
     "output_type": "stream",
     "text": [
      "Help on class bool in module builtins:\n",
      "\n",
      "class bool(int)\n",
      " |  bool(x) -> bool\n",
      " |  \n",
      " |  Returns True when the argument x is true, False otherwise.\n",
      " |  The builtins True and False are the only two instances of the class bool.\n",
      " |  The class bool is a subclass of the class int, and cannot be subclassed.\n",
      " |  \n",
      " |  Method resolution order:\n",
      " |      bool\n",
      " |      int\n",
      " |      object\n",
      " |  \n",
      " |  Methods defined here:\n",
      " |  \n",
      " |  __and__(self, value, /)\n",
      " |      Return self&value.\n",
      " |  \n",
      " |  __or__(self, value, /)\n",
      " |      Return self|value.\n",
      " |  \n",
      " |  __rand__(self, value, /)\n",
      " |      Return value&self.\n",
      " |  \n",
      " |  __repr__(self, /)\n",
      " |      Return repr(self).\n",
      " |  \n",
      " |  __ror__(self, value, /)\n",
      " |      Return value|self.\n",
      " |  \n",
      " |  __rxor__(self, value, /)\n",
      " |      Return value^self.\n",
      " |  \n",
      " |  __xor__(self, value, /)\n",
      " |      Return self^value.\n",
      " |  \n",
      " |  ----------------------------------------------------------------------\n",
      " |  Static methods defined here:\n",
      " |  \n",
      " |  __new__(*args, **kwargs) from builtins.type\n",
      " |      Create and return a new object.  See help(type) for accurate signature.\n",
      " |  \n",
      " |  ----------------------------------------------------------------------\n",
      " |  Methods inherited from int:\n",
      " |  \n",
      " |  __abs__(self, /)\n",
      " |      abs(self)\n",
      " |  \n",
      " |  __add__(self, value, /)\n",
      " |      Return self+value.\n",
      " |  \n",
      " |  __bool__(self, /)\n",
      " |      self != 0\n",
      " |  \n",
      " |  __ceil__(...)\n",
      " |      Ceiling of an Integral returns itself.\n",
      " |  \n",
      " |  __divmod__(self, value, /)\n",
      " |      Return divmod(self, value).\n",
      " |  \n",
      " |  __eq__(self, value, /)\n",
      " |      Return self==value.\n",
      " |  \n",
      " |  __float__(self, /)\n",
      " |      float(self)\n",
      " |  \n",
      " |  __floor__(...)\n",
      " |      Flooring an Integral returns itself.\n",
      " |  \n",
      " |  __floordiv__(self, value, /)\n",
      " |      Return self//value.\n",
      " |  \n",
      " |  __format__(self, format_spec, /)\n",
      " |      Default object formatter.\n",
      " |  \n",
      " |  __ge__(self, value, /)\n",
      " |      Return self>=value.\n",
      " |  \n",
      " |  __getattribute__(self, name, /)\n",
      " |      Return getattr(self, name).\n",
      " |  \n",
      " |  __getnewargs__(self, /)\n",
      " |  \n",
      " |  __gt__(self, value, /)\n",
      " |      Return self>value.\n",
      " |  \n",
      " |  __hash__(self, /)\n",
      " |      Return hash(self).\n",
      " |  \n",
      " |  __index__(self, /)\n",
      " |      Return self converted to an integer, if self is suitable for use as an index into a list.\n",
      " |  \n",
      " |  __int__(self, /)\n",
      " |      int(self)\n",
      " |  \n",
      " |  __invert__(self, /)\n",
      " |      ~self\n",
      " |  \n",
      " |  __le__(self, value, /)\n",
      " |      Return self<=value.\n",
      " |  \n",
      " |  __lshift__(self, value, /)\n",
      " |      Return self<<value.\n",
      " |  \n",
      " |  __lt__(self, value, /)\n",
      " |      Return self<value.\n",
      " |  \n",
      " |  __mod__(self, value, /)\n",
      " |      Return self%value.\n",
      " |  \n",
      " |  __mul__(self, value, /)\n",
      " |      Return self*value.\n",
      " |  \n",
      " |  __ne__(self, value, /)\n",
      " |      Return self!=value.\n",
      " |  \n",
      " |  __neg__(self, /)\n",
      " |      -self\n",
      " |  \n",
      " |  __pos__(self, /)\n",
      " |      +self\n",
      " |  \n",
      " |  __pow__(self, value, mod=None, /)\n",
      " |      Return pow(self, value, mod).\n",
      " |  \n",
      " |  __radd__(self, value, /)\n",
      " |      Return value+self.\n",
      " |  \n",
      " |  __rdivmod__(self, value, /)\n",
      " |      Return divmod(value, self).\n",
      " |  \n",
      " |  __rfloordiv__(self, value, /)\n",
      " |      Return value//self.\n",
      " |  \n",
      " |  __rlshift__(self, value, /)\n",
      " |      Return value<<self.\n",
      " |  \n",
      " |  __rmod__(self, value, /)\n",
      " |      Return value%self.\n",
      " |  \n",
      " |  __rmul__(self, value, /)\n",
      " |      Return value*self.\n",
      " |  \n",
      " |  __round__(...)\n",
      " |      Rounding an Integral returns itself.\n",
      " |      \n",
      " |      Rounding with an ndigits argument also returns an integer.\n",
      " |  \n",
      " |  __rpow__(self, value, mod=None, /)\n",
      " |      Return pow(value, self, mod).\n",
      " |  \n",
      " |  __rrshift__(self, value, /)\n",
      " |      Return value>>self.\n",
      " |  \n",
      " |  __rshift__(self, value, /)\n",
      " |      Return self>>value.\n",
      " |  \n",
      " |  __rsub__(self, value, /)\n",
      " |      Return value-self.\n",
      " |  \n",
      " |  __rtruediv__(self, value, /)\n",
      " |      Return value/self.\n",
      " |  \n",
      " |  __sizeof__(self, /)\n",
      " |      Returns size in memory, in bytes.\n",
      " |  \n",
      " |  __sub__(self, value, /)\n",
      " |      Return self-value.\n",
      " |  \n",
      " |  __truediv__(self, value, /)\n",
      " |      Return self/value.\n",
      " |  \n",
      " |  __trunc__(...)\n",
      " |      Truncating an Integral returns itself.\n",
      " |  \n",
      " |  as_integer_ratio(self, /)\n",
      " |      Return integer ratio.\n",
      " |      \n",
      " |      Return a pair of integers, whose ratio is exactly equal to the original int\n",
      " |      and with a positive denominator.\n",
      " |      \n",
      " |      >>> (10).as_integer_ratio()\n",
      " |      (10, 1)\n",
      " |      >>> (-10).as_integer_ratio()\n",
      " |      (-10, 1)\n",
      " |      >>> (0).as_integer_ratio()\n",
      " |      (0, 1)\n",
      " |  \n",
      " |  bit_count(self, /)\n",
      " |      Number of ones in the binary representation of the absolute value of self.\n",
      " |      \n",
      " |      Also known as the population count.\n",
      " |      \n",
      " |      >>> bin(13)\n",
      " |      '0b1101'\n",
      " |      >>> (13).bit_count()\n",
      " |      3\n",
      " |  \n",
      " |  bit_length(self, /)\n",
      " |      Number of bits necessary to represent self in binary.\n",
      " |      \n",
      " |      >>> bin(37)\n",
      " |      '0b100101'\n",
      " |      >>> (37).bit_length()\n",
      " |      6\n",
      " |  \n",
      " |  conjugate(...)\n",
      " |      Returns self, the complex conjugate of any int.\n",
      " |  \n",
      " |  to_bytes(self, /, length, byteorder, *, signed=False)\n",
      " |      Return an array of bytes representing an integer.\n",
      " |      \n",
      " |      length\n",
      " |        Length of bytes object to use.  An OverflowError is raised if the\n",
      " |        integer is not representable with the given number of bytes.\n",
      " |      byteorder\n",
      " |        The byte order used to represent the integer.  If byteorder is 'big',\n",
      " |        the most significant byte is at the beginning of the byte array.  If\n",
      " |        byteorder is 'little', the most significant byte is at the end of the\n",
      " |        byte array.  To request the native byte order of the host system, use\n",
      " |        `sys.byteorder' as the byte order value.\n",
      " |      signed\n",
      " |        Determines whether two's complement is used to represent the integer.\n",
      " |        If signed is False and a negative integer is given, an OverflowError\n",
      " |        is raised.\n",
      " |  \n",
      " |  ----------------------------------------------------------------------\n",
      " |  Class methods inherited from int:\n",
      " |  \n",
      " |  from_bytes(bytes, byteorder, *, signed=False) from builtins.type\n",
      " |      Return the integer represented by the given array of bytes.\n",
      " |      \n",
      " |      bytes\n",
      " |        Holds the array of bytes to convert.  The argument must either\n",
      " |        support the buffer protocol or be an iterable object producing bytes.\n",
      " |        Bytes and bytearray are examples of built-in objects that support the\n",
      " |        buffer protocol.\n",
      " |      byteorder\n",
      " |        The byte order used to represent the integer.  If byteorder is 'big',\n",
      " |        the most significant byte is at the beginning of the byte array.  If\n",
      " |        byteorder is 'little', the most significant byte is at the end of the\n",
      " |        byte array.  To request the native byte order of the host system, use\n",
      " |        `sys.byteorder' as the byte order value.\n",
      " |      signed\n",
      " |        Indicates whether two's complement is used to represent the integer.\n",
      " |  \n",
      " |  ----------------------------------------------------------------------\n",
      " |  Data descriptors inherited from int:\n",
      " |  \n",
      " |  denominator\n",
      " |      the denominator of a rational number in lowest terms\n",
      " |  \n",
      " |  imag\n",
      " |      the imaginary part of a complex number\n",
      " |  \n",
      " |  numerator\n",
      " |      the numerator of a rational number in lowest terms\n",
      " |  \n",
      " |  real\n",
      " |      the real part of a complex number\n",
      "\n"
     ]
    }
   ],
   "source": [
    "help(bool)"
   ]
  },
  {
   "cell_type": "markdown",
   "id": "ad5ecc62",
   "metadata": {},
   "source": [
    "### Boolean Outputs"
   ]
  },
  {
   "cell_type": "code",
   "execution_count": 4,
   "id": "4d3f5e3d",
   "metadata": {
    "ExecuteTime": {
     "end_time": "2022-04-08T09:27:03.998613Z",
     "start_time": "2022-04-08T09:27:03.988646Z"
    }
   },
   "outputs": [
    {
     "name": "stdout",
     "output_type": "stream",
     "text": [
      "True\n",
      "False\n"
     ]
    }
   ],
   "source": [
    "\"\"\"\n",
    "all() function accepts an iterable object (such as list, dictionary, etc.). It returns true if all items in passed iterable are true. Otherwise, it returns False. \n",
    "If the iterable object is empty, the all() function returns True.\n",
    "\"\"\"\n",
    "print(all([1,2,3,4]))\n",
    "print(all([0,1]))"
   ]
  },
  {
   "cell_type": "code",
   "execution_count": 18,
   "id": "7e28974b",
   "metadata": {
    "ExecuteTime": {
     "end_time": "2022-04-08T10:44:03.537269Z",
     "start_time": "2022-04-08T10:44:03.527302Z"
    }
   },
   "outputs": [
    {
     "name": "stdout",
     "output_type": "stream",
     "text": [
      "True\n",
      "True\n"
     ]
    }
   ],
   "source": [
    "#any() function returns true if any item in an iterable is true. Otherwise, it returns False.\n",
    "print(any([1,2,3,4]))\n",
    "print(any([0,1]))"
   ]
  },
  {
   "cell_type": "code",
   "execution_count": 6,
   "id": "f7a16cfe",
   "metadata": {
    "ExecuteTime": {
     "end_time": "2022-04-08T10:13:03.379966Z",
     "start_time": "2022-04-08T10:13:03.364021Z"
    }
   },
   "outputs": [
    {
     "name": "stdout",
     "output_type": "stream",
     "text": [
      "True False False\n"
     ]
    }
   ],
   "source": [
    "# bool() converts a value to boolean(True or False) using the standard truth testing procedure.\n",
    "print(bool(\"hello\"),bool(0),bool(None))"
   ]
  },
  {
   "cell_type": "code",
   "execution_count": 8,
   "id": "c3eea434",
   "metadata": {
    "ExecuteTime": {
     "end_time": "2022-04-08T10:21:59.773515Z",
     "start_time": "2022-04-08T10:21:59.755576Z"
    }
   },
   "outputs": [
    {
     "name": "stdout",
     "output_type": "stream",
     "text": [
      "False\n",
      "True\n"
     ]
    }
   ],
   "source": [
    "# callable() function in Python is something that can be called. This built-in function checks and\n",
    "# returns true if the object passed appears to be callable, otherwise false.\n",
    "x = 10\n",
    "print(callable(x))\n",
    "\n",
    "def myfunc():\n",
    "    pass\n",
    "\n",
    "print(callable(myfunc))"
   ]
  },
  {
   "cell_type": "code",
   "execution_count": 33,
   "id": "dc76b992",
   "metadata": {
    "ExecuteTime": {
     "end_time": "2022-04-08T11:02:10.029025Z",
     "start_time": "2022-04-08T11:02:10.020057Z"
    }
   },
   "outputs": [
    {
     "data": {
      "text/plain": [
       "True"
      ]
     },
     "execution_count": 33,
     "metadata": {},
     "output_type": "execute_result"
    }
   ],
   "source": [
    "\"a\" in \"alfha\""
   ]
  },
  {
   "cell_type": "code",
   "execution_count": 46,
   "id": "dbf8255a",
   "metadata": {
    "ExecuteTime": {
     "end_time": "2022-04-08T11:14:42.819015Z",
     "start_time": "2022-04-08T11:14:42.803995Z"
    }
   },
   "outputs": [
    {
     "data": {
      "text/plain": [
       "True"
      ]
     },
     "execution_count": 46,
     "metadata": {},
     "output_type": "execute_result"
    }
   ],
   "source": [
    "# check object is created from the class\n",
    "class Myclass:\n",
    "    pass\n",
    "\n",
    "myinst = Myclass()\n",
    "isinstance(myinst,Myclass)"
   ]
  },
  {
   "cell_type": "code",
   "execution_count": 85,
   "id": "ea14ea96",
   "metadata": {
    "ExecuteTime": {
     "end_time": "2022-04-08T11:59:40.322301Z",
     "start_time": "2022-04-08T11:59:40.312334Z"
    }
   },
   "outputs": [
    {
     "data": {
      "text/plain": [
       "True"
      ]
     },
     "execution_count": 85,
     "metadata": {},
     "output_type": "execute_result"
    }
   ],
   "source": [
    "class Mysubclass(Myclass):\n",
    "    pass\n",
    "\n",
    "issubclass(Mysubclass,Myclass)"
   ]
  },
  {
   "cell_type": "code",
   "execution_count": 58,
   "id": "77902338",
   "metadata": {
    "ExecuteTime": {
     "end_time": "2022-04-08T11:30:25.786605Z",
     "start_time": "2022-04-08T11:30:25.775561Z"
    }
   },
   "outputs": [
    {
     "data": {
      "text/plain": [
       "True"
      ]
     },
     "execution_count": 58,
     "metadata": {},
     "output_type": "execute_result"
    }
   ],
   "source": [
    "# check whether both variables refering the same object\n",
    "a = 10\n",
    "b = a\n",
    "a is b"
   ]
  },
  {
   "cell_type": "markdown",
   "id": "3b85030f",
   "metadata": {},
   "source": [
    "### Parsing Python code"
   ]
  },
  {
   "cell_type": "code",
   "execution_count": 11,
   "id": "62534a45",
   "metadata": {
    "ExecuteTime": {
     "end_time": "2022-04-08T10:25:00.665123Z",
     "start_time": "2022-04-08T10:25:00.647141Z"
    }
   },
   "outputs": [
    {
     "name": "stdout",
     "output_type": "stream",
     "text": [
      "15\n"
     ]
    }
   ],
   "source": [
    "# compile() function takes source code as input and returns a code object which can later be executed by exec() function.\n",
    "mycode = \"\"\"\n",
    "x = 10\n",
    "y = 5\n",
    "print(x+y)\n",
    "\"\"\"\n",
    "compiled_code = compile(mycode,\"sum.py\",\"exec\")\n",
    "exec(compiled_code)"
   ]
  },
  {
   "cell_type": "code",
   "execution_count": 16,
   "id": "ed287a3c",
   "metadata": {
    "ExecuteTime": {
     "end_time": "2022-04-08T10:42:52.811930Z",
     "start_time": "2022-04-08T10:42:52.803885Z"
    }
   },
   "outputs": [
    {
     "name": "stdout",
     "output_type": "stream",
     "text": [
      "python expert\n"
     ]
    }
   ],
   "source": [
    "# exec() function is used for the dynamic execution of Python program which can either be a string or object code and it accepts large blocks of code, \n",
    "#unlike the eval() function which only accepts a single expression.\n",
    "mycode = \"\"\"\n",
    "print(\"python expert\")\n",
    "\"\"\"\n",
    "exec(mycode)"
   ]
  },
  {
   "cell_type": "code",
   "execution_count": 21,
   "id": "7ce3a1ec",
   "metadata": {
    "ExecuteTime": {
     "end_time": "2022-04-08T10:44:57.634959Z",
     "start_time": "2022-04-08T10:44:57.620004Z"
    }
   },
   "outputs": [
    {
     "name": "stdout",
     "output_type": "stream",
     "text": [
      "python expert\n"
     ]
    }
   ],
   "source": [
    "#  eval() function parses the expression passed to it and runs python expression(code) within the program.\n",
    "eval(\"print('python expert')\")"
   ]
  },
  {
   "cell_type": "code",
   "execution_count": 99,
   "id": "73555642",
   "metadata": {
    "ExecuteTime": {
     "end_time": "2022-04-08T12:15:55.925754Z",
     "start_time": "2022-04-08T12:15:55.912798Z"
    }
   },
   "outputs": [
    {
     "name": "stdout",
     "output_type": "stream",
     "text": [
      "<memory at 0x0000022494B95C00>\n",
      "2356147627632\n"
     ]
    }
   ],
   "source": [
    "newobject = bytes(10)\n",
    "print(memoryview(newobject))\n",
    "print(id(newobject))"
   ]
  },
  {
   "cell_type": "markdown",
   "id": "aa99028f",
   "metadata": {},
   "source": [
    "### Type Conversion & Formatting"
   ]
  },
  {
   "cell_type": "code",
   "execution_count": 86,
   "id": "607ed083",
   "metadata": {
    "ExecuteTime": {
     "end_time": "2022-04-08T12:04:36.852491Z",
     "start_time": "2022-04-08T12:04:36.835550Z"
    }
   },
   "outputs": [
    {
     "name": "stdout",
     "output_type": "stream",
     "text": [
      "232\n",
      "14.5\n",
      "123\n"
     ]
    }
   ],
   "source": [
    "print(int(\"232\"))\n",
    "print(float(\"14.5\"))\n",
    "print(str(123))"
   ]
  },
  {
   "cell_type": "code",
   "execution_count": 2,
   "id": "18a7690e",
   "metadata": {
    "ExecuteTime": {
     "end_time": "2022-04-08T09:25:20.490821Z",
     "start_time": "2022-04-08T09:25:20.477869Z"
    }
   },
   "outputs": [
    {
     "data": {
      "text/plain": [
       "3.4"
      ]
     },
     "execution_count": 2,
     "metadata": {},
     "output_type": "execute_result"
    }
   ],
   "source": [
    "# abs() function is used to return the absolute value of a number.\n",
    "abs(-3.4)"
   ]
  },
  {
   "cell_type": "code",
   "execution_count": 19,
   "id": "fd856fbf",
   "metadata": {
    "ExecuteTime": {
     "end_time": "2022-04-08T10:44:05.930280Z",
     "start_time": "2022-04-08T10:44:05.911271Z"
    }
   },
   "outputs": [
    {
     "data": {
      "text/plain": [
       "'0b1010'"
      ]
     },
     "execution_count": 19,
     "metadata": {},
     "output_type": "execute_result"
    }
   ],
   "source": [
    "# bin() function is used to return the binary representation of a specified integer. it startes with \"0b\"\n",
    "bin(10)"
   ]
  },
  {
   "cell_type": "code",
   "execution_count": 7,
   "id": "e281f1a9",
   "metadata": {
    "ExecuteTime": {
     "end_time": "2022-04-08T10:20:09.022383Z",
     "start_time": "2022-04-08T10:20:09.007432Z"
    }
   },
   "outputs": [
    {
     "name": "stdout",
     "output_type": "stream",
     "text": [
      "b'hello expert'\n"
     ]
    }
   ],
   "source": [
    "#  bytes() in Python is used for returning a bytes object. It is an immutable version of the bytearray() function.\n",
    "mystring = \"hello expert\"\n",
    "myarray = bytes(mystring,\"utf-8\")\n",
    "print(myarray)"
   ]
  },
  {
   "cell_type": "code",
   "execution_count": 22,
   "id": "4625b2cd",
   "metadata": {
    "ExecuteTime": {
     "end_time": "2022-04-08T10:49:46.689784Z",
     "start_time": "2022-04-08T10:49:46.682808Z"
    }
   },
   "outputs": [
    {
     "name": "stdout",
     "output_type": "stream",
     "text": [
      "bytearray(b'Python is a programming language.')\n"
     ]
    }
   ],
   "source": [
    "# bytearray() returns a bytearray object and can convert objects into bytearray objects, \n",
    " # or create an empty bytearray object of the specified size.\n",
    "string = \"Python is a programming language.\"  \n",
    "arr = bytearray(string, 'utf-8')  \n",
    "print(arr)  "
   ]
  },
  {
   "cell_type": "code",
   "execution_count": 27,
   "id": "89b23719",
   "metadata": {
    "ExecuteTime": {
     "end_time": "2022-04-08T10:55:38.589974Z",
     "start_time": "2022-04-08T10:55:38.571197Z"
    }
   },
   "outputs": [
    {
     "name": "stdout",
     "output_type": "stream",
     "text": [
      "123\n",
      "123.450000\n",
      "1111011\n"
     ]
    }
   ],
   "source": [
    "# format() returns the formatted output as passed string\n",
    "print(format(123,'d'))\n",
    "print(format(123.45,'f'))\n",
    "print(format(123,'b'))"
   ]
  },
  {
   "cell_type": "code",
   "execution_count": 78,
   "id": "e4814414",
   "metadata": {
    "ExecuteTime": {
     "end_time": "2022-04-08T11:45:49.003965Z",
     "start_time": "2022-04-08T11:45:48.995919Z"
    }
   },
   "outputs": [
    {
     "name": "stdout",
     "output_type": "stream",
     "text": [
      "1614090106449586183\n",
      "1856788069696723468\n"
     ]
    }
   ],
   "source": [
    "# hash function will return the hash value of the object\n",
    "print(hash(7.7))\n",
    "print(hash(\"expert\"))"
   ]
  },
  {
   "cell_type": "code",
   "execution_count": 79,
   "id": "367aa580",
   "metadata": {
    "ExecuteTime": {
     "end_time": "2022-04-08T11:48:02.641652Z",
     "start_time": "2022-04-08T11:48:02.627670Z"
    }
   },
   "outputs": [
    {
     "data": {
      "text/plain": [
       "'0x2'"
      ]
     },
     "execution_count": 79,
     "metadata": {},
     "output_type": "execute_result"
    }
   ],
   "source": [
    "# returns hex value of the integer\n",
    "hex(2)"
   ]
  },
  {
   "cell_type": "code",
   "execution_count": 80,
   "id": "b667ebf7",
   "metadata": {
    "ExecuteTime": {
     "end_time": "2022-04-08T11:48:47.777466Z",
     "start_time": "2022-04-08T11:48:47.768495Z"
    }
   },
   "outputs": [
    {
     "data": {
      "text/plain": [
       "'0o2'"
      ]
     },
     "execution_count": 80,
     "metadata": {},
     "output_type": "execute_result"
    }
   ],
   "source": [
    "# retuns oct value of integer\n",
    "oct(2)"
   ]
  },
  {
   "cell_type": "code",
   "execution_count": 83,
   "id": "ccdb46e0",
   "metadata": {
    "ExecuteTime": {
     "end_time": "2022-04-08T11:56:00.105719Z",
     "start_time": "2022-04-08T11:56:00.091690Z"
    }
   },
   "outputs": [
    {
     "name": "stdout",
     "output_type": "stream",
     "text": [
      "56\n",
      "66\n"
     ]
    }
   ],
   "source": [
    "# ord() function returns an integer representing Unicode code point for the given Unicode character.\n",
    "print(ord('8'))\n",
    "print(ord('B'))"
   ]
  },
  {
   "cell_type": "code",
   "execution_count": 105,
   "id": "10ac01e5",
   "metadata": {
    "ExecuteTime": {
     "end_time": "2022-04-08T12:26:44.869188Z",
     "start_time": "2022-04-08T12:26:44.856157Z"
    }
   },
   "outputs": [
    {
     "name": "stdout",
     "output_type": "stream",
     "text": [
      "p\n"
     ]
    }
   ],
   "source": [
    "#chr() function is used to get a string representing a character which points to a Unicode code integer. For example, chr(97) returns the string 'a'. \n",
    "#This function takes an integer argument and throws an error if it exceeds the specified range. \n",
    "#The standard range of the argument is from 0 to 1,114,111.\n",
    "print(chr(112))"
   ]
  },
  {
   "cell_type": "markdown",
   "id": "5fa5b847",
   "metadata": {},
   "source": [
    "### Calculation Functions"
   ]
  },
  {
   "cell_type": "code",
   "execution_count": 28,
   "id": "a9efdec3",
   "metadata": {
    "ExecuteTime": {
     "end_time": "2022-04-08T11:00:15.976902Z",
     "start_time": "2022-04-08T11:00:15.967929Z"
    }
   },
   "outputs": [
    {
     "data": {
      "text/plain": [
       "10"
      ]
     },
     "execution_count": 28,
     "metadata": {},
     "output_type": "execute_result"
    }
   ],
   "source": [
    "sum([1,2,3,4])"
   ]
  },
  {
   "cell_type": "code",
   "execution_count": 29,
   "id": "21b88fc9",
   "metadata": {
    "ExecuteTime": {
     "end_time": "2022-04-08T11:00:26.918407Z",
     "start_time": "2022-04-08T11:00:26.900510Z"
    }
   },
   "outputs": [
    {
     "data": {
      "text/plain": [
       "1"
      ]
     },
     "execution_count": 29,
     "metadata": {},
     "output_type": "execute_result"
    }
   ],
   "source": [
    "min([1,2,3,4])"
   ]
  },
  {
   "cell_type": "code",
   "execution_count": 31,
   "id": "7050d595",
   "metadata": {
    "ExecuteTime": {
     "end_time": "2022-04-08T11:00:55.280991Z",
     "start_time": "2022-04-08T11:00:55.268033Z"
    }
   },
   "outputs": [
    {
     "data": {
      "text/plain": [
       "4"
      ]
     },
     "execution_count": 31,
     "metadata": {},
     "output_type": "execute_result"
    }
   ],
   "source": [
    "max([1,2,3,4])"
   ]
  },
  {
   "cell_type": "code",
   "execution_count": 30,
   "id": "ad2060aa",
   "metadata": {
    "ExecuteTime": {
     "end_time": "2022-04-08T11:00:42.553960Z",
     "start_time": "2022-04-08T11:00:42.539663Z"
    }
   },
   "outputs": [
    {
     "data": {
      "text/plain": [
       "4"
      ]
     },
     "execution_count": 30,
     "metadata": {},
     "output_type": "execute_result"
    }
   ],
   "source": [
    "pow(2,2)"
   ]
  },
  {
   "cell_type": "code",
   "execution_count": 32,
   "id": "092a1b66",
   "metadata": {
    "ExecuteTime": {
     "end_time": "2022-04-08T11:01:21.078400Z",
     "start_time": "2022-04-08T11:01:21.067437Z"
    }
   },
   "outputs": [
    {
     "data": {
      "text/plain": [
       "4"
      ]
     },
     "execution_count": 32,
     "metadata": {},
     "output_type": "execute_result"
    }
   ],
   "source": [
    "len((1,2,3,4))"
   ]
  },
  {
   "cell_type": "code",
   "execution_count": 47,
   "id": "3e34340f",
   "metadata": {
    "ExecuteTime": {
     "end_time": "2022-04-08T11:15:36.834272Z",
     "start_time": "2022-04-08T11:15:36.816170Z"
    }
   },
   "outputs": [
    {
     "data": {
      "text/plain": [
       "(1, 1)"
      ]
     },
     "execution_count": 47,
     "metadata": {},
     "output_type": "execute_result"
    }
   ],
   "source": [
    "divmod(5,4) # this will return the quotient & reminder"
   ]
  },
  {
   "cell_type": "code",
   "execution_count": 48,
   "id": "02dd60d2",
   "metadata": {
    "ExecuteTime": {
     "end_time": "2022-04-08T11:20:24.133191Z",
     "start_time": "2022-04-08T11:20:24.116225Z"
    }
   },
   "outputs": [
    {
     "data": {
      "text/plain": [
       "5"
      ]
     },
     "execution_count": 48,
     "metadata": {},
     "output_type": "execute_result"
    }
   ],
   "source": [
    "round(5.45)"
   ]
  },
  {
   "cell_type": "code",
   "execution_count": 68,
   "id": "8f70fc0a",
   "metadata": {
    "ExecuteTime": {
     "end_time": "2022-04-08T11:36:27.015080Z",
     "start_time": "2022-04-08T11:36:27.009021Z"
    }
   },
   "outputs": [
    {
     "name": "stdout",
     "output_type": "stream",
     "text": [
      "1.25\n",
      "2\n",
      "1\n",
      "4\n",
      "5\n"
     ]
    }
   ],
   "source": [
    "print(5 / 4)\n",
    "print( 5 % 3)\n",
    "print( 5 // 3)\n",
    "print( 2**2)\n",
    "print(7^2) # It's a bitwise XOR (exclusive OR).\n"
   ]
  },
  {
   "cell_type": "markdown",
   "id": "d381f0ee",
   "metadata": {
    "ExecuteTime": {
     "end_time": "2022-04-08T11:03:14.414644Z",
     "start_time": "2022-04-08T11:03:14.403682Z"
    }
   },
   "source": [
    "### Creating data structures => specified object type"
   ]
  },
  {
   "cell_type": "code",
   "execution_count": 55,
   "id": "ae27fb2d",
   "metadata": {
    "ExecuteTime": {
     "end_time": "2022-04-08T11:27:06.610814Z",
     "start_time": "2022-04-08T11:27:06.599850Z"
    }
   },
   "outputs": [
    {
     "name": "stdout",
     "output_type": "stream",
     "text": [
      "(1+0j)\n",
      "(1+2j)\n"
     ]
    }
   ],
   "source": [
    "# complex() will generate an complex number\n",
    "print(complex(1))\n",
    "print(complex(1,2))"
   ]
  },
  {
   "cell_type": "code",
   "execution_count": 56,
   "id": "116abf48",
   "metadata": {
    "ExecuteTime": {
     "end_time": "2022-04-08T11:27:40.077707Z",
     "start_time": "2022-04-08T11:27:40.059689Z"
    }
   },
   "outputs": [
    {
     "name": "stdout",
     "output_type": "stream",
     "text": [
      "123\n",
      "123.0\n",
      "123\n"
     ]
    },
    {
     "data": {
      "text/plain": [
       "'123'"
      ]
     },
     "execution_count": 56,
     "metadata": {},
     "output_type": "execute_result"
    }
   ],
   "source": [
    "print(int('123'))\n",
    "print(float('123'))\n",
    "print(str(123)) \n",
    "repr(123)"
   ]
  },
  {
   "cell_type": "code",
   "execution_count": 37,
   "id": "1ae8ace7",
   "metadata": {
    "ExecuteTime": {
     "end_time": "2022-04-08T11:03:54.636321Z",
     "start_time": "2022-04-08T11:03:54.632333Z"
    }
   },
   "outputs": [
    {
     "data": {
      "text/plain": [
       "[1, 2, 3, 4]"
      ]
     },
     "execution_count": 37,
     "metadata": {},
     "output_type": "execute_result"
    }
   ],
   "source": [
    "mylist = list((1,2,3,4))\n",
    "mylist"
   ]
  },
  {
   "cell_type": "code",
   "execution_count": 39,
   "id": "914e5229",
   "metadata": {
    "ExecuteTime": {
     "end_time": "2022-04-08T11:04:21.421471Z",
     "start_time": "2022-04-08T11:04:21.403414Z"
    }
   },
   "outputs": [
    {
     "data": {
      "text/plain": [
       "(1, 2, 3, 4)"
      ]
     },
     "execution_count": 39,
     "metadata": {},
     "output_type": "execute_result"
    }
   ],
   "source": [
    "mytuple = tuple((1,2,3,4))\n",
    "mytuple"
   ]
  },
  {
   "cell_type": "code",
   "execution_count": 40,
   "id": "44557097",
   "metadata": {
    "ExecuteTime": {
     "end_time": "2022-04-08T11:04:37.337156Z",
     "start_time": "2022-04-08T11:04:37.332173Z"
    }
   },
   "outputs": [],
   "source": [
    "mydict = dict(name = \"expert\")"
   ]
  },
  {
   "cell_type": "code",
   "execution_count": 41,
   "id": "8bf1a16c",
   "metadata": {
    "ExecuteTime": {
     "end_time": "2022-04-08T11:04:54.257364Z",
     "start_time": "2022-04-08T11:04:54.248471Z"
    }
   },
   "outputs": [
    {
     "data": {
      "text/plain": [
       "{1, 2, 3, 4}"
      ]
     },
     "execution_count": 41,
     "metadata": {},
     "output_type": "execute_result"
    }
   ],
   "source": [
    "myset = set((1,2,3,4,2))\n",
    "myset"
   ]
  },
  {
   "cell_type": "code",
   "execution_count": 43,
   "id": "544f8d18",
   "metadata": {
    "ExecuteTime": {
     "end_time": "2022-04-08T11:08:08.036641Z",
     "start_time": "2022-04-08T11:08:08.027670Z"
    }
   },
   "outputs": [
    {
     "name": "stdout",
     "output_type": "stream",
     "text": [
      "<class 'tuple'>\n",
      "Frozen set is: frozenset({'o', 't', 's', 'm', 'r'})\n"
     ]
    }
   ],
   "source": [
    "# frozenset() function returns an immutable frozenset object initialized with elements from the given iterable\n",
    "letters = ('m', 'r', 'o', 't', 's','s')  \n",
    "print(type(letters))\n",
    "fSet = frozenset(letters)  \n",
    "print('Frozen set is:', fSet)  "
   ]
  },
  {
   "cell_type": "code",
   "execution_count": 71,
   "id": "6bdf7b7c",
   "metadata": {
    "ExecuteTime": {
     "end_time": "2022-04-08T11:42:06.280406Z",
     "start_time": "2022-04-08T11:42:06.272432Z"
    }
   },
   "outputs": [
    {
     "name": "stdout",
     "output_type": "stream",
     "text": [
      "[(0, 1), (1, 2), (2, 3)]\n"
     ]
    }
   ],
   "source": [
    "# enumerate() function returns an enumerated object. It takes two parameters, \n",
    "# first is a sequence of elements and the second is the start index of the sequence. We can get the elements in sequence either through a loop or next() method.\n",
    "print(list(enumerate([1,2,3])))"
   ]
  },
  {
   "cell_type": "code",
   "execution_count": 81,
   "id": "e6283fda",
   "metadata": {
    "ExecuteTime": {
     "end_time": "2022-04-08T11:53:57.335167Z",
     "start_time": "2022-04-08T11:53:57.316160Z"
    }
   },
   "outputs": [
    {
     "data": {
      "text/plain": [
       "[0, 1, 2, 3, 4, 5, 6, 7, 8, 9]"
      ]
     },
     "execution_count": 81,
     "metadata": {},
     "output_type": "execute_result"
    }
   ],
   "source": [
    "list(range(10))"
   ]
  },
  {
   "cell_type": "code",
   "execution_count": 73,
   "id": "07fa430b",
   "metadata": {
    "ExecuteTime": {
     "end_time": "2022-04-08T11:42:41.177156Z",
     "start_time": "2022-04-08T11:42:41.160210Z"
    }
   },
   "outputs": [
    {
     "data": {
      "text/plain": [
       "[3, 2, 1]"
      ]
     },
     "execution_count": 73,
     "metadata": {},
     "output_type": "execute_result"
    }
   ],
   "source": [
    "# reverse the sequence\n",
    "list(reversed([1,2,3]))"
   ]
  },
  {
   "cell_type": "code",
   "execution_count": 74,
   "id": "2ba7cb54",
   "metadata": {
    "ExecuteTime": {
     "end_time": "2022-04-08T11:43:26.602482Z",
     "start_time": "2022-04-08T11:43:26.592418Z"
    }
   },
   "outputs": [
    {
     "data": {
      "text/plain": [
       "[0, 1, 2, 3, 4]"
      ]
     },
     "execution_count": 74,
     "metadata": {},
     "output_type": "execute_result"
    }
   ],
   "source": [
    "# sort the sequence\n",
    "sorted([1,2,4,3,0])"
   ]
  },
  {
   "cell_type": "code",
   "execution_count": 75,
   "id": "b95fd636",
   "metadata": {
    "ExecuteTime": {
     "end_time": "2022-04-08T11:43:50.620671Z",
     "start_time": "2022-04-08T11:43:50.615687Z"
    }
   },
   "outputs": [
    {
     "data": {
      "text/plain": [
       "3"
      ]
     },
     "execution_count": 75,
     "metadata": {},
     "output_type": "execute_result"
    }
   ],
   "source": [
    "len([1,2,3])"
   ]
  },
  {
   "cell_type": "code",
   "execution_count": 90,
   "id": "fd2c5f48",
   "metadata": {
    "ExecuteTime": {
     "end_time": "2022-04-08T12:08:33.486047Z",
     "start_time": "2022-04-08T12:08:33.469144Z"
    }
   },
   "outputs": [
    {
     "name": "stdout",
     "output_type": "stream",
     "text": [
      "<class 'dict'>\n"
     ]
    }
   ],
   "source": [
    "mydict = {}\n",
    "print(type(mydict))"
   ]
  },
  {
   "cell_type": "code",
   "execution_count": 104,
   "id": "898ac756",
   "metadata": {
    "ExecuteTime": {
     "end_time": "2022-04-08T12:24:59.521726Z",
     "start_time": "2022-04-08T12:24:59.511762Z"
    }
   },
   "outputs": [],
   "source": [
    "#slice() function is used to get a slice of elements from the collection of elements. \n",
    "#Python provides two overloaded slice functions. The first function takes a single argument while the second function takes three arguments and returns a slice object. \n",
    "#This slice object can be used to get a subsection of the collection.\n",
    "myslice = slice(3)"
   ]
  },
  {
   "cell_type": "markdown",
   "id": "9c653659",
   "metadata": {
    "ExecuteTime": {
     "end_time": "2022-04-08T11:09:29.316255Z",
     "start_time": "2022-04-08T11:09:29.304294Z"
    }
   },
   "source": [
    "### variables based functions"
   ]
  },
  {
   "cell_type": "code",
   "execution_count": 49,
   "id": "673a5118",
   "metadata": {
    "ExecuteTime": {
     "end_time": "2022-04-08T11:20:58.163340Z",
     "start_time": "2022-04-08T11:20:58.148125Z"
    }
   },
   "outputs": [],
   "source": [
    "# adding varibale to the global enviroment\n",
    "globals()['age'] = 12\n"
   ]
  },
  {
   "cell_type": "code",
   "execution_count": 50,
   "id": "908ebaa0",
   "metadata": {
    "ExecuteTime": {
     "end_time": "2022-04-08T11:21:09.582153Z",
     "start_time": "2022-04-08T11:21:09.572237Z"
    }
   },
   "outputs": [
    {
     "data": {
      "text/plain": [
       "{'__name__': '__main__',\n",
       " '__doc__': '\\nall() function accepts an iterable object (such as list, dictionary, etc.). It returns true if all items in passed iterable are true. Otherwise, it returns False. \\nIf the iterable object is empty, the all() function returns True.\\n',\n",
       " '__package__': None,\n",
       " '__loader__': None,\n",
       " '__spec__': None,\n",
       " '__builtin__': <module 'builtins' (built-in)>,\n",
       " '__builtins__': <module 'builtins' (built-in)>,\n",
       " '_ih': ['',\n",
       "  '# abs() function is used to return the absolute value of a number.\\nabs(3.4)',\n",
       "  '# abs() function is used to return the absolute value of a number.\\nabs(-3.4)',\n",
       "  '\"\"\"\\nall() function accepts an iterable object (such as list, dictionary, etc.). It returns true if all items in passed iterable are true. Otherwise, it returns False. \\nIf the iterable object is empty, the all() function returns True.\\n\"\"\"',\n",
       "  '\"\"\"\\nall() function accepts an iterable object (such as list, dictionary, etc.). It returns true if all items in passed iterable are true. Otherwise, it returns False. \\nIf the iterable object is empty, the all() function returns True.\\n\"\"\"\\nprint(all([1,2,3,4]))\\nprint(all([0,1]))',\n",
       "  '# bin() function is used to return the binary representation of a specified integer.\\nbin(10)',\n",
       "  '# bool() converts a value to boolean(True or False) using the standard truth testing procedure.\\nprint(bool(\"hello\"),bool(0),bool(None))',\n",
       "  '#  bytes() in Python is used for returning a bytes object. It is an immutable version of the bytearray() function.\\nmystring = \"hello expert\"\\nmyarray = bytes(mystring,\"utf-8\")\\nprint(myarray)',\n",
       "  '# callable() function in Python is something that can be called. This built-in function checks and\\n# returns true if the object passed appears to be callable, otherwise false.\\nx = 10\\nprint(callable(x))\\n\\ndef myfunc():\\n    pass\\n\\nprint(callable(myfunc))',\n",
       "  '# compile() function takes source code as input and returns a code object which can later be executed by exec() function.',\n",
       "  '# compile() function takes source code as input and returns a code object which can later be executed by exec() function.\\nmycode = \"\"\"\\nx = 10\\ny = 5\\nprint(x+y)\\n\"\"\"\\ncompiled_code = compile(mycode)\\nexec(compiled_code)',\n",
       "  '# compile() function takes source code as input and returns a code object which can later be executed by exec() function.\\nmycode = \"\"\"\\nx = 10\\ny = 5\\nprint(x+y)\\n\"\"\"\\ncompiled_code = compile(mycode,\"sum.py\",\"exec\")\\nexec(compiled_code)',\n",
       "  'import builtins\\nprint(dir(buitins))',\n",
       "  'import builtins\\nprint(dir(builtins))',\n",
       "  \"help('ArithmeticError')\",\n",
       "  'help(bool)',\n",
       "  '# exec() function is used for the dynamic execution of Python program which can either be a string or object code and it accepts large blocks of code, \\n#unlike the eval() function which only accepts a single expression.\\nmycode = \"\"\"\\nprint(\"python expert\")\\n\"\"\"\\nexec(mycode)',\n",
       "  '# bin() function is used to return the binary representation of a specified integer. it startes with \"0b\"\\nbin(10)\\nprint(any([1,2,3,4]))\\nprint(any([0,1]))',\n",
       "  '#any() function returns true if any item in an iterable is true. Otherwise, it returns False.\\nprint(any([1,2,3,4]))\\nprint(any([0,1]))',\n",
       "  '# bin() function is used to return the binary representation of a specified integer. it startes with \"0b\"\\nbin(10)',\n",
       "  'eval(\"print(\\'pythonexpert\\')\")',\n",
       "  'eval(\"print(\\'python expert\\')\")',\n",
       "  '# bytearray() returns a bytearray object and can convert objects into bytearray objects, \\n # or create an empty bytearray object of the specified size.\\nstring = \"Python is a programming language.\"  \\narr = bytearray(string, \\'utf-8\\')  \\nprint(arr)  ',\n",
       "  '# format() returns the formatted output as passed string\\nx =\"123.056\"\\nprint(format(x,\\'d\\'))\\nprint(format(x,\\'f\\'))\\nprint(format(x,\\'b\\'))',\n",
       "  \"# format() returns the formatted output as passed string\\nx =123.056\\nprint(format(x,'d'))\\nprint(format(x,'f'))\\nprint(format(x,'b'))\",\n",
       "  \"# format() returns the formatted output as passed string\\nx =123.056\\nprint(format(123,'d'))\\nprint(format(x,'f'))\\nprint(format(x,'b'))\",\n",
       "  \"# format() returns the formatted output as passed string\\nx =123.056\\nprint(format(123,'d'))\\nprint(format(x,'f'))\\nprint(format(123,'b'))\",\n",
       "  \"# format() returns the formatted output as passed string\\n\\nprint(format(123,'d'))\\nprint(format(123.45,'f'))\\nprint(format(123,'b'))\",\n",
       "  'sum([1,2,3,4])',\n",
       "  'min([1,2,3,4])',\n",
       "  'pow(2,2)',\n",
       "  'max([1,2,3,4])',\n",
       "  'len((1,2,3,4))',\n",
       "  '\"a\" in \"alfha\"',\n",
       "  '### Creating data structures () specified object type',\n",
       "  'mylist = list(1,2,3,4)',\n",
       "  'mylist = list((1,2,3,4))',\n",
       "  'mylist = list((1,2,3,4))\\nmylist',\n",
       "  'mytuple = tuple(1,2,3,4)\\nmytuple',\n",
       "  'mytuple = tuple((1,2,3,4))\\nmytuple',\n",
       "  'mydict = dict(name = \"expert\")',\n",
       "  'myset = set((1,2,3,4,2))\\nmyset',\n",
       "  \"# frozenset() function returns an immutable frozenset object initialized with elements from the given iterable\\nletters = ('m', 'r', 'o', 't', 's','s')   \\nfSet = frozenset(letters)  \\nprint('Frozen set is:', fSet)  \",\n",
       "  \"# frozenset() function returns an immutable frozenset object initialized with elements from the given iterable\\nletters = ('m', 'r', 'o', 't', 's','s')  \\nprint(type(letters))\\nfSet = frozenset(letters)  \\nprint('Frozen set is:', fSet)  \",\n",
       "  '### variables based functions',\n",
       "  'class Myclass:\\n    pass\\n\\nmyinst = Myclass()\\n\\nmyinst isinstance Myclass',\n",
       "  'class Myclass:\\n    pass\\n\\nmyinst = Myclass()\\nisinstance(myinst,Myclass)',\n",
       "  'divmod(5,4)',\n",
       "  'round(5.45)',\n",
       "  \"globals()['age'] = 12\",\n",
       "  'globals()'],\n",
       " '_oh': {1: 3.4,\n",
       "  2: 3.4,\n",
       "  3: '\\nall() function accepts an iterable object (such as list, dictionary, etc.). It returns true if all items in passed iterable are true. Otherwise, it returns False. \\nIf the iterable object is empty, the all() function returns True.\\n',\n",
       "  5: '0b1010',\n",
       "  19: '0b1010',\n",
       "  28: 10,\n",
       "  29: 1,\n",
       "  30: 4,\n",
       "  31: 4,\n",
       "  32: 4,\n",
       "  33: True,\n",
       "  37: [1, 2, 3, 4],\n",
       "  39: (1, 2, 3, 4),\n",
       "  41: {1, 2, 3, 4},\n",
       "  46: True,\n",
       "  47: (1, 1),\n",
       "  48: 5},\n",
       " '_dh': ['C:\\\\Users\\\\Lenovo\\\\OneDrive - Синерджи Глобал Файненшъл Солюшънс ЕООД\\\\Desktop\\\\Python_projects\\\\PCAP\\\\PCAP_Notebooks\\\\Python Basics'],\n",
       " 'In': ['',\n",
       "  '# abs() function is used to return the absolute value of a number.\\nabs(3.4)',\n",
       "  '# abs() function is used to return the absolute value of a number.\\nabs(-3.4)',\n",
       "  '\"\"\"\\nall() function accepts an iterable object (such as list, dictionary, etc.). It returns true if all items in passed iterable are true. Otherwise, it returns False. \\nIf the iterable object is empty, the all() function returns True.\\n\"\"\"',\n",
       "  '\"\"\"\\nall() function accepts an iterable object (such as list, dictionary, etc.). It returns true if all items in passed iterable are true. Otherwise, it returns False. \\nIf the iterable object is empty, the all() function returns True.\\n\"\"\"\\nprint(all([1,2,3,4]))\\nprint(all([0,1]))',\n",
       "  '# bin() function is used to return the binary representation of a specified integer.\\nbin(10)',\n",
       "  '# bool() converts a value to boolean(True or False) using the standard truth testing procedure.\\nprint(bool(\"hello\"),bool(0),bool(None))',\n",
       "  '#  bytes() in Python is used for returning a bytes object. It is an immutable version of the bytearray() function.\\nmystring = \"hello expert\"\\nmyarray = bytes(mystring,\"utf-8\")\\nprint(myarray)',\n",
       "  '# callable() function in Python is something that can be called. This built-in function checks and\\n# returns true if the object passed appears to be callable, otherwise false.\\nx = 10\\nprint(callable(x))\\n\\ndef myfunc():\\n    pass\\n\\nprint(callable(myfunc))',\n",
       "  '# compile() function takes source code as input and returns a code object which can later be executed by exec() function.',\n",
       "  '# compile() function takes source code as input and returns a code object which can later be executed by exec() function.\\nmycode = \"\"\"\\nx = 10\\ny = 5\\nprint(x+y)\\n\"\"\"\\ncompiled_code = compile(mycode)\\nexec(compiled_code)',\n",
       "  '# compile() function takes source code as input and returns a code object which can later be executed by exec() function.\\nmycode = \"\"\"\\nx = 10\\ny = 5\\nprint(x+y)\\n\"\"\"\\ncompiled_code = compile(mycode,\"sum.py\",\"exec\")\\nexec(compiled_code)',\n",
       "  'import builtins\\nprint(dir(buitins))',\n",
       "  'import builtins\\nprint(dir(builtins))',\n",
       "  \"help('ArithmeticError')\",\n",
       "  'help(bool)',\n",
       "  '# exec() function is used for the dynamic execution of Python program which can either be a string or object code and it accepts large blocks of code, \\n#unlike the eval() function which only accepts a single expression.\\nmycode = \"\"\"\\nprint(\"python expert\")\\n\"\"\"\\nexec(mycode)',\n",
       "  '# bin() function is used to return the binary representation of a specified integer. it startes with \"0b\"\\nbin(10)\\nprint(any([1,2,3,4]))\\nprint(any([0,1]))',\n",
       "  '#any() function returns true if any item in an iterable is true. Otherwise, it returns False.\\nprint(any([1,2,3,4]))\\nprint(any([0,1]))',\n",
       "  '# bin() function is used to return the binary representation of a specified integer. it startes with \"0b\"\\nbin(10)',\n",
       "  'eval(\"print(\\'pythonexpert\\')\")',\n",
       "  'eval(\"print(\\'python expert\\')\")',\n",
       "  '# bytearray() returns a bytearray object and can convert objects into bytearray objects, \\n # or create an empty bytearray object of the specified size.\\nstring = \"Python is a programming language.\"  \\narr = bytearray(string, \\'utf-8\\')  \\nprint(arr)  ',\n",
       "  '# format() returns the formatted output as passed string\\nx =\"123.056\"\\nprint(format(x,\\'d\\'))\\nprint(format(x,\\'f\\'))\\nprint(format(x,\\'b\\'))',\n",
       "  \"# format() returns the formatted output as passed string\\nx =123.056\\nprint(format(x,'d'))\\nprint(format(x,'f'))\\nprint(format(x,'b'))\",\n",
       "  \"# format() returns the formatted output as passed string\\nx =123.056\\nprint(format(123,'d'))\\nprint(format(x,'f'))\\nprint(format(x,'b'))\",\n",
       "  \"# format() returns the formatted output as passed string\\nx =123.056\\nprint(format(123,'d'))\\nprint(format(x,'f'))\\nprint(format(123,'b'))\",\n",
       "  \"# format() returns the formatted output as passed string\\n\\nprint(format(123,'d'))\\nprint(format(123.45,'f'))\\nprint(format(123,'b'))\",\n",
       "  'sum([1,2,3,4])',\n",
       "  'min([1,2,3,4])',\n",
       "  'pow(2,2)',\n",
       "  'max([1,2,3,4])',\n",
       "  'len((1,2,3,4))',\n",
       "  '\"a\" in \"alfha\"',\n",
       "  '### Creating data structures () specified object type',\n",
       "  'mylist = list(1,2,3,4)',\n",
       "  'mylist = list((1,2,3,4))',\n",
       "  'mylist = list((1,2,3,4))\\nmylist',\n",
       "  'mytuple = tuple(1,2,3,4)\\nmytuple',\n",
       "  'mytuple = tuple((1,2,3,4))\\nmytuple',\n",
       "  'mydict = dict(name = \"expert\")',\n",
       "  'myset = set((1,2,3,4,2))\\nmyset',\n",
       "  \"# frozenset() function returns an immutable frozenset object initialized with elements from the given iterable\\nletters = ('m', 'r', 'o', 't', 's','s')   \\nfSet = frozenset(letters)  \\nprint('Frozen set is:', fSet)  \",\n",
       "  \"# frozenset() function returns an immutable frozenset object initialized with elements from the given iterable\\nletters = ('m', 'r', 'o', 't', 's','s')  \\nprint(type(letters))\\nfSet = frozenset(letters)  \\nprint('Frozen set is:', fSet)  \",\n",
       "  '### variables based functions',\n",
       "  'class Myclass:\\n    pass\\n\\nmyinst = Myclass()\\n\\nmyinst isinstance Myclass',\n",
       "  'class Myclass:\\n    pass\\n\\nmyinst = Myclass()\\nisinstance(myinst,Myclass)',\n",
       "  'divmod(5,4)',\n",
       "  'round(5.45)',\n",
       "  \"globals()['age'] = 12\",\n",
       "  'globals()'],\n",
       " 'Out': {1: 3.4,\n",
       "  2: 3.4,\n",
       "  3: '\\nall() function accepts an iterable object (such as list, dictionary, etc.). It returns true if all items in passed iterable are true. Otherwise, it returns False. \\nIf the iterable object is empty, the all() function returns True.\\n',\n",
       "  5: '0b1010',\n",
       "  19: '0b1010',\n",
       "  28: 10,\n",
       "  29: 1,\n",
       "  30: 4,\n",
       "  31: 4,\n",
       "  32: 4,\n",
       "  33: True,\n",
       "  37: [1, 2, 3, 4],\n",
       "  39: (1, 2, 3, 4),\n",
       "  41: {1, 2, 3, 4},\n",
       "  46: True,\n",
       "  47: (1, 1),\n",
       "  48: 5},\n",
       " 'get_ipython': <function IPython.core.getipython.get_ipython()>,\n",
       " 'exit': <IPython.core.autocall.ZMQExitAutocall at 0x224846aee30>,\n",
       " 'quit': <IPython.core.autocall.ZMQExitAutocall at 0x224846aee30>,\n",
       " '_': 5,\n",
       " '__': (1, 1),\n",
       " '___': True,\n",
       " 'json': <module 'json' from 'C:\\\\Users\\\\Lenovo\\\\AppData\\\\Local\\\\Programs\\\\Python\\\\Python310\\\\lib\\\\json\\\\__init__.py'>,\n",
       " 'yapf_reformat': <function __main__.yapf_reformat(cell_text)>,\n",
       " 'getsizeof': <function sys.getsizeof>,\n",
       " 'NamespaceMagics': IPython.core.magics.namespace.NamespaceMagics,\n",
       " '_nms': <IPython.core.magics.namespace.NamespaceMagics at 0x22484774580>,\n",
       " '_Jupyter': <ipykernel.zmqshell.ZMQInteractiveShell at 0x224846ae320>,\n",
       " 'np': <module 'numpy' from 'C:\\\\Users\\\\Lenovo\\\\AppData\\\\Local\\\\Programs\\\\Python\\\\Python310\\\\lib\\\\site-packages\\\\numpy\\\\__init__.py'>,\n",
       " '_getsizeof': <function __main__._getsizeof(x)>,\n",
       " '_getshapeof': <function __main__._getshapeof(x)>,\n",
       " 'var_dic_list': <function __main__.var_dic_list()>,\n",
       " '_i': \"globals()['age'] = 12\",\n",
       " '_ii': 'round(5.45)',\n",
       " '_iii': 'divmod(5,4)',\n",
       " '_i1': '# abs() function is used to return the absolute value of a number.\\nabs(3.4)',\n",
       " '_1': 3.4,\n",
       " '_i2': '# abs() function is used to return the absolute value of a number.\\nabs(-3.4)',\n",
       " '_2': 3.4,\n",
       " '_i3': '\"\"\"\\nall() function accepts an iterable object (such as list, dictionary, etc.). It returns true if all items in passed iterable are true. Otherwise, it returns False. \\nIf the iterable object is empty, the all() function returns True.\\n\"\"\"',\n",
       " '_3': '\\nall() function accepts an iterable object (such as list, dictionary, etc.). It returns true if all items in passed iterable are true. Otherwise, it returns False. \\nIf the iterable object is empty, the all() function returns True.\\n',\n",
       " '_i4': '\"\"\"\\nall() function accepts an iterable object (such as list, dictionary, etc.). It returns true if all items in passed iterable are true. Otherwise, it returns False. \\nIf the iterable object is empty, the all() function returns True.\\n\"\"\"\\nprint(all([1,2,3,4]))\\nprint(all([0,1]))',\n",
       " '_i5': '# bin() function is used to return the binary representation of a specified integer.\\nbin(10)',\n",
       " '_5': '0b1010',\n",
       " '_i6': '# bool() converts a value to boolean(True or False) using the standard truth testing procedure.\\nprint(bool(\"hello\"),bool(0),bool(None))',\n",
       " '_i7': '#  bytes() in Python is used for returning a bytes object. It is an immutable version of the bytearray() function.\\nmystring = \"hello expert\"\\nmyarray = bytes(mystring,\"utf-8\")\\nprint(myarray)',\n",
       " 'mystring': 'hello expert',\n",
       " 'myarray': b'hello expert',\n",
       " '_i8': '# callable() function in Python is something that can be called. This built-in function checks and\\n# returns true if the object passed appears to be callable, otherwise false.\\nx = 10\\nprint(callable(x))\\n\\ndef myfunc():\\n    pass\\n\\nprint(callable(myfunc))',\n",
       " 'x': 123.056,\n",
       " 'myfunc': <function __main__.myfunc()>,\n",
       " '_i9': '# compile() function takes source code as input and returns a code object which can later be executed by exec() function.',\n",
       " '_i10': '# compile() function takes source code as input and returns a code object which can later be executed by exec() function.\\nmycode = \"\"\"\\nx = 10\\ny = 5\\nprint(x+y)\\n\"\"\"\\ncompiled_code = compile(mycode)\\nexec(compiled_code)',\n",
       " 'mycode': '\\nprint(\"python expert\")\\n',\n",
       " '_i11': '# compile() function takes source code as input and returns a code object which can later be executed by exec() function.\\nmycode = \"\"\"\\nx = 10\\ny = 5\\nprint(x+y)\\n\"\"\"\\ncompiled_code = compile(mycode,\"sum.py\",\"exec\")\\nexec(compiled_code)',\n",
       " 'compiled_code': <code object <module> at 0x0000022493C17470, file \"sum.py\", line 1>,\n",
       " 'y': 5,\n",
       " '_i12': 'import builtins\\nprint(dir(buitins))',\n",
       " 'builtins': <module 'builtins' (built-in)>,\n",
       " '_i13': 'import builtins\\nprint(dir(builtins))',\n",
       " '_i14': \"help('ArithmeticError')\",\n",
       " '_i15': 'help(bool)',\n",
       " '_i16': '# exec() function is used for the dynamic execution of Python program which can either be a string or object code and it accepts large blocks of code, \\n#unlike the eval() function which only accepts a single expression.\\nmycode = \"\"\"\\nprint(\"python expert\")\\n\"\"\"\\nexec(mycode)',\n",
       " '_i17': '# bin() function is used to return the binary representation of a specified integer. it startes with \"0b\"\\nbin(10)\\nprint(any([1,2,3,4]))\\nprint(any([0,1]))',\n",
       " '_i18': '#any() function returns true if any item in an iterable is true. Otherwise, it returns False.\\nprint(any([1,2,3,4]))\\nprint(any([0,1]))',\n",
       " '_i19': '# bin() function is used to return the binary representation of a specified integer. it startes with \"0b\"\\nbin(10)',\n",
       " '_19': '0b1010',\n",
       " '_i20': 'eval(\"print(\\'pythonexpert\\')\")',\n",
       " '_i21': 'eval(\"print(\\'python expert\\')\")',\n",
       " '_i22': '# bytearray() returns a bytearray object and can convert objects into bytearray objects, \\n # or create an empty bytearray object of the specified size.\\nstring = \"Python is a programming language.\"  \\narr = bytearray(string, \\'utf-8\\')  \\nprint(arr)  ',\n",
       " 'string': 'Python is a programming language.',\n",
       " 'arr': bytearray(b'Python is a programming language.'),\n",
       " '_i23': '# format() returns the formatted output as passed string\\nx =\"123.056\"\\nprint(format(x,\\'d\\'))\\nprint(format(x,\\'f\\'))\\nprint(format(x,\\'b\\'))',\n",
       " '_i24': \"# format() returns the formatted output as passed string\\nx =123.056\\nprint(format(x,'d'))\\nprint(format(x,'f'))\\nprint(format(x,'b'))\",\n",
       " '_i25': \"# format() returns the formatted output as passed string\\nx =123.056\\nprint(format(123,'d'))\\nprint(format(x,'f'))\\nprint(format(x,'b'))\",\n",
       " '_i26': \"# format() returns the formatted output as passed string\\nx =123.056\\nprint(format(123,'d'))\\nprint(format(x,'f'))\\nprint(format(123,'b'))\",\n",
       " '_i27': \"# format() returns the formatted output as passed string\\n\\nprint(format(123,'d'))\\nprint(format(123.45,'f'))\\nprint(format(123,'b'))\",\n",
       " '_i28': 'sum([1,2,3,4])',\n",
       " '_28': 10,\n",
       " '_i29': 'min([1,2,3,4])',\n",
       " '_29': 1,\n",
       " '_i30': 'pow(2,2)',\n",
       " '_30': 4,\n",
       " '_i31': 'max([1,2,3,4])',\n",
       " '_31': 4,\n",
       " '_i32': 'len((1,2,3,4))',\n",
       " '_32': 4,\n",
       " '_i33': '\"a\" in \"alfha\"',\n",
       " '_33': True,\n",
       " '_i34': '### Creating data structures () specified object type',\n",
       " '_i35': 'mylist = list(1,2,3,4)',\n",
       " '_i36': 'mylist = list((1,2,3,4))',\n",
       " 'mylist': [1, 2, 3, 4],\n",
       " '_i37': 'mylist = list((1,2,3,4))\\nmylist',\n",
       " '_37': [1, 2, 3, 4],\n",
       " '_i38': 'mytuple = tuple(1,2,3,4)\\nmytuple',\n",
       " '_i39': 'mytuple = tuple((1,2,3,4))\\nmytuple',\n",
       " 'mytuple': (1, 2, 3, 4),\n",
       " '_39': (1, 2, 3, 4),\n",
       " '_i40': 'mydict = dict(name = \"expert\")',\n",
       " 'mydict': {'name': 'expert'},\n",
       " '_i41': 'myset = set((1,2,3,4,2))\\nmyset',\n",
       " 'myset': {1, 2, 3, 4},\n",
       " '_41': {1, 2, 3, 4},\n",
       " '_i42': \"# frozenset() function returns an immutable frozenset object initialized with elements from the given iterable\\nletters = ('m', 'r', 'o', 't', 's','s')   \\nfSet = frozenset(letters)  \\nprint('Frozen set is:', fSet)  \",\n",
       " 'letters': ('m', 'r', 'o', 't', 's', 's'),\n",
       " 'fSet': frozenset({'m', 'o', 'r', 's', 't'}),\n",
       " '_i43': \"# frozenset() function returns an immutable frozenset object initialized with elements from the given iterable\\nletters = ('m', 'r', 'o', 't', 's','s')  \\nprint(type(letters))\\nfSet = frozenset(letters)  \\nprint('Frozen set is:', fSet)  \",\n",
       " '_i44': '### variables based functions',\n",
       " '_i45': 'class Myclass:\\n    pass\\n\\nmyinst = Myclass()\\n\\nmyinst isinstance Myclass',\n",
       " '_i46': 'class Myclass:\\n    pass\\n\\nmyinst = Myclass()\\nisinstance(myinst,Myclass)',\n",
       " 'Myclass': __main__.Myclass,\n",
       " 'myinst': <__main__.Myclass at 0x22494b405e0>,\n",
       " '_46': True,\n",
       " '_i47': 'divmod(5,4)',\n",
       " '_47': (1, 1),\n",
       " '_i48': 'round(5.45)',\n",
       " '_48': 5,\n",
       " '_i49': \"globals()['age'] = 12\",\n",
       " 'age': 12,\n",
       " '_i50': 'globals()'}"
      ]
     },
     "execution_count": 50,
     "metadata": {},
     "output_type": "execute_result"
    }
   ],
   "source": [
    "# this will return all the values and imports as a dict\n",
    "globals()"
   ]
  },
  {
   "cell_type": "markdown",
   "id": "98bd127a",
   "metadata": {},
   "source": [
    "locals() method updates and returns the dictionary of the current local symbol table.\n",
    "\n",
    "A Symbol table is defined as a data structure which contains all the necessary information about the program. It includes variable names, methods, classes, etc."
   ]
  },
  {
   "cell_type": "code",
   "execution_count": 107,
   "id": "17bbb0da",
   "metadata": {
    "ExecuteTime": {
     "end_time": "2022-04-08T12:28:49.430802Z",
     "start_time": "2022-04-08T12:28:49.407880Z"
    }
   },
   "outputs": [
    {
     "data": {
      "text/plain": [
       "{'__name__': '__main__',\n",
       " '__doc__': '\\nall() function accepts an iterable object (such as list, dictionary, etc.). It returns true if all items in passed iterable are true. Otherwise, it returns False. \\nIf the iterable object is empty, the all() function returns True.\\n',\n",
       " '__package__': None,\n",
       " '__loader__': None,\n",
       " '__spec__': None,\n",
       " '__builtin__': <module 'builtins' (built-in)>,\n",
       " '__builtins__': <module 'builtins' (built-in)>,\n",
       " '_ih': ['',\n",
       "  '# abs() function is used to return the absolute value of a number.\\nabs(3.4)',\n",
       "  '# abs() function is used to return the absolute value of a number.\\nabs(-3.4)',\n",
       "  '\"\"\"\\nall() function accepts an iterable object (such as list, dictionary, etc.). It returns true if all items in passed iterable are true. Otherwise, it returns False. \\nIf the iterable object is empty, the all() function returns True.\\n\"\"\"',\n",
       "  '\"\"\"\\nall() function accepts an iterable object (such as list, dictionary, etc.). It returns true if all items in passed iterable are true. Otherwise, it returns False. \\nIf the iterable object is empty, the all() function returns True.\\n\"\"\"\\nprint(all([1,2,3,4]))\\nprint(all([0,1]))',\n",
       "  '# bin() function is used to return the binary representation of a specified integer.\\nbin(10)',\n",
       "  '# bool() converts a value to boolean(True or False) using the standard truth testing procedure.\\nprint(bool(\"hello\"),bool(0),bool(None))',\n",
       "  '#  bytes() in Python is used for returning a bytes object. It is an immutable version of the bytearray() function.\\nmystring = \"hello expert\"\\nmyarray = bytes(mystring,\"utf-8\")\\nprint(myarray)',\n",
       "  '# callable() function in Python is something that can be called. This built-in function checks and\\n# returns true if the object passed appears to be callable, otherwise false.\\nx = 10\\nprint(callable(x))\\n\\ndef myfunc():\\n    pass\\n\\nprint(callable(myfunc))',\n",
       "  '# compile() function takes source code as input and returns a code object which can later be executed by exec() function.',\n",
       "  '# compile() function takes source code as input and returns a code object which can later be executed by exec() function.\\nmycode = \"\"\"\\nx = 10\\ny = 5\\nprint(x+y)\\n\"\"\"\\ncompiled_code = compile(mycode)\\nexec(compiled_code)',\n",
       "  '# compile() function takes source code as input and returns a code object which can later be executed by exec() function.\\nmycode = \"\"\"\\nx = 10\\ny = 5\\nprint(x+y)\\n\"\"\"\\ncompiled_code = compile(mycode,\"sum.py\",\"exec\")\\nexec(compiled_code)',\n",
       "  'import builtins\\nprint(dir(buitins))',\n",
       "  'import builtins\\nprint(dir(builtins))',\n",
       "  \"help('ArithmeticError')\",\n",
       "  'help(bool)',\n",
       "  '# exec() function is used for the dynamic execution of Python program which can either be a string or object code and it accepts large blocks of code, \\n#unlike the eval() function which only accepts a single expression.\\nmycode = \"\"\"\\nprint(\"python expert\")\\n\"\"\"\\nexec(mycode)',\n",
       "  '# bin() function is used to return the binary representation of a specified integer. it startes with \"0b\"\\nbin(10)\\nprint(any([1,2,3,4]))\\nprint(any([0,1]))',\n",
       "  '#any() function returns true if any item in an iterable is true. Otherwise, it returns False.\\nprint(any([1,2,3,4]))\\nprint(any([0,1]))',\n",
       "  '# bin() function is used to return the binary representation of a specified integer. it startes with \"0b\"\\nbin(10)',\n",
       "  'eval(\"print(\\'pythonexpert\\')\")',\n",
       "  'eval(\"print(\\'python expert\\')\")',\n",
       "  '# bytearray() returns a bytearray object and can convert objects into bytearray objects, \\n # or create an empty bytearray object of the specified size.\\nstring = \"Python is a programming language.\"  \\narr = bytearray(string, \\'utf-8\\')  \\nprint(arr)  ',\n",
       "  '# format() returns the formatted output as passed string\\nx =\"123.056\"\\nprint(format(x,\\'d\\'))\\nprint(format(x,\\'f\\'))\\nprint(format(x,\\'b\\'))',\n",
       "  \"# format() returns the formatted output as passed string\\nx =123.056\\nprint(format(x,'d'))\\nprint(format(x,'f'))\\nprint(format(x,'b'))\",\n",
       "  \"# format() returns the formatted output as passed string\\nx =123.056\\nprint(format(123,'d'))\\nprint(format(x,'f'))\\nprint(format(x,'b'))\",\n",
       "  \"# format() returns the formatted output as passed string\\nx =123.056\\nprint(format(123,'d'))\\nprint(format(x,'f'))\\nprint(format(123,'b'))\",\n",
       "  \"# format() returns the formatted output as passed string\\n\\nprint(format(123,'d'))\\nprint(format(123.45,'f'))\\nprint(format(123,'b'))\",\n",
       "  'sum([1,2,3,4])',\n",
       "  'min([1,2,3,4])',\n",
       "  'pow(2,2)',\n",
       "  'max([1,2,3,4])',\n",
       "  'len((1,2,3,4))',\n",
       "  '\"a\" in \"alfha\"',\n",
       "  '### Creating data structures () specified object type',\n",
       "  'mylist = list(1,2,3,4)',\n",
       "  'mylist = list((1,2,3,4))',\n",
       "  'mylist = list((1,2,3,4))\\nmylist',\n",
       "  'mytuple = tuple(1,2,3,4)\\nmytuple',\n",
       "  'mytuple = tuple((1,2,3,4))\\nmytuple',\n",
       "  'mydict = dict(name = \"expert\")',\n",
       "  'myset = set((1,2,3,4,2))\\nmyset',\n",
       "  \"# frozenset() function returns an immutable frozenset object initialized with elements from the given iterable\\nletters = ('m', 'r', 'o', 't', 's','s')   \\nfSet = frozenset(letters)  \\nprint('Frozen set is:', fSet)  \",\n",
       "  \"# frozenset() function returns an immutable frozenset object initialized with elements from the given iterable\\nletters = ('m', 'r', 'o', 't', 's','s')  \\nprint(type(letters))\\nfSet = frozenset(letters)  \\nprint('Frozen set is:', fSet)  \",\n",
       "  '### variables based functions',\n",
       "  'class Myclass:\\n    pass\\n\\nmyinst = Myclass()\\n\\nmyinst isinstance Myclass',\n",
       "  'class Myclass:\\n    pass\\n\\nmyinst = Myclass()\\nisinstance(myinst,Myclass)',\n",
       "  'divmod(5,4)',\n",
       "  'round(5.45)',\n",
       "  \"globals()['age'] = 12\",\n",
       "  'globals()',\n",
       "  '# complex() will generate an complex number\\nprint(complex(1))\\nprint(complex(1,2))',\n",
       "  \"print(int('123'))\\nprint(float('123'))\\nprint(str(123))\",\n",
       "  \"print(int('123'))\\nprint(float('123'))\\nrepr(str(123)) \",\n",
       "  \"print(int('123'))\\nprint(float('123'))\\nrepr(str(123)) \",\n",
       "  '# complex() will generate an complex number\\nprint(complex(1))\\nprint(complex(1,2))',\n",
       "  \"print(int('123'))\\nprint(float('123'))\\nprint(str(123)) \\nrepr(123)\",\n",
       "  'a = 10\\na = b\\na is b',\n",
       "  'a = 10\\nb = a\\na is b',\n",
       "  '5 / 4',\n",
       "  'print(5 / 4)\\nprint( 5 % 4)',\n",
       "  'print(5 / 4)\\nprint( 5 % 4)\\nprint( 5 //3)',\n",
       "  'print(5 / 4)\\nprint( 5 % 3)\\nprint( 5 // 3)',\n",
       "  'print(5 / 4)\\nprint( 5 % 3)\\nprint( 5 // 3)\\nprint( 2**2)',\n",
       "  'print(5 / 4)\\nprint( 5 % 3)\\nprint( 5 // 3)\\nprint( 2**2)\\nprint(2^2)',\n",
       "  'help(^)',\n",
       "  'print(5 / 4)\\nprint( 5 % 3)\\nprint( 5 // 3)\\nprint( 2**2)\\nprint(3^2)',\n",
       "  'print(5 / 4)\\nprint( 5 % 3)\\nprint( 5 // 3)\\nprint( 2**2)\\nprint(5^2)',\n",
       "  'print(5 / 4)\\nprint( 5 % 3)\\nprint( 5 // 3)\\nprint( 2**2)\\nprint(7^2)',\n",
       "  '# enumerate() function returns an enumerated object. It takes two parameters, \\n# first is a sequence of elements and the second is the start index of the sequence. We can get the elements in sequence either through a loop or next() method.\\nprint(enumerate([1,2,3]))',\n",
       "  '# enumerate() function returns an enumerated object. It takes two parameters, \\n# first is a sequence of elements and the second is the start index of the sequence. We can get the elements in sequence either through a loop or next() method.\\nprint(list(enumerate([1,2,3]))',\n",
       "  '# enumerate() function returns an enumerated object. It takes two parameters, \\n# first is a sequence of elements and the second is the start index of the sequence. We can get the elements in sequence either through a loop or next() method.\\nprint(list(enumerate([1,2,3])))',\n",
       "  'reversed([1,2,3])',\n",
       "  'list(reversed([1,2,3]))',\n",
       "  '# sort the sequence\\nsorted([1,2,4,3,0])',\n",
       "  'len([1,2,3])',\n",
       "  '# hash function will return the hash value of the object\\nhash(7)',\n",
       "  '# hash function will return the hash value of the object\\nhash(7.7)',\n",
       "  '# hash function will return the hash value of the object\\nprint(hash(7.7))\\nprint(hash(\"expert\"))',\n",
       "  'hex(2)',\n",
       "  '# retuns oct value of integer\\noct(2)',\n",
       "  'list(range(10))',\n",
       "  \"# ord() function returns an integer representing Unicode code point for the given Unicode character.\\nprint(ord(8))\\nprint(ord('B'))\",\n",
       "  \"# ord() function returns an integer representing Unicode code point for the given Unicode character.\\nprint(ord('8'))\\nprint(ord('B'))\",\n",
       "  'class Mysubclass(Myclass):\\n    pass\\n\\nissubclass(Mysubclass)',\n",
       "  'class Mysubclass(Myclass):\\n    pass\\n\\nissubclass(Mysubclass,Myclass)',\n",
       "  'print(int(\"232\"))\\nprint(float(\"14.5\"))\\nprint(str(123))',\n",
       "  '# vars() function returns the __dict__ attribute of the given object.\\n\\nclass Myclass:\\n    x = 12\\n    \\nm = Myclass()\\nvars(m)',\n",
       "  '# vars() function returns the __dict__ attribute of the given object.\\n\\nclass Myclass:\\n    def __init__(self,x):\\n        self.x = x\\n    \\nm = Myclass(7)\\nvars(m)',\n",
       "  'newobject = object()\\nprint(newobject)\\nprint(type(newobject))',\n",
       "  'mydict = {}\\nprint(type(mydict))',\n",
       "  'hasattr(m,x)',\n",
       "  \"hasattr(m,'x')\",\n",
       "  \"setattr(m,'y',10)\",\n",
       "  \"setattr(m,'y',10)\\nvars(m)\",\n",
       "  \"delattr(m,'y')\\nvars(m)\",\n",
       "  'memoryview(x)',\n",
       "  'class Newclass:\\n    pass\\n\\nnewobject = Newclass()\\nmemoryview(newobject)',\n",
       "  'newobject = bytes(10)\\nmemoryview(newobject)',\n",
       "  'newobject = bytes(10)\\nprint(memoryview(newobject))\\nprint(id(newobject))',\n",
       "  'mylist = [1,2,3,4]\\nmyiterator(iter(mylist))\\nprint(next(myiterator))\\nprint(next(myiterator))',\n",
       "  'mylist = [1,2,3,4]\\nmyiterator= iter(mylist)\\nprint(next(myiterator))\\nprint(next(myiterator))',\n",
       "  '#slice() function is used to get a slice of elements from the collection of elements. \\n#Python provides two overloaded slice functions. The first function takes a single argument while the second function takes three arguments and returns a slice object. \\n#This slice object can be used to get a subsection of the collection.\\nmyslice = slice(3)\\nmyslice([1,2,3,4])',\n",
       "  '#slice() function is used to get a slice of elements from the collection of elements. \\n#Python provides two overloaded slice functions. The first function takes a single argument while the second function takes three arguments and returns a slice object. \\n#This slice object can be used to get a subsection of the collection.\\nmyslice = slice(3)\\ndir(myslice)',\n",
       "  '#slice() function is used to get a slice of elements from the collection of elements. \\n#Python provides two overloaded slice functions. The first function takes a single argument while the second function takes three arguments and returns a slice object. \\n#This slice object can be used to get a subsection of the collection.\\nmyslice = slice(3)',\n",
       "  \"#chr() function is used to get a string representing a character which points to a Unicode code integer. For example, chr(97) returns the string 'a'. \\n#This function takes an integer argument and throws an error if it exceeds the specified range. \\n#The standard range of the argument is from 0 to 1,114,111.\\nprint(chr(112))\",\n",
       "  'locals()|',\n",
       "  'locals()'],\n",
       " '_oh': {1: 3.4,\n",
       "  2: 3.4,\n",
       "  3: '\\nall() function accepts an iterable object (such as list, dictionary, etc.). It returns true if all items in passed iterable are true. Otherwise, it returns False. \\nIf the iterable object is empty, the all() function returns True.\\n',\n",
       "  5: '0b1010',\n",
       "  19: '0b1010',\n",
       "  28: 10,\n",
       "  29: 1,\n",
       "  30: 4,\n",
       "  31: 4,\n",
       "  32: 4,\n",
       "  33: True,\n",
       "  37: [1, 2, 3, 4],\n",
       "  39: (1, 2, 3, 4),\n",
       "  41: {1, 2, 3, 4},\n",
       "  46: True,\n",
       "  47: (1, 1),\n",
       "  48: 5,\n",
       "  50: {...},\n",
       "  53: \"'123'\",\n",
       "  54: \"'123'\",\n",
       "  56: '123',\n",
       "  58: True,\n",
       "  59: 1.25,\n",
       "  72: <list_reverseiterator at 0x22494b40b20>,\n",
       "  73: [3, 2, 1],\n",
       "  74: [0, 1, 2, 3, 4],\n",
       "  75: 3,\n",
       "  76: 7,\n",
       "  77: 1614090106449586183,\n",
       "  79: '0x2',\n",
       "  80: '0o2',\n",
       "  81: [0, 1, 2, 3, 4, 5, 6, 7, 8, 9],\n",
       "  85: True,\n",
       "  87: {},\n",
       "  88: {'x': 7},\n",
       "  92: True,\n",
       "  94: {'x': 7},\n",
       "  95: {'x': 7},\n",
       "  98: <memory at 0x0000022494B95FC0>,\n",
       "  103: ['__class__',\n",
       "   '__delattr__',\n",
       "   '__dir__',\n",
       "   '__doc__',\n",
       "   '__eq__',\n",
       "   '__format__',\n",
       "   '__ge__',\n",
       "   '__getattribute__',\n",
       "   '__gt__',\n",
       "   '__hash__',\n",
       "   '__init__',\n",
       "   '__init_subclass__',\n",
       "   '__le__',\n",
       "   '__lt__',\n",
       "   '__ne__',\n",
       "   '__new__',\n",
       "   '__reduce__',\n",
       "   '__reduce_ex__',\n",
       "   '__repr__',\n",
       "   '__setattr__',\n",
       "   '__sizeof__',\n",
       "   '__str__',\n",
       "   '__subclasshook__',\n",
       "   'indices',\n",
       "   'start',\n",
       "   'step',\n",
       "   'stop']},\n",
       " '_dh': ['C:\\\\Users\\\\Lenovo\\\\OneDrive - Синерджи Глобал Файненшъл Солюшънс ЕООД\\\\Desktop\\\\Python_projects\\\\PCAP\\\\PCAP_Notebooks\\\\Python Basics'],\n",
       " 'In': ['',\n",
       "  '# abs() function is used to return the absolute value of a number.\\nabs(3.4)',\n",
       "  '# abs() function is used to return the absolute value of a number.\\nabs(-3.4)',\n",
       "  '\"\"\"\\nall() function accepts an iterable object (such as list, dictionary, etc.). It returns true if all items in passed iterable are true. Otherwise, it returns False. \\nIf the iterable object is empty, the all() function returns True.\\n\"\"\"',\n",
       "  '\"\"\"\\nall() function accepts an iterable object (such as list, dictionary, etc.). It returns true if all items in passed iterable are true. Otherwise, it returns False. \\nIf the iterable object is empty, the all() function returns True.\\n\"\"\"\\nprint(all([1,2,3,4]))\\nprint(all([0,1]))',\n",
       "  '# bin() function is used to return the binary representation of a specified integer.\\nbin(10)',\n",
       "  '# bool() converts a value to boolean(True or False) using the standard truth testing procedure.\\nprint(bool(\"hello\"),bool(0),bool(None))',\n",
       "  '#  bytes() in Python is used for returning a bytes object. It is an immutable version of the bytearray() function.\\nmystring = \"hello expert\"\\nmyarray = bytes(mystring,\"utf-8\")\\nprint(myarray)',\n",
       "  '# callable() function in Python is something that can be called. This built-in function checks and\\n# returns true if the object passed appears to be callable, otherwise false.\\nx = 10\\nprint(callable(x))\\n\\ndef myfunc():\\n    pass\\n\\nprint(callable(myfunc))',\n",
       "  '# compile() function takes source code as input and returns a code object which can later be executed by exec() function.',\n",
       "  '# compile() function takes source code as input and returns a code object which can later be executed by exec() function.\\nmycode = \"\"\"\\nx = 10\\ny = 5\\nprint(x+y)\\n\"\"\"\\ncompiled_code = compile(mycode)\\nexec(compiled_code)',\n",
       "  '# compile() function takes source code as input and returns a code object which can later be executed by exec() function.\\nmycode = \"\"\"\\nx = 10\\ny = 5\\nprint(x+y)\\n\"\"\"\\ncompiled_code = compile(mycode,\"sum.py\",\"exec\")\\nexec(compiled_code)',\n",
       "  'import builtins\\nprint(dir(buitins))',\n",
       "  'import builtins\\nprint(dir(builtins))',\n",
       "  \"help('ArithmeticError')\",\n",
       "  'help(bool)',\n",
       "  '# exec() function is used for the dynamic execution of Python program which can either be a string or object code and it accepts large blocks of code, \\n#unlike the eval() function which only accepts a single expression.\\nmycode = \"\"\"\\nprint(\"python expert\")\\n\"\"\"\\nexec(mycode)',\n",
       "  '# bin() function is used to return the binary representation of a specified integer. it startes with \"0b\"\\nbin(10)\\nprint(any([1,2,3,4]))\\nprint(any([0,1]))',\n",
       "  '#any() function returns true if any item in an iterable is true. Otherwise, it returns False.\\nprint(any([1,2,3,4]))\\nprint(any([0,1]))',\n",
       "  '# bin() function is used to return the binary representation of a specified integer. it startes with \"0b\"\\nbin(10)',\n",
       "  'eval(\"print(\\'pythonexpert\\')\")',\n",
       "  'eval(\"print(\\'python expert\\')\")',\n",
       "  '# bytearray() returns a bytearray object and can convert objects into bytearray objects, \\n # or create an empty bytearray object of the specified size.\\nstring = \"Python is a programming language.\"  \\narr = bytearray(string, \\'utf-8\\')  \\nprint(arr)  ',\n",
       "  '# format() returns the formatted output as passed string\\nx =\"123.056\"\\nprint(format(x,\\'d\\'))\\nprint(format(x,\\'f\\'))\\nprint(format(x,\\'b\\'))',\n",
       "  \"# format() returns the formatted output as passed string\\nx =123.056\\nprint(format(x,'d'))\\nprint(format(x,'f'))\\nprint(format(x,'b'))\",\n",
       "  \"# format() returns the formatted output as passed string\\nx =123.056\\nprint(format(123,'d'))\\nprint(format(x,'f'))\\nprint(format(x,'b'))\",\n",
       "  \"# format() returns the formatted output as passed string\\nx =123.056\\nprint(format(123,'d'))\\nprint(format(x,'f'))\\nprint(format(123,'b'))\",\n",
       "  \"# format() returns the formatted output as passed string\\n\\nprint(format(123,'d'))\\nprint(format(123.45,'f'))\\nprint(format(123,'b'))\",\n",
       "  'sum([1,2,3,4])',\n",
       "  'min([1,2,3,4])',\n",
       "  'pow(2,2)',\n",
       "  'max([1,2,3,4])',\n",
       "  'len((1,2,3,4))',\n",
       "  '\"a\" in \"alfha\"',\n",
       "  '### Creating data structures () specified object type',\n",
       "  'mylist = list(1,2,3,4)',\n",
       "  'mylist = list((1,2,3,4))',\n",
       "  'mylist = list((1,2,3,4))\\nmylist',\n",
       "  'mytuple = tuple(1,2,3,4)\\nmytuple',\n",
       "  'mytuple = tuple((1,2,3,4))\\nmytuple',\n",
       "  'mydict = dict(name = \"expert\")',\n",
       "  'myset = set((1,2,3,4,2))\\nmyset',\n",
       "  \"# frozenset() function returns an immutable frozenset object initialized with elements from the given iterable\\nletters = ('m', 'r', 'o', 't', 's','s')   \\nfSet = frozenset(letters)  \\nprint('Frozen set is:', fSet)  \",\n",
       "  \"# frozenset() function returns an immutable frozenset object initialized with elements from the given iterable\\nletters = ('m', 'r', 'o', 't', 's','s')  \\nprint(type(letters))\\nfSet = frozenset(letters)  \\nprint('Frozen set is:', fSet)  \",\n",
       "  '### variables based functions',\n",
       "  'class Myclass:\\n    pass\\n\\nmyinst = Myclass()\\n\\nmyinst isinstance Myclass',\n",
       "  'class Myclass:\\n    pass\\n\\nmyinst = Myclass()\\nisinstance(myinst,Myclass)',\n",
       "  'divmod(5,4)',\n",
       "  'round(5.45)',\n",
       "  \"globals()['age'] = 12\",\n",
       "  'globals()',\n",
       "  '# complex() will generate an complex number\\nprint(complex(1))\\nprint(complex(1,2))',\n",
       "  \"print(int('123'))\\nprint(float('123'))\\nprint(str(123))\",\n",
       "  \"print(int('123'))\\nprint(float('123'))\\nrepr(str(123)) \",\n",
       "  \"print(int('123'))\\nprint(float('123'))\\nrepr(str(123)) \",\n",
       "  '# complex() will generate an complex number\\nprint(complex(1))\\nprint(complex(1,2))',\n",
       "  \"print(int('123'))\\nprint(float('123'))\\nprint(str(123)) \\nrepr(123)\",\n",
       "  'a = 10\\na = b\\na is b',\n",
       "  'a = 10\\nb = a\\na is b',\n",
       "  '5 / 4',\n",
       "  'print(5 / 4)\\nprint( 5 % 4)',\n",
       "  'print(5 / 4)\\nprint( 5 % 4)\\nprint( 5 //3)',\n",
       "  'print(5 / 4)\\nprint( 5 % 3)\\nprint( 5 // 3)',\n",
       "  'print(5 / 4)\\nprint( 5 % 3)\\nprint( 5 // 3)\\nprint( 2**2)',\n",
       "  'print(5 / 4)\\nprint( 5 % 3)\\nprint( 5 // 3)\\nprint( 2**2)\\nprint(2^2)',\n",
       "  'help(^)',\n",
       "  'print(5 / 4)\\nprint( 5 % 3)\\nprint( 5 // 3)\\nprint( 2**2)\\nprint(3^2)',\n",
       "  'print(5 / 4)\\nprint( 5 % 3)\\nprint( 5 // 3)\\nprint( 2**2)\\nprint(5^2)',\n",
       "  'print(5 / 4)\\nprint( 5 % 3)\\nprint( 5 // 3)\\nprint( 2**2)\\nprint(7^2)',\n",
       "  '# enumerate() function returns an enumerated object. It takes two parameters, \\n# first is a sequence of elements and the second is the start index of the sequence. We can get the elements in sequence either through a loop or next() method.\\nprint(enumerate([1,2,3]))',\n",
       "  '# enumerate() function returns an enumerated object. It takes two parameters, \\n# first is a sequence of elements and the second is the start index of the sequence. We can get the elements in sequence either through a loop or next() method.\\nprint(list(enumerate([1,2,3]))',\n",
       "  '# enumerate() function returns an enumerated object. It takes two parameters, \\n# first is a sequence of elements and the second is the start index of the sequence. We can get the elements in sequence either through a loop or next() method.\\nprint(list(enumerate([1,2,3])))',\n",
       "  'reversed([1,2,3])',\n",
       "  'list(reversed([1,2,3]))',\n",
       "  '# sort the sequence\\nsorted([1,2,4,3,0])',\n",
       "  'len([1,2,3])',\n",
       "  '# hash function will return the hash value of the object\\nhash(7)',\n",
       "  '# hash function will return the hash value of the object\\nhash(7.7)',\n",
       "  '# hash function will return the hash value of the object\\nprint(hash(7.7))\\nprint(hash(\"expert\"))',\n",
       "  'hex(2)',\n",
       "  '# retuns oct value of integer\\noct(2)',\n",
       "  'list(range(10))',\n",
       "  \"# ord() function returns an integer representing Unicode code point for the given Unicode character.\\nprint(ord(8))\\nprint(ord('B'))\",\n",
       "  \"# ord() function returns an integer representing Unicode code point for the given Unicode character.\\nprint(ord('8'))\\nprint(ord('B'))\",\n",
       "  'class Mysubclass(Myclass):\\n    pass\\n\\nissubclass(Mysubclass)',\n",
       "  'class Mysubclass(Myclass):\\n    pass\\n\\nissubclass(Mysubclass,Myclass)',\n",
       "  'print(int(\"232\"))\\nprint(float(\"14.5\"))\\nprint(str(123))',\n",
       "  '# vars() function returns the __dict__ attribute of the given object.\\n\\nclass Myclass:\\n    x = 12\\n    \\nm = Myclass()\\nvars(m)',\n",
       "  '# vars() function returns the __dict__ attribute of the given object.\\n\\nclass Myclass:\\n    def __init__(self,x):\\n        self.x = x\\n    \\nm = Myclass(7)\\nvars(m)',\n",
       "  'newobject = object()\\nprint(newobject)\\nprint(type(newobject))',\n",
       "  'mydict = {}\\nprint(type(mydict))',\n",
       "  'hasattr(m,x)',\n",
       "  \"hasattr(m,'x')\",\n",
       "  \"setattr(m,'y',10)\",\n",
       "  \"setattr(m,'y',10)\\nvars(m)\",\n",
       "  \"delattr(m,'y')\\nvars(m)\",\n",
       "  'memoryview(x)',\n",
       "  'class Newclass:\\n    pass\\n\\nnewobject = Newclass()\\nmemoryview(newobject)',\n",
       "  'newobject = bytes(10)\\nmemoryview(newobject)',\n",
       "  'newobject = bytes(10)\\nprint(memoryview(newobject))\\nprint(id(newobject))',\n",
       "  'mylist = [1,2,3,4]\\nmyiterator(iter(mylist))\\nprint(next(myiterator))\\nprint(next(myiterator))',\n",
       "  'mylist = [1,2,3,4]\\nmyiterator= iter(mylist)\\nprint(next(myiterator))\\nprint(next(myiterator))',\n",
       "  '#slice() function is used to get a slice of elements from the collection of elements. \\n#Python provides two overloaded slice functions. The first function takes a single argument while the second function takes three arguments and returns a slice object. \\n#This slice object can be used to get a subsection of the collection.\\nmyslice = slice(3)\\nmyslice([1,2,3,4])',\n",
       "  '#slice() function is used to get a slice of elements from the collection of elements. \\n#Python provides two overloaded slice functions. The first function takes a single argument while the second function takes three arguments and returns a slice object. \\n#This slice object can be used to get a subsection of the collection.\\nmyslice = slice(3)\\ndir(myslice)',\n",
       "  '#slice() function is used to get a slice of elements from the collection of elements. \\n#Python provides two overloaded slice functions. The first function takes a single argument while the second function takes three arguments and returns a slice object. \\n#This slice object can be used to get a subsection of the collection.\\nmyslice = slice(3)',\n",
       "  \"#chr() function is used to get a string representing a character which points to a Unicode code integer. For example, chr(97) returns the string 'a'. \\n#This function takes an integer argument and throws an error if it exceeds the specified range. \\n#The standard range of the argument is from 0 to 1,114,111.\\nprint(chr(112))\",\n",
       "  'locals()|',\n",
       "  'locals()'],\n",
       " 'Out': {1: 3.4,\n",
       "  2: 3.4,\n",
       "  3: '\\nall() function accepts an iterable object (such as list, dictionary, etc.). It returns true if all items in passed iterable are true. Otherwise, it returns False. \\nIf the iterable object is empty, the all() function returns True.\\n',\n",
       "  5: '0b1010',\n",
       "  19: '0b1010',\n",
       "  28: 10,\n",
       "  29: 1,\n",
       "  30: 4,\n",
       "  31: 4,\n",
       "  32: 4,\n",
       "  33: True,\n",
       "  37: [1, 2, 3, 4],\n",
       "  39: (1, 2, 3, 4),\n",
       "  41: {1, 2, 3, 4},\n",
       "  46: True,\n",
       "  47: (1, 1),\n",
       "  48: 5,\n",
       "  50: {...},\n",
       "  53: \"'123'\",\n",
       "  54: \"'123'\",\n",
       "  56: '123',\n",
       "  58: True,\n",
       "  59: 1.25,\n",
       "  72: <list_reverseiterator at 0x22494b40b20>,\n",
       "  73: [3, 2, 1],\n",
       "  74: [0, 1, 2, 3, 4],\n",
       "  75: 3,\n",
       "  76: 7,\n",
       "  77: 1614090106449586183,\n",
       "  79: '0x2',\n",
       "  80: '0o2',\n",
       "  81: [0, 1, 2, 3, 4, 5, 6, 7, 8, 9],\n",
       "  85: True,\n",
       "  87: {},\n",
       "  88: {'x': 7},\n",
       "  92: True,\n",
       "  94: {'x': 7},\n",
       "  95: {'x': 7},\n",
       "  98: <memory at 0x0000022494B95FC0>,\n",
       "  103: ['__class__',\n",
       "   '__delattr__',\n",
       "   '__dir__',\n",
       "   '__doc__',\n",
       "   '__eq__',\n",
       "   '__format__',\n",
       "   '__ge__',\n",
       "   '__getattribute__',\n",
       "   '__gt__',\n",
       "   '__hash__',\n",
       "   '__init__',\n",
       "   '__init_subclass__',\n",
       "   '__le__',\n",
       "   '__lt__',\n",
       "   '__ne__',\n",
       "   '__new__',\n",
       "   '__reduce__',\n",
       "   '__reduce_ex__',\n",
       "   '__repr__',\n",
       "   '__setattr__',\n",
       "   '__sizeof__',\n",
       "   '__str__',\n",
       "   '__subclasshook__',\n",
       "   'indices',\n",
       "   'start',\n",
       "   'step',\n",
       "   'stop']},\n",
       " 'get_ipython': <function IPython.core.getipython.get_ipython()>,\n",
       " 'exit': <IPython.core.autocall.ZMQExitAutocall at 0x224846aee30>,\n",
       " 'quit': <IPython.core.autocall.ZMQExitAutocall at 0x224846aee30>,\n",
       " '_': ['__class__',\n",
       "  '__delattr__',\n",
       "  '__dir__',\n",
       "  '__doc__',\n",
       "  '__eq__',\n",
       "  '__format__',\n",
       "  '__ge__',\n",
       "  '__getattribute__',\n",
       "  '__gt__',\n",
       "  '__hash__',\n",
       "  '__init__',\n",
       "  '__init_subclass__',\n",
       "  '__le__',\n",
       "  '__lt__',\n",
       "  '__ne__',\n",
       "  '__new__',\n",
       "  '__reduce__',\n",
       "  '__reduce_ex__',\n",
       "  '__repr__',\n",
       "  '__setattr__',\n",
       "  '__sizeof__',\n",
       "  '__str__',\n",
       "  '__subclasshook__',\n",
       "  'indices',\n",
       "  'start',\n",
       "  'step',\n",
       "  'stop'],\n",
       " '__': <memory at 0x0000022494B95FC0>,\n",
       " '___': {'x': 7},\n",
       " 'json': <module 'json' from 'C:\\\\Users\\\\Lenovo\\\\AppData\\\\Local\\\\Programs\\\\Python\\\\Python310\\\\lib\\\\json\\\\__init__.py'>,\n",
       " 'yapf_reformat': <function __main__.yapf_reformat(cell_text)>,\n",
       " 'getsizeof': <function sys.getsizeof>,\n",
       " 'NamespaceMagics': IPython.core.magics.namespace.NamespaceMagics,\n",
       " '_nms': <IPython.core.magics.namespace.NamespaceMagics at 0x22484774580>,\n",
       " '_Jupyter': <ipykernel.zmqshell.ZMQInteractiveShell at 0x224846ae320>,\n",
       " 'np': <module 'numpy' from 'C:\\\\Users\\\\Lenovo\\\\AppData\\\\Local\\\\Programs\\\\Python\\\\Python310\\\\lib\\\\site-packages\\\\numpy\\\\__init__.py'>,\n",
       " '_getsizeof': <function __main__._getsizeof(x)>,\n",
       " '_getshapeof': <function __main__._getshapeof(x)>,\n",
       " 'var_dic_list': <function __main__.var_dic_list()>,\n",
       " '_i': 'locals()|',\n",
       " '_ii': \"#chr() function is used to get a string representing a character which points to a Unicode code integer. For example, chr(97) returns the string 'a'. \\n#This function takes an integer argument and throws an error if it exceeds the specified range. \\n#The standard range of the argument is from 0 to 1,114,111.\\nprint(chr(112))\",\n",
       " '_iii': '#slice() function is used to get a slice of elements from the collection of elements. \\n#Python provides two overloaded slice functions. The first function takes a single argument while the second function takes three arguments and returns a slice object. \\n#This slice object can be used to get a subsection of the collection.\\nmyslice = slice(3)',\n",
       " '_i1': '# abs() function is used to return the absolute value of a number.\\nabs(3.4)',\n",
       " '_1': 3.4,\n",
       " '_i2': '# abs() function is used to return the absolute value of a number.\\nabs(-3.4)',\n",
       " '_2': 3.4,\n",
       " '_i3': '\"\"\"\\nall() function accepts an iterable object (such as list, dictionary, etc.). It returns true if all items in passed iterable are true. Otherwise, it returns False. \\nIf the iterable object is empty, the all() function returns True.\\n\"\"\"',\n",
       " '_3': '\\nall() function accepts an iterable object (such as list, dictionary, etc.). It returns true if all items in passed iterable are true. Otherwise, it returns False. \\nIf the iterable object is empty, the all() function returns True.\\n',\n",
       " '_i4': '\"\"\"\\nall() function accepts an iterable object (such as list, dictionary, etc.). It returns true if all items in passed iterable are true. Otherwise, it returns False. \\nIf the iterable object is empty, the all() function returns True.\\n\"\"\"\\nprint(all([1,2,3,4]))\\nprint(all([0,1]))',\n",
       " '_i5': '# bin() function is used to return the binary representation of a specified integer.\\nbin(10)',\n",
       " '_5': '0b1010',\n",
       " '_i6': '# bool() converts a value to boolean(True or False) using the standard truth testing procedure.\\nprint(bool(\"hello\"),bool(0),bool(None))',\n",
       " '_i7': '#  bytes() in Python is used for returning a bytes object. It is an immutable version of the bytearray() function.\\nmystring = \"hello expert\"\\nmyarray = bytes(mystring,\"utf-8\")\\nprint(myarray)',\n",
       " 'mystring': 'hello expert',\n",
       " 'myarray': b'hello expert',\n",
       " '_i8': '# callable() function in Python is something that can be called. This built-in function checks and\\n# returns true if the object passed appears to be callable, otherwise false.\\nx = 10\\nprint(callable(x))\\n\\ndef myfunc():\\n    pass\\n\\nprint(callable(myfunc))',\n",
       " 'x': 123.056,\n",
       " 'myfunc': <function __main__.myfunc()>,\n",
       " '_i9': '# compile() function takes source code as input and returns a code object which can later be executed by exec() function.',\n",
       " '_i10': '# compile() function takes source code as input and returns a code object which can later be executed by exec() function.\\nmycode = \"\"\"\\nx = 10\\ny = 5\\nprint(x+y)\\n\"\"\"\\ncompiled_code = compile(mycode)\\nexec(compiled_code)',\n",
       " 'mycode': '\\nprint(\"python expert\")\\n',\n",
       " '_i11': '# compile() function takes source code as input and returns a code object which can later be executed by exec() function.\\nmycode = \"\"\"\\nx = 10\\ny = 5\\nprint(x+y)\\n\"\"\"\\ncompiled_code = compile(mycode,\"sum.py\",\"exec\")\\nexec(compiled_code)',\n",
       " 'compiled_code': <code object <module> at 0x0000022493C17470, file \"sum.py\", line 1>,\n",
       " 'y': 5,\n",
       " '_i12': 'import builtins\\nprint(dir(buitins))',\n",
       " 'builtins': <module 'builtins' (built-in)>,\n",
       " '_i13': 'import builtins\\nprint(dir(builtins))',\n",
       " '_i14': \"help('ArithmeticError')\",\n",
       " '_i15': 'help(bool)',\n",
       " '_i16': '# exec() function is used for the dynamic execution of Python program which can either be a string or object code and it accepts large blocks of code, \\n#unlike the eval() function which only accepts a single expression.\\nmycode = \"\"\"\\nprint(\"python expert\")\\n\"\"\"\\nexec(mycode)',\n",
       " '_i17': '# bin() function is used to return the binary representation of a specified integer. it startes with \"0b\"\\nbin(10)\\nprint(any([1,2,3,4]))\\nprint(any([0,1]))',\n",
       " '_i18': '#any() function returns true if any item in an iterable is true. Otherwise, it returns False.\\nprint(any([1,2,3,4]))\\nprint(any([0,1]))',\n",
       " '_i19': '# bin() function is used to return the binary representation of a specified integer. it startes with \"0b\"\\nbin(10)',\n",
       " '_19': '0b1010',\n",
       " '_i20': 'eval(\"print(\\'pythonexpert\\')\")',\n",
       " '_i21': 'eval(\"print(\\'python expert\\')\")',\n",
       " '_i22': '# bytearray() returns a bytearray object and can convert objects into bytearray objects, \\n # or create an empty bytearray object of the specified size.\\nstring = \"Python is a programming language.\"  \\narr = bytearray(string, \\'utf-8\\')  \\nprint(arr)  ',\n",
       " 'string': 'Python is a programming language.',\n",
       " 'arr': bytearray(b'Python is a programming language.'),\n",
       " '_i23': '# format() returns the formatted output as passed string\\nx =\"123.056\"\\nprint(format(x,\\'d\\'))\\nprint(format(x,\\'f\\'))\\nprint(format(x,\\'b\\'))',\n",
       " '_i24': \"# format() returns the formatted output as passed string\\nx =123.056\\nprint(format(x,'d'))\\nprint(format(x,'f'))\\nprint(format(x,'b'))\",\n",
       " '_i25': \"# format() returns the formatted output as passed string\\nx =123.056\\nprint(format(123,'d'))\\nprint(format(x,'f'))\\nprint(format(x,'b'))\",\n",
       " '_i26': \"# format() returns the formatted output as passed string\\nx =123.056\\nprint(format(123,'d'))\\nprint(format(x,'f'))\\nprint(format(123,'b'))\",\n",
       " '_i27': \"# format() returns the formatted output as passed string\\n\\nprint(format(123,'d'))\\nprint(format(123.45,'f'))\\nprint(format(123,'b'))\",\n",
       " '_i28': 'sum([1,2,3,4])',\n",
       " '_28': 10,\n",
       " '_i29': 'min([1,2,3,4])',\n",
       " '_29': 1,\n",
       " '_i30': 'pow(2,2)',\n",
       " '_30': 4,\n",
       " '_i31': 'max([1,2,3,4])',\n",
       " '_31': 4,\n",
       " '_i32': 'len((1,2,3,4))',\n",
       " '_32': 4,\n",
       " '_i33': '\"a\" in \"alfha\"',\n",
       " '_33': True,\n",
       " '_i34': '### Creating data structures () specified object type',\n",
       " '_i35': 'mylist = list(1,2,3,4)',\n",
       " '_i36': 'mylist = list((1,2,3,4))',\n",
       " 'mylist': [1, 2, 3, 4],\n",
       " '_i37': 'mylist = list((1,2,3,4))\\nmylist',\n",
       " '_37': [1, 2, 3, 4],\n",
       " '_i38': 'mytuple = tuple(1,2,3,4)\\nmytuple',\n",
       " '_i39': 'mytuple = tuple((1,2,3,4))\\nmytuple',\n",
       " 'mytuple': (1, 2, 3, 4),\n",
       " '_39': (1, 2, 3, 4),\n",
       " '_i40': 'mydict = dict(name = \"expert\")',\n",
       " 'mydict': {},\n",
       " '_i41': 'myset = set((1,2,3,4,2))\\nmyset',\n",
       " 'myset': {1, 2, 3, 4},\n",
       " '_41': {1, 2, 3, 4},\n",
       " '_i42': \"# frozenset() function returns an immutable frozenset object initialized with elements from the given iterable\\nletters = ('m', 'r', 'o', 't', 's','s')   \\nfSet = frozenset(letters)  \\nprint('Frozen set is:', fSet)  \",\n",
       " 'letters': ('m', 'r', 'o', 't', 's', 's'),\n",
       " 'fSet': frozenset({'m', 'o', 'r', 's', 't'}),\n",
       " '_i43': \"# frozenset() function returns an immutable frozenset object initialized with elements from the given iterable\\nletters = ('m', 'r', 'o', 't', 's','s')  \\nprint(type(letters))\\nfSet = frozenset(letters)  \\nprint('Frozen set is:', fSet)  \",\n",
       " '_i44': '### variables based functions',\n",
       " '_i45': 'class Myclass:\\n    pass\\n\\nmyinst = Myclass()\\n\\nmyinst isinstance Myclass',\n",
       " '_i46': 'class Myclass:\\n    pass\\n\\nmyinst = Myclass()\\nisinstance(myinst,Myclass)',\n",
       " 'Myclass': __main__.Myclass,\n",
       " 'myinst': <__main__.Myclass at 0x22494b405e0>,\n",
       " '_46': True,\n",
       " '_i47': 'divmod(5,4)',\n",
       " '_47': (1, 1),\n",
       " '_i48': 'round(5.45)',\n",
       " '_48': 5,\n",
       " '_i49': \"globals()['age'] = 12\",\n",
       " 'age': 12,\n",
       " '_i50': 'globals()',\n",
       " '_50': {...},\n",
       " '_i51': '# complex() will generate an complex number\\nprint(complex(1))\\nprint(complex(1,2))',\n",
       " '_i52': \"print(int('123'))\\nprint(float('123'))\\nprint(str(123))\",\n",
       " '_i53': \"print(int('123'))\\nprint(float('123'))\\nrepr(str(123)) \",\n",
       " '_53': \"'123'\",\n",
       " '_i54': \"print(int('123'))\\nprint(float('123'))\\nrepr(str(123)) \",\n",
       " '_54': \"'123'\",\n",
       " '_i55': '# complex() will generate an complex number\\nprint(complex(1))\\nprint(complex(1,2))',\n",
       " '_i56': \"print(int('123'))\\nprint(float('123'))\\nprint(str(123)) \\nrepr(123)\",\n",
       " '_56': '123',\n",
       " '_i57': 'a = 10\\na = b\\na is b',\n",
       " 'a': 10,\n",
       " '_i58': 'a = 10\\nb = a\\na is b',\n",
       " 'b': 10,\n",
       " '_58': True,\n",
       " '_i59': '5 / 4',\n",
       " '_59': 1.25,\n",
       " '_i60': 'print(5 / 4)\\nprint( 5 % 4)',\n",
       " '_i61': 'print(5 / 4)\\nprint( 5 % 4)\\nprint( 5 //3)',\n",
       " '_i62': 'print(5 / 4)\\nprint( 5 % 3)\\nprint( 5 // 3)',\n",
       " '_i63': 'print(5 / 4)\\nprint( 5 % 3)\\nprint( 5 // 3)\\nprint( 2**2)',\n",
       " '_i64': 'print(5 / 4)\\nprint( 5 % 3)\\nprint( 5 // 3)\\nprint( 2**2)\\nprint(2^2)',\n",
       " '_i65': 'help(^)',\n",
       " '_i66': 'print(5 / 4)\\nprint( 5 % 3)\\nprint( 5 // 3)\\nprint( 2**2)\\nprint(3^2)',\n",
       " '_i67': 'print(5 / 4)\\nprint( 5 % 3)\\nprint( 5 // 3)\\nprint( 2**2)\\nprint(5^2)',\n",
       " '_i68': 'print(5 / 4)\\nprint( 5 % 3)\\nprint( 5 // 3)\\nprint( 2**2)\\nprint(7^2)',\n",
       " '_i69': '# enumerate() function returns an enumerated object. It takes two parameters, \\n# first is a sequence of elements and the second is the start index of the sequence. We can get the elements in sequence either through a loop or next() method.\\nprint(enumerate([1,2,3]))',\n",
       " '_i70': '# enumerate() function returns an enumerated object. It takes two parameters, \\n# first is a sequence of elements and the second is the start index of the sequence. We can get the elements in sequence either through a loop or next() method.\\nprint(list(enumerate([1,2,3]))',\n",
       " '_i71': '# enumerate() function returns an enumerated object. It takes two parameters, \\n# first is a sequence of elements and the second is the start index of the sequence. We can get the elements in sequence either through a loop or next() method.\\nprint(list(enumerate([1,2,3])))',\n",
       " '_i72': 'reversed([1,2,3])',\n",
       " '_72': <list_reverseiterator at 0x22494b40b20>,\n",
       " '_i73': 'list(reversed([1,2,3]))',\n",
       " '_73': [3, 2, 1],\n",
       " '_i74': '# sort the sequence\\nsorted([1,2,4,3,0])',\n",
       " '_74': [0, 1, 2, 3, 4],\n",
       " '_i75': 'len([1,2,3])',\n",
       " '_75': 3,\n",
       " '_i76': '# hash function will return the hash value of the object\\nhash(7)',\n",
       " '_76': 7,\n",
       " '_i77': '# hash function will return the hash value of the object\\nhash(7.7)',\n",
       " '_77': 1614090106449586183,\n",
       " '_i78': '# hash function will return the hash value of the object\\nprint(hash(7.7))\\nprint(hash(\"expert\"))',\n",
       " '_i79': 'hex(2)',\n",
       " '_79': '0x2',\n",
       " '_i80': '# retuns oct value of integer\\noct(2)',\n",
       " '_80': '0o2',\n",
       " '_i81': 'list(range(10))',\n",
       " '_81': [0, 1, 2, 3, 4, 5, 6, 7, 8, 9],\n",
       " '_i82': \"# ord() function returns an integer representing Unicode code point for the given Unicode character.\\nprint(ord(8))\\nprint(ord('B'))\",\n",
       " '_i83': \"# ord() function returns an integer representing Unicode code point for the given Unicode character.\\nprint(ord('8'))\\nprint(ord('B'))\",\n",
       " '_i84': 'class Mysubclass(Myclass):\\n    pass\\n\\nissubclass(Mysubclass)',\n",
       " 'Mysubclass': __main__.Mysubclass,\n",
       " '_i85': 'class Mysubclass(Myclass):\\n    pass\\n\\nissubclass(Mysubclass,Myclass)',\n",
       " '_85': True,\n",
       " '_i86': 'print(int(\"232\"))\\nprint(float(\"14.5\"))\\nprint(str(123))',\n",
       " '_i87': '# vars() function returns the __dict__ attribute of the given object.\\n\\nclass Myclass:\\n    x = 12\\n    \\nm = Myclass()\\nvars(m)',\n",
       " 'm': <__main__.Myclass at 0x22495579a20>,\n",
       " '_87': {},\n",
       " '_i88': '# vars() function returns the __dict__ attribute of the given object.\\n\\nclass Myclass:\\n    def __init__(self,x):\\n        self.x = x\\n    \\nm = Myclass(7)\\nvars(m)',\n",
       " '_88': {'x': 7},\n",
       " '_i89': 'newobject = object()\\nprint(newobject)\\nprint(type(newobject))',\n",
       " 'newobject': b'\\x00\\x00\\x00\\x00\\x00\\x00\\x00\\x00\\x00\\x00',\n",
       " '_i90': 'mydict = {}\\nprint(type(mydict))',\n",
       " '_i91': 'hasattr(m,x)',\n",
       " '_i92': \"hasattr(m,'x')\",\n",
       " '_92': True,\n",
       " '_i93': \"setattr(m,'y',10)\",\n",
       " '_i94': \"setattr(m,'y',10)\\nvars(m)\",\n",
       " '_94': {'x': 7},\n",
       " '_i95': \"delattr(m,'y')\\nvars(m)\",\n",
       " '_95': {'x': 7},\n",
       " '_i96': 'memoryview(x)',\n",
       " '_i97': 'class Newclass:\\n    pass\\n\\nnewobject = Newclass()\\nmemoryview(newobject)',\n",
       " 'Newclass': __main__.Newclass,\n",
       " '_i98': 'newobject = bytes(10)\\nmemoryview(newobject)',\n",
       " '_98': <memory at 0x0000022494B95FC0>,\n",
       " '_i99': 'newobject = bytes(10)\\nprint(memoryview(newobject))\\nprint(id(newobject))',\n",
       " '_i100': 'mylist = [1,2,3,4]\\nmyiterator(iter(mylist))\\nprint(next(myiterator))\\nprint(next(myiterator))',\n",
       " '_i101': 'mylist = [1,2,3,4]\\nmyiterator= iter(mylist)\\nprint(next(myiterator))\\nprint(next(myiterator))',\n",
       " 'myiterator': <list_iterator at 0x22495018040>,\n",
       " '_i102': '#slice() function is used to get a slice of elements from the collection of elements. \\n#Python provides two overloaded slice functions. The first function takes a single argument while the second function takes three arguments and returns a slice object. \\n#This slice object can be used to get a subsection of the collection.\\nmyslice = slice(3)\\nmyslice([1,2,3,4])',\n",
       " 'myslice': slice(None, 3, None),\n",
       " '_i103': '#slice() function is used to get a slice of elements from the collection of elements. \\n#Python provides two overloaded slice functions. The first function takes a single argument while the second function takes three arguments and returns a slice object. \\n#This slice object can be used to get a subsection of the collection.\\nmyslice = slice(3)\\ndir(myslice)',\n",
       " '_103': ['__class__',\n",
       "  '__delattr__',\n",
       "  '__dir__',\n",
       "  '__doc__',\n",
       "  '__eq__',\n",
       "  '__format__',\n",
       "  '__ge__',\n",
       "  '__getattribute__',\n",
       "  '__gt__',\n",
       "  '__hash__',\n",
       "  '__init__',\n",
       "  '__init_subclass__',\n",
       "  '__le__',\n",
       "  '__lt__',\n",
       "  '__ne__',\n",
       "  '__new__',\n",
       "  '__reduce__',\n",
       "  '__reduce_ex__',\n",
       "  '__repr__',\n",
       "  '__setattr__',\n",
       "  '__sizeof__',\n",
       "  '__str__',\n",
       "  '__subclasshook__',\n",
       "  'indices',\n",
       "  'start',\n",
       "  'step',\n",
       "  'stop'],\n",
       " '_i104': '#slice() function is used to get a slice of elements from the collection of elements. \\n#Python provides two overloaded slice functions. The first function takes a single argument while the second function takes three arguments and returns a slice object. \\n#This slice object can be used to get a subsection of the collection.\\nmyslice = slice(3)',\n",
       " '_i105': \"#chr() function is used to get a string representing a character which points to a Unicode code integer. For example, chr(97) returns the string 'a'. \\n#This function takes an integer argument and throws an error if it exceeds the specified range. \\n#The standard range of the argument is from 0 to 1,114,111.\\nprint(chr(112))\",\n",
       " '_i106': 'locals()|',\n",
       " '_i107': 'locals()'}"
      ]
     },
     "execution_count": 107,
     "metadata": {},
     "output_type": "execute_result"
    }
   ],
   "source": [
    "locals()"
   ]
  },
  {
   "cell_type": "markdown",
   "id": "c274f253",
   "metadata": {},
   "source": [
    "### Object Based Functions"
   ]
  },
  {
   "cell_type": "code",
   "execution_count": 88,
   "id": "11827dd7",
   "metadata": {
    "ExecuteTime": {
     "end_time": "2022-04-08T12:06:36.911927Z",
     "start_time": "2022-04-08T12:06:36.891993Z"
    }
   },
   "outputs": [
    {
     "data": {
      "text/plain": [
       "{'x': 7}"
      ]
     },
     "execution_count": 88,
     "metadata": {},
     "output_type": "execute_result"
    }
   ],
   "source": [
    "# vars() function returns the __dict__ attribute of the given object.\n",
    "\n",
    "class Myclass:\n",
    "    def __init__(self,x):\n",
    "        self.x = x\n",
    "    \n",
    "m = Myclass(7)\n",
    "vars(m)"
   ]
  },
  {
   "cell_type": "code",
   "execution_count": 92,
   "id": "05430088",
   "metadata": {
    "ExecuteTime": {
     "end_time": "2022-04-08T12:09:15.562872Z",
     "start_time": "2022-04-08T12:09:15.551909Z"
    }
   },
   "outputs": [
    {
     "data": {
      "text/plain": [
       "True"
      ]
     },
     "execution_count": 92,
     "metadata": {},
     "output_type": "execute_result"
    }
   ],
   "source": [
    "hasattr(m,'x')"
   ]
  },
  {
   "cell_type": "code",
   "execution_count": 94,
   "id": "8d2e7301",
   "metadata": {
    "ExecuteTime": {
     "end_time": "2022-04-08T12:10:03.954819Z",
     "start_time": "2022-04-08T12:10:03.939871Z"
    }
   },
   "outputs": [
    {
     "data": {
      "text/plain": [
       "{'x': 7, 'y': 10}"
      ]
     },
     "execution_count": 94,
     "metadata": {},
     "output_type": "execute_result"
    }
   ],
   "source": [
    "setattr(m,'y',10)\n",
    "vars(m)"
   ]
  },
  {
   "cell_type": "code",
   "execution_count": 95,
   "id": "a40f8ec5",
   "metadata": {
    "ExecuteTime": {
     "end_time": "2022-04-08T12:10:25.297291Z",
     "start_time": "2022-04-08T12:10:25.291313Z"
    }
   },
   "outputs": [
    {
     "data": {
      "text/plain": [
       "{'x': 7}"
      ]
     },
     "execution_count": 95,
     "metadata": {},
     "output_type": "execute_result"
    }
   ],
   "source": [
    "delattr(m,'y')\n",
    "vars(m)"
   ]
  },
  {
   "cell_type": "code",
   "execution_count": 89,
   "id": "dac51365",
   "metadata": {
    "ExecuteTime": {
     "end_time": "2022-04-08T12:07:34.520529Z",
     "start_time": "2022-04-08T12:07:34.503505Z"
    }
   },
   "outputs": [
    {
     "name": "stdout",
     "output_type": "stream",
     "text": [
      "<object object at 0x00000224847B6B60>\n",
      "<class 'object'>\n"
     ]
    }
   ],
   "source": [
    "# object will create an empty object\n",
    "newobject = object()\n",
    "print(newobject)\n",
    "print(type(newobject))"
   ]
  },
  {
   "cell_type": "markdown",
   "id": "f8322126",
   "metadata": {},
   "source": [
    "### Iteration function iter & next"
   ]
  },
  {
   "cell_type": "markdown",
   "id": "8e6407ab",
   "metadata": {},
   "source": [
    "    iter() function is used to return an iterator object. It creates an object which can be iterated one element at a time."
   ]
  },
  {
   "cell_type": "markdown",
   "id": "4ebdcba6",
   "metadata": {},
   "source": [
    "    next() function is used to fetch next item from the collection. It takes two arguments, i.e., an iterator and a default value, and returns an element.\n",
    "\n",
    "    This method calls on iterator and throws an error if no item is present. To avoid the error, we can set a default value."
   ]
  },
  {
   "cell_type": "code",
   "execution_count": 101,
   "id": "7542596b",
   "metadata": {
    "ExecuteTime": {
     "end_time": "2022-04-08T12:17:44.740141Z",
     "start_time": "2022-04-08T12:17:44.735158Z"
    }
   },
   "outputs": [
    {
     "name": "stdout",
     "output_type": "stream",
     "text": [
      "1\n",
      "2\n"
     ]
    }
   ],
   "source": [
    "mylist = [1,2,3,4]\n",
    "myiterator= iter(mylist)\n",
    "print(next(myiterator))\n",
    "print(next(myiterator))"
   ]
  }
 ],
 "metadata": {
  "kernelspec": {
   "display_name": "Python 3 (ipykernel)",
   "language": "python",
   "name": "python3"
  },
  "language_info": {
   "codemirror_mode": {
    "name": "ipython",
    "version": 3
   },
   "file_extension": ".py",
   "mimetype": "text/x-python",
   "name": "python",
   "nbconvert_exporter": "python",
   "pygments_lexer": "ipython3",
   "version": "3.10.0"
  },
  "varInspector": {
   "cols": {
    "lenName": 16,
    "lenType": 16,
    "lenVar": 40
   },
   "kernels_config": {
    "python": {
     "delete_cmd_postfix": "",
     "delete_cmd_prefix": "del ",
     "library": "var_list.py",
     "varRefreshCmd": "print(var_dic_list())"
    },
    "r": {
     "delete_cmd_postfix": ") ",
     "delete_cmd_prefix": "rm(",
     "library": "var_list.r",
     "varRefreshCmd": "cat(var_dic_list()) "
    }
   },
   "types_to_exclude": [
    "module",
    "function",
    "builtin_function_or_method",
    "instance",
    "_Feature"
   ],
   "window_display": false
  }
 },
 "nbformat": 4,
 "nbformat_minor": 5
}
