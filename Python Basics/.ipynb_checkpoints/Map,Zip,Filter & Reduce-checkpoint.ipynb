{
 "cells": [
  {
   "cell_type": "code",
   "execution_count": 1,
   "id": "d3aca7e4",
   "metadata": {
    "ExecuteTime": {
     "end_time": "2022-04-08T12:35:22.623374Z",
     "start_time": "2022-04-08T12:35:22.610418Z"
    }
   },
   "outputs": [],
   "source": [
    "def double(x):\n",
    "    return x*2"
   ]
  },
  {
   "cell_type": "code",
   "execution_count": 4,
   "id": "5006615b",
   "metadata": {
    "ExecuteTime": {
     "end_time": "2022-04-08T12:36:05.642748Z",
     "start_time": "2022-04-08T12:36:05.635733Z"
    }
   },
   "outputs": [
    {
     "data": {
      "text/plain": [
       "[2, 4, 6]"
      ]
     },
     "execution_count": 4,
     "metadata": {},
     "output_type": "execute_result"
    }
   ],
   "source": [
    "mylist = [1,2,3]\n",
    "list(map(double,mylist))"
   ]
  },
  {
   "cell_type": "code",
   "execution_count": 6,
   "id": "f7d50b8d",
   "metadata": {
    "ExecuteTime": {
     "end_time": "2022-04-08T12:37:27.796250Z",
     "start_time": "2022-04-08T12:37:27.791262Z"
    }
   },
   "outputs": [
    {
     "data": {
      "text/plain": [
       "[1, 3]"
      ]
     },
     "execution_count": 6,
     "metadata": {},
     "output_type": "execute_result"
    }
   ],
   "source": [
    "list(filter(lambda x : x % 2,mylist))"
   ]
  },
  {
   "cell_type": "code",
   "execution_count": 7,
   "id": "782466e0",
   "metadata": {
    "ExecuteTime": {
     "end_time": "2022-04-08T12:38:02.481420Z",
     "start_time": "2022-04-08T12:38:02.471378Z"
    }
   },
   "outputs": [
    {
     "data": {
      "text/plain": [
       "[1, 2]"
      ]
     },
     "execution_count": 7,
     "metadata": {},
     "output_type": "execute_result"
    }
   ],
   "source": [
    "list(filter(lambda x : x % 3,mylist))"
   ]
  },
  {
   "cell_type": "code",
   "execution_count": 9,
   "id": "3e955ac4",
   "metadata": {
    "ExecuteTime": {
     "end_time": "2022-04-08T12:38:30.477766Z",
     "start_time": "2022-04-08T12:38:30.458823Z"
    }
   },
   "outputs": [
    {
     "data": {
      "text/plain": [
       "[(1, 10), (2, 20), (3, 20)]"
      ]
     },
     "execution_count": 9,
     "metadata": {},
     "output_type": "execute_result"
    }
   ],
   "source": [
    "list(zip([1,2,3],[10,20,20]))"
   ]
  },
  {
   "cell_type": "code",
   "execution_count": 12,
   "id": "88b18a9d",
   "metadata": {
    "ExecuteTime": {
     "end_time": "2022-04-08T12:48:22.055538Z",
     "start_time": "2022-04-08T12:48:22.039574Z"
    }
   },
   "outputs": [
    {
     "data": {
      "text/plain": [
       "10"
      ]
     },
     "execution_count": 12,
     "metadata": {},
     "output_type": "execute_result"
    }
   ],
   "source": [
    "from functools import reduce\n",
    "\n",
    "def addnum(x,y):\n",
    "    return x +y\n",
    "\n",
    "reduce(addnum,[1,2,3,4])"
   ]
  },
  {
   "cell_type": "code",
   "execution_count": null,
   "id": "76ae1342",
   "metadata": {},
   "outputs": [],
   "source": []
  }
 ],
 "metadata": {
  "kernelspec": {
   "display_name": "Python 3 (ipykernel)",
   "language": "python",
   "name": "python3"
  },
  "language_info": {
   "codemirror_mode": {
    "name": "ipython",
    "version": 3
   },
   "file_extension": ".py",
   "mimetype": "text/x-python",
   "name": "python",
   "nbconvert_exporter": "python",
   "pygments_lexer": "ipython3",
   "version": "3.10.0"
  },
  "varInspector": {
   "cols": {
    "lenName": 16,
    "lenType": 16,
    "lenVar": 40
   },
   "kernels_config": {
    "python": {
     "delete_cmd_postfix": "",
     "delete_cmd_prefix": "del ",
     "library": "var_list.py",
     "varRefreshCmd": "print(var_dic_list())"
    },
    "r": {
     "delete_cmd_postfix": ") ",
     "delete_cmd_prefix": "rm(",
     "library": "var_list.r",
     "varRefreshCmd": "cat(var_dic_list()) "
    }
   },
   "types_to_exclude": [
    "module",
    "function",
    "builtin_function_or_method",
    "instance",
    "_Feature"
   ],
   "window_display": false
  }
 },
 "nbformat": 4,
 "nbformat_minor": 5
}
