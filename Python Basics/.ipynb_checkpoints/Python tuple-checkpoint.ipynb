{
 "cells": [
  {
   "cell_type": "markdown",
   "id": "b39e7659",
   "metadata": {},
   "source": [
    "Tuple <br/>\n",
    "\n",
    "A sequence type is a type of data in Python which is able to store more than one value (or less than one, as a sequence may be empty), and these values can be sequentially (hence the name) browsed, element by element.\n",
    "\n",
    "The second notion - mutability - is a property of any of Python's data that describes its readiness to be freely changed during program execution. There are two kinds of Python data: mutable and immutable.\n",
    "\n",
    "Tuples are ordered and unchangeable (immutable) collections of data. They can be thought of as immutable lists. They are written in round brackets"
   ]
  },
  {
   "cell_type": "code",
   "execution_count": 1,
   "id": "8fc90511",
   "metadata": {
    "ExecuteTime": {
     "end_time": "2022-05-04T13:29:45.524378Z",
     "start_time": "2022-05-04T13:29:45.513610Z"
    }
   },
   "outputs": [
    {
     "data": {
      "text/plain": [
       "tuple"
      ]
     },
     "execution_count": 1,
     "metadata": {},
     "output_type": "execute_result"
    }
   ],
   "source": [
    "tp1 = (1,2,3,4)\n",
    "type(tp1)"
   ]
  },
  {
   "cell_type": "code",
   "execution_count": 2,
   "id": "1107484b",
   "metadata": {
    "ExecuteTime": {
     "end_time": "2022-05-04T13:30:04.477208Z",
     "start_time": "2022-05-04T13:30:04.458487Z"
    }
   },
   "outputs": [
    {
     "data": {
      "text/plain": [
       "tuple"
      ]
     },
     "execution_count": 2,
     "metadata": {},
     "output_type": "execute_result"
    }
   ],
   "source": [
    "tp2 = 2,\n",
    "type(tp2)"
   ]
  },
  {
   "cell_type": "code",
   "execution_count": 4,
   "id": "cc90e421",
   "metadata": {
    "ExecuteTime": {
     "end_time": "2022-05-04T13:30:31.897759Z",
     "start_time": "2022-05-04T13:30:31.878200Z"
    }
   },
   "outputs": [
    {
     "data": {
      "text/plain": [
       "tuple"
      ]
     },
     "execution_count": 4,
     "metadata": {},
     "output_type": "execute_result"
    }
   ],
   "source": [
    "tp3 = tuple([3,4,5])\n",
    "type(tp3)"
   ]
  },
  {
   "cell_type": "code",
   "execution_count": 7,
   "id": "f6e6eba6",
   "metadata": {
    "ExecuteTime": {
     "end_time": "2022-05-04T13:32:23.925091Z",
     "start_time": "2022-05-04T13:32:23.911146Z"
    }
   },
   "outputs": [
    {
     "data": {
      "text/plain": [
       "(True, False)"
      ]
     },
     "execution_count": 7,
     "metadata": {},
     "output_type": "execute_result"
    }
   ],
   "source": [
    "# we can index tuple\n",
    "\"__iter__\" in dir(tp3) , \"__next__\" in dir(tp3)"
   ]
  },
  {
   "cell_type": "code",
   "execution_count": 8,
   "id": "41fb71f9",
   "metadata": {
    "ExecuteTime": {
     "end_time": "2022-05-04T13:33:01.985038Z",
     "start_time": "2022-05-04T13:33:01.966450Z"
    }
   },
   "outputs": [
    {
     "data": {
      "text/plain": [
       "(3, 5)"
      ]
     },
     "execution_count": 8,
     "metadata": {},
     "output_type": "execute_result"
    }
   ],
   "source": [
    "tp3[0],tp3[-1]"
   ]
  },
  {
   "cell_type": "code",
   "execution_count": 9,
   "id": "b13f218b",
   "metadata": {
    "ExecuteTime": {
     "end_time": "2022-05-04T13:56:11.010118Z",
     "start_time": "2022-05-04T13:56:11.004299Z"
    }
   },
   "outputs": [
    {
     "data": {
      "text/plain": [
       "(1, 2, 3, 4, 3, 4, 5)"
      ]
     },
     "execution_count": 9,
     "metadata": {},
     "output_type": "execute_result"
    }
   ],
   "source": [
    "tp4 = tp1 + tp3\n",
    "tp4"
   ]
  },
  {
   "cell_type": "code",
   "execution_count": 10,
   "id": "3c1c1794",
   "metadata": {
    "ExecuteTime": {
     "end_time": "2022-05-04T13:56:28.111853Z",
     "start_time": "2022-05-04T13:56:28.097781Z"
    }
   },
   "outputs": [
    {
     "data": {
      "text/plain": [
       "(1, 2, 3, 4, 1, 2, 3, 4)"
      ]
     },
     "execution_count": 10,
     "metadata": {},
     "output_type": "execute_result"
    }
   ],
   "source": [
    "tp1*2"
   ]
  },
  {
   "cell_type": "code",
   "execution_count": 22,
   "id": "9de54e04",
   "metadata": {
    "ExecuteTime": {
     "end_time": "2022-05-04T14:02:44.191488Z",
     "start_time": "2022-05-04T14:02:44.176639Z"
    }
   },
   "outputs": [
    {
     "data": {
      "text/plain": [
       "(1, 2, 3, 4)"
      ]
     },
     "execution_count": 22,
     "metadata": {},
     "output_type": "execute_result"
    }
   ],
   "source": [
    "tp1"
   ]
  },
  {
   "cell_type": "code",
   "execution_count": 11,
   "id": "b83f72d8",
   "metadata": {
    "ExecuteTime": {
     "end_time": "2022-05-04T13:56:51.783632Z",
     "start_time": "2022-05-04T13:56:51.773562Z"
    }
   },
   "outputs": [
    {
     "data": {
      "text/plain": [
       "4"
      ]
     },
     "execution_count": 11,
     "metadata": {},
     "output_type": "execute_result"
    }
   ],
   "source": [
    "len(tp1)"
   ]
  },
  {
   "cell_type": "code",
   "execution_count": 12,
   "id": "2e93ef7a",
   "metadata": {
    "ExecuteTime": {
     "end_time": "2022-05-04T13:58:59.770342Z",
     "start_time": "2022-05-04T13:58:59.765273Z"
    }
   },
   "outputs": [
    {
     "name": "stdout",
     "output_type": "stream",
     "text": [
      "__add__ __class__ __class_getitem__ __contains__ __delattr__ __dir__ __doc__ __eq__ __format__ __ge__ __getattribute__ __getitem__ __getnewargs__ __gt__ __hash__ __init__ __init_subclass__ __iter__ __le__ __len__ __lt__ __mul__ __ne__ __new__ __reduce__ __reduce_ex__ __repr__ __rmul__ __setattr__ __sizeof__ __str__ __subclasshook__ count index "
     ]
    }
   ],
   "source": [
    "# methods in tuple\n",
    "for d in dir(tp1):\n",
    "    print(d , end=\" \")"
   ]
  },
  {
   "cell_type": "code",
   "execution_count": 20,
   "id": "a73ecade",
   "metadata": {
    "ExecuteTime": {
     "end_time": "2022-05-04T14:01:44.823612Z",
     "start_time": "2022-05-04T14:01:44.816582Z"
    }
   },
   "outputs": [
    {
     "data": {
      "text/plain": [
       "1"
      ]
     },
     "execution_count": 20,
     "metadata": {},
     "output_type": "execute_result"
    }
   ],
   "source": [
    "tp1.count(1)\n",
    "\n",
    "# tuple has limited methods for access count & index"
   ]
  },
  {
   "cell_type": "code",
   "execution_count": 25,
   "id": "c65fb785",
   "metadata": {
    "ExecuteTime": {
     "end_time": "2022-05-04T14:06:25.493148Z",
     "start_time": "2022-05-04T14:06:25.483496Z"
    }
   },
   "outputs": [
    {
     "name": "stdout",
     "output_type": "stream",
     "text": [
      "1 \\ 2 \\ 3 \\ 4 \\ "
     ]
    }
   ],
   "source": [
    "for l in tp1:\n",
    "    print(l,end= ' \\ ')"
   ]
  },
  {
   "cell_type": "code",
   "execution_count": 26,
   "id": "278397d6",
   "metadata": {
    "ExecuteTime": {
     "end_time": "2022-05-04T14:07:29.490755Z",
     "start_time": "2022-05-04T14:07:29.476666Z"
    }
   },
   "outputs": [
    {
     "data": {
      "text/plain": [
       "'(1, 2, 3, 4)'"
      ]
     },
     "execution_count": 26,
     "metadata": {},
     "output_type": "execute_result"
    }
   ],
   "source": [
    "tp1.__str__()"
   ]
  },
  {
   "cell_type": "code",
   "execution_count": 1,
   "id": "aae77fe0",
   "metadata": {
    "ExecuteTime": {
     "end_time": "2022-05-05T08:09:26.491518Z",
     "start_time": "2022-05-05T08:09:26.475148Z"
    }
   },
   "outputs": [
    {
     "data": {
      "text/plain": [
       "(1, 2, 3, 3, 4, 5, 1)"
      ]
     },
     "execution_count": 1,
     "metadata": {},
     "output_type": "execute_result"
    }
   ],
   "source": [
    "# we can generate new tuples by adding 2 tuples\n",
    "tp1 = (1,2,3)\n",
    "tp2 = (3,4,5,1)\n",
    "tp1+tp2"
   ]
  },
  {
   "cell_type": "code",
   "execution_count": null,
   "id": "801fce80",
   "metadata": {},
   "outputs": [],
   "source": []
  }
 ],
 "metadata": {
  "kernelspec": {
   "display_name": "Python 3 (ipykernel)",
   "language": "python",
   "name": "python3"
  },
  "language_info": {
   "codemirror_mode": {
    "name": "ipython",
    "version": 3
   },
   "file_extension": ".py",
   "mimetype": "text/x-python",
   "name": "python",
   "nbconvert_exporter": "python",
   "pygments_lexer": "ipython3",
   "version": "3.10.0"
  },
  "varInspector": {
   "cols": {
    "lenName": 16,
    "lenType": 16,
    "lenVar": 40
   },
   "kernels_config": {
    "python": {
     "delete_cmd_postfix": "",
     "delete_cmd_prefix": "del ",
     "library": "var_list.py",
     "varRefreshCmd": "print(var_dic_list())"
    },
    "r": {
     "delete_cmd_postfix": ") ",
     "delete_cmd_prefix": "rm(",
     "library": "var_list.r",
     "varRefreshCmd": "cat(var_dic_list()) "
    }
   },
   "types_to_exclude": [
    "module",
    "function",
    "builtin_function_or_method",
    "instance",
    "_Feature"
   ],
   "window_display": false
  }
 },
 "nbformat": 4,
 "nbformat_minor": 5
}
