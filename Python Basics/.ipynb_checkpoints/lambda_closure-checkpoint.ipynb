{
 "cells": [
  {
   "cell_type": "markdown",
   "id": "21c4736b",
   "metadata": {},
   "source": [
    "Lambda \n",
    "\n",
    "A lambda function is a function without a name (you can also call it an anonymous function)."
   ]
  },
  {
   "cell_type": "code",
   "execution_count": 3,
   "id": "a57b780b",
   "metadata": {
    "ExecuteTime": {
     "end_time": "2022-05-05T13:32:10.249530Z",
     "start_time": "2022-05-05T13:32:10.241821Z"
    }
   },
   "outputs": [
    {
     "data": {
      "text/plain": [
       "2"
      ]
     },
     "execution_count": 3,
     "metadata": {},
     "output_type": "execute_result"
    }
   ],
   "source": [
    "# lambda parameters : expression\n",
    "two = lambda : 2\n",
    "two()"
   ]
  },
  {
   "cell_type": "code",
   "execution_count": 2,
   "id": "0726b2c5",
   "metadata": {
    "ExecuteTime": {
     "end_time": "2022-05-05T13:31:41.022279Z",
     "start_time": "2022-05-05T13:31:41.010198Z"
    }
   },
   "outputs": [
    {
     "data": {
      "text/plain": [
       "8"
      ]
     },
     "execution_count": 2,
     "metadata": {},
     "output_type": "execute_result"
    }
   ],
   "source": [
    "pwr = lambda x,y : x*y\n",
    "pwr(2,4)"
   ]
  },
  {
   "cell_type": "code",
   "execution_count": 4,
   "id": "0e6f7298",
   "metadata": {
    "ExecuteTime": {
     "end_time": "2022-05-05T13:40:43.218203Z",
     "start_time": "2022-05-05T13:40:43.201539Z"
    }
   },
   "outputs": [
    {
     "data": {
      "text/plain": [
       "[2, 3, 4, 5]"
      ]
     },
     "execution_count": 4,
     "metadata": {},
     "output_type": "execute_result"
    }
   ],
   "source": [
    "list(map( lambda x : x +1 ,[1,2,3,4]))"
   ]
  },
  {
   "cell_type": "code",
   "execution_count": 6,
   "id": "2d7635b3",
   "metadata": {
    "ExecuteTime": {
     "end_time": "2022-05-05T13:41:23.504247Z",
     "start_time": "2022-05-05T13:41:23.494149Z"
    }
   },
   "outputs": [
    {
     "data": {
      "text/plain": [
       "[2, 4]"
      ]
     },
     "execution_count": 6,
     "metadata": {},
     "output_type": "execute_result"
    }
   ],
   "source": [
    "list(filter( lambda x :  x % 2 == 0 , [1,2,3,4]))"
   ]
  },
  {
   "cell_type": "markdown",
   "id": "568db98f",
   "metadata": {},
   "source": [
    "Closure:\n",
    "    \n",
    " closure is a technique which allows the storing of values in spite of the fact that the context in which they have been created does not exist anymore."
   ]
  },
  {
   "cell_type": "code",
   "execution_count": 7,
   "id": "f6173581",
   "metadata": {
    "ExecuteTime": {
     "end_time": "2022-05-05T13:55:52.705682Z",
     "start_time": "2022-05-05T13:55:52.692974Z"
    }
   },
   "outputs": [
    {
     "name": "stdout",
     "output_type": "stream",
     "text": [
      "1\n"
     ]
    }
   ],
   "source": [
    "def outer(par):\n",
    "    loc = par\n",
    "\n",
    "    def inner():\n",
    "        return loc\n",
    "    return inner\n",
    "\n",
    "\n",
    "var = 1\n",
    "fun = outer(var)\n",
    "print(fun())"
   ]
  },
  {
   "cell_type": "code",
   "execution_count": 8,
   "id": "c97a2b70",
   "metadata": {
    "ExecuteTime": {
     "end_time": "2022-05-05T13:58:46.192756Z",
     "start_time": "2022-05-05T13:58:46.172886Z"
    }
   },
   "outputs": [
    {
     "name": "stdout",
     "output_type": "stream",
     "text": [
      "0 0 0\n",
      "1 1 1\n",
      "2 4 8\n",
      "3 9 27\n",
      "4 16 64\n"
     ]
    }
   ],
   "source": [
    "def make_closure(par):\n",
    "    loc = par\n",
    "\n",
    "    def power(p):\n",
    "        return p ** loc\n",
    "    return power\n",
    "\n",
    "\n",
    "fsqr = make_closure(2)\n",
    "fcub = make_closure(3)\n",
    "\n",
    "for i in range(5):\n",
    "    print(i, fsqr(i), fcub(i))"
   ]
  },
  {
   "cell_type": "code",
   "execution_count": null,
   "id": "c1349510",
   "metadata": {},
   "outputs": [],
   "source": []
  }
 ],
 "metadata": {
  "kernelspec": {
   "display_name": "Python 3 (ipykernel)",
   "language": "python",
   "name": "python3"
  },
  "language_info": {
   "codemirror_mode": {
    "name": "ipython",
    "version": 3
   },
   "file_extension": ".py",
   "mimetype": "text/x-python",
   "name": "python",
   "nbconvert_exporter": "python",
   "pygments_lexer": "ipython3",
   "version": "3.10.0"
  },
  "varInspector": {
   "cols": {
    "lenName": 16,
    "lenType": 16,
    "lenVar": 40
   },
   "kernels_config": {
    "python": {
     "delete_cmd_postfix": "",
     "delete_cmd_prefix": "del ",
     "library": "var_list.py",
     "varRefreshCmd": "print(var_dic_list())"
    },
    "r": {
     "delete_cmd_postfix": ") ",
     "delete_cmd_prefix": "rm(",
     "library": "var_list.r",
     "varRefreshCmd": "cat(var_dic_list()) "
    }
   },
   "types_to_exclude": [
    "module",
    "function",
    "builtin_function_or_method",
    "instance",
    "_Feature"
   ],
   "window_display": false
  }
 },
 "nbformat": 4,
 "nbformat_minor": 5
}
