{
 "cells": [
  {
   "cell_type": "markdown",
   "id": "2738c9c9",
   "metadata": {},
   "source": [
    "### Comprehension and unpacking"
   ]
  },
  {
   "cell_type": "markdown",
   "id": "82d83f77",
   "metadata": {},
   "source": [
    "<div class=\"alert alert-info\">\n",
    "Comprehensions in Python provide us with a short and concise way to construct new sequences (such as lists, set, dictionary etc.) using sequences which have been already defined.\n",
    "</div>"
   ]
  },
  {
   "cell_type": "markdown",
   "id": "edfcccc4",
   "metadata": {
    "ExecuteTime": {
     "end_time": "2022-04-11T06:49:37.983993Z",
     "start_time": "2022-04-11T06:49:37.977017Z"
    }
   },
   "source": [
    "#### List Comprehension"
   ]
  },
  {
   "cell_type": "code",
   "execution_count": 2,
   "id": "ee11cd52",
   "metadata": {
    "ExecuteTime": {
     "end_time": "2022-04-11T06:48:07.615797Z",
     "start_time": "2022-04-11T06:48:07.605832Z"
    }
   },
   "outputs": [
    {
     "data": {
      "text/plain": [
       "[2, 4, 6, 8]"
      ]
     },
     "execution_count": 2,
     "metadata": {},
     "output_type": "execute_result"
    }
   ],
   "source": [
    "# list manipulation\n",
    "mylist = [1,2,3,4]\n",
    "newlist = [x*2 for x in mylist]\n",
    "newlist"
   ]
  },
  {
   "cell_type": "code",
   "execution_count": 30,
   "id": "9aa941fa",
   "metadata": {
    "ExecuteTime": {
     "end_time": "2022-04-11T07:02:19.535916Z",
     "start_time": "2022-04-11T07:02:19.528901Z"
    }
   },
   "outputs": [
    {
     "name": "stdout",
     "output_type": "stream",
     "text": [
      "[2, 4]\n",
      "['odd', 2, 'odd', 4]\n"
     ]
    }
   ],
   "source": [
    "# list filtering\n",
    "mylist = [1,2,3,4]\n",
    "newlist = [x for x in mylist  if x%2 == 0 ]\n",
    "print(newlist)\n",
    "newlist = [(lambda x : x if x % 2 == 0 else \"odd\")(x) for x in mylist]\n",
    "print(newlist)"
   ]
  },
  {
   "cell_type": "code",
   "execution_count": 2,
   "id": "d2613af2",
   "metadata": {
    "ExecuteTime": {
     "end_time": "2022-05-05T13:19:13.413149Z",
     "start_time": "2022-05-05T13:19:13.396136Z"
    }
   },
   "outputs": [
    {
     "data": {
      "text/plain": [
       "[0, 1, 0, 1, 0, 1, 0, 1, 0, 1]"
      ]
     },
     "execution_count": 2,
     "metadata": {},
     "output_type": "execute_result"
    }
   ],
   "source": [
    "newlist = [ 0 if x % 2 == 0 else 1 for x in range(10)]\n",
    "newlist"
   ]
  },
  {
   "cell_type": "markdown",
   "id": "b07b6d42",
   "metadata": {
    "ExecuteTime": {
     "end_time": "2022-04-11T06:50:07.052444Z",
     "start_time": "2022-04-11T06:50:07.037529Z"
    }
   },
   "source": [
    "#### Dictionary Comprehension"
   ]
  },
  {
   "cell_type": "code",
   "execution_count": 16,
   "id": "dc6cf229",
   "metadata": {
    "ExecuteTime": {
     "end_time": "2022-04-11T06:53:45.027546Z",
     "start_time": "2022-04-11T06:53:45.020477Z"
    }
   },
   "outputs": [
    {
     "data": {
      "text/plain": [
       "{'a': 20, 'b': 40}"
      ]
     },
     "execution_count": 16,
     "metadata": {},
     "output_type": "execute_result"
    }
   ],
   "source": [
    "mydict = dict(a = 10 , b= 20)\n",
    "newdict = { key : value * 2 for (key,value) in mydict.items()}\n",
    "newdict"
   ]
  },
  {
   "cell_type": "code",
   "execution_count": 17,
   "id": "b6ba3190",
   "metadata": {
    "ExecuteTime": {
     "end_time": "2022-04-11T06:54:17.397459Z",
     "start_time": "2022-04-11T06:54:17.380445Z"
    }
   },
   "outputs": [
    {
     "name": "stdout",
     "output_type": "stream",
     "text": [
      "<class 'builtin_function_or_method'>\n"
     ]
    }
   ],
   "source": [
    "print(type(mydict.items))"
   ]
  },
  {
   "cell_type": "markdown",
   "id": "28de9730",
   "metadata": {
    "ExecuteTime": {
     "end_time": "2022-04-11T06:54:41.221046Z",
     "start_time": "2022-04-11T06:54:41.213069Z"
    }
   },
   "source": [
    "#### Set comprehension"
   ]
  },
  {
   "cell_type": "code",
   "execution_count": 19,
   "id": "a5f9a069",
   "metadata": {
    "ExecuteTime": {
     "end_time": "2022-04-11T06:55:29.938089Z",
     "start_time": "2022-04-11T06:55:29.933107Z"
    }
   },
   "outputs": [
    {
     "data": {
      "text/plain": [
       "{2, 4, 6}"
      ]
     },
     "execution_count": 19,
     "metadata": {},
     "output_type": "execute_result"
    }
   ],
   "source": [
    "myset = {1,2,3}\n",
    "newset = {x*2 for x in myset}\n",
    "newset"
   ]
  },
  {
   "cell_type": "markdown",
   "id": "d9241c3a",
   "metadata": {
    "ExecuteTime": {
     "end_time": "2022-04-11T08:11:38.652060Z",
     "start_time": "2022-04-11T08:11:38.635989Z"
    }
   },
   "source": [
    "#### Generator Comprehension"
   ]
  },
  {
   "cell_type": "code",
   "execution_count": 22,
   "id": "1799dfc0",
   "metadata": {
    "ExecuteTime": {
     "end_time": "2022-04-11T08:14:44.259550Z",
     "start_time": "2022-04-11T08:14:44.235549Z"
    }
   },
   "outputs": [
    {
     "name": "stdout",
     "output_type": "stream",
     "text": [
      "<generator object <genexpr> at 0x00000226C21B1BD0>\n",
      "3\n",
      "6\n",
      "9\n",
      "12\n",
      "(3, 6, 9, 12)\n"
     ]
    }
   ],
   "source": [
    "mytuple = (1,2,3,4)\n",
    "newtuple = (x*3 for x in mytuple)\n",
    "print(newtuple)\n",
    "for x in newtuple:\n",
    "    print(x)\n",
    "   \n",
    "newst = tuple(x*3 for x in mytuple)\n",
    "print(newst)"
   ]
  },
  {
   "cell_type": "markdown",
   "id": "519fb8f8",
   "metadata": {},
   "source": [
    "### Unpacking"
   ]
  },
  {
   "cell_type": "markdown",
   "id": "7c77c4bf",
   "metadata": {
    "ExecuteTime": {
     "end_time": "2022-04-11T07:40:25.026347Z",
     "start_time": "2022-04-11T07:40:25.018346Z"
    }
   },
   "source": [
    "<div class=\"alert alert-info\">\n",
    "    Unpacking is the process of getting out stuff — iterables such as lists, tuples, and dictionaries<br/>\n",
    "    While a single asterisk is used to unpack lists and tuples, the double-asterisk (**) is used to unpack dictionaries.\n",
    "    <ol>\n",
    "        <li>You use * for tuples and lists and ** for dictionaries</li>\n",
    "        <li>You can use unpacking operators in functions and classes constructors</li>\n",
    "        <li> args are used to pass non-key-worded parameters to functions</li>\n",
    "        <li>kwargs are used to pass keyworded parameters to functions.</li>\n",
    "    </ol>\n",
    "</div>"
   ]
  },
  {
   "cell_type": "code",
   "execution_count": 16,
   "id": "b464c166",
   "metadata": {
    "ExecuteTime": {
     "end_time": "2022-04-11T08:02:02.685921Z",
     "start_time": "2022-04-11T08:02:02.669849Z"
    }
   },
   "outputs": [
    {
     "name": "stdout",
     "output_type": "stream",
     "text": [
      "6 7 8\n"
     ]
    }
   ],
   "source": [
    "mylist = [6,7,8]\n",
    "print(*mylist)"
   ]
  },
  {
   "cell_type": "markdown",
   "id": "631534b8",
   "metadata": {
    "ExecuteTime": {
     "end_time": "2022-04-11T07:28:08.589460Z",
     "start_time": "2022-04-11T07:28:08.581460Z"
    }
   },
   "source": [
    "a,b,*c = 1,2,3,4\n",
    "print(a,b,c)\n",
    "a,*b,c = 1,2,3,4\n",
    "print(a,b,c)\n",
    "*a,b = (4,6,7,8)\n",
    "print(a,b)\n",
    "mytuple = (5,6,7,8)\n",
    "a,b,*c = mytuple\n",
    "print(a,b,c)\n",
    "\n",
    "newtuple = (*mytuple,10,20)\n",
    "print(newtuple)"
   ]
  },
  {
   "cell_type": "markdown",
   "id": "535cbfc3",
   "metadata": {},
   "source": [
    "   <div class=\"alert alert-info\"> \n",
    "    If we want to unpack all the values of an iterable to a single variable, we must set up a tuple, \n",
    "    hence adding a simple comma will be enough:\n",
    "    </div>"
   ]
  },
  {
   "cell_type": "code",
   "execution_count": 8,
   "id": "2404aeae",
   "metadata": {
    "ExecuteTime": {
     "end_time": "2022-04-11T07:44:08.749963Z",
     "start_time": "2022-04-11T07:44:08.741958Z"
    }
   },
   "outputs": [
    {
     "name": "stdout",
     "output_type": "stream",
     "text": [
      "['P', 'y', 't', 'h', 'o', 'n', 'I', 's', 'T', 'h', 'e', 'B', 'e', 's', 't']\n"
     ]
    }
   ],
   "source": [
    "*string, = 'PythonIsTheBest' # notice the comnma after the string name to work as a tuple\n",
    "print(string)"
   ]
  },
  {
   "cell_type": "code",
   "execution_count": 2,
   "id": "2b4b3aca",
   "metadata": {
    "ExecuteTime": {
     "end_time": "2022-04-11T07:24:45.050420Z",
     "start_time": "2022-04-11T07:24:45.034421Z"
    }
   },
   "outputs": [
    {
     "name": "stdout",
     "output_type": "stream",
     "text": [
      "{'a': 10, 'c': 30}\n"
     ]
    }
   ],
   "source": [
    "mydict = dict(a = 10)\n",
    "newdict = { **mydict,\"c\":30}\n",
    "print(newdict)"
   ]
  },
  {
   "cell_type": "code",
   "execution_count": 10,
   "id": "56c176ab",
   "metadata": {
    "ExecuteTime": {
     "end_time": "2022-04-11T07:57:47.796745Z",
     "start_time": "2022-04-11T07:57:47.788748Z"
    }
   },
   "outputs": [
    {
     "name": "stdout",
     "output_type": "stream",
     "text": [
      "(1, 2, 3, 4)\n"
     ]
    }
   ],
   "source": [
    "def myfunc(*args):\n",
    "    print(args)\n",
    "    \n",
    "myfunc(1,2,3,4)"
   ]
  },
  {
   "cell_type": "code",
   "execution_count": 15,
   "id": "0eda5e05",
   "metadata": {
    "ExecuteTime": {
     "end_time": "2022-04-11T08:01:07.870416Z",
     "start_time": "2022-04-11T08:01:07.854376Z"
    }
   },
   "outputs": [
    {
     "name": "stdout",
     "output_type": "stream",
     "text": [
      "{'a': 10, 'b': 20}\n"
     ]
    }
   ],
   "source": [
    "def newfunc(**kwargs):\n",
    "    print(kwargs)\n",
    "    \n",
    "newfunc(a=10,b=20)"
   ]
  },
  {
   "cell_type": "code",
   "execution_count": null,
   "id": "b0279da1",
   "metadata": {
    "ExecuteTime": {
     "end_time": "2022-04-11T07:38:46.174445Z",
     "start_time": "2022-04-11T07:38:46.158388Z"
    }
   },
   "outputs": [],
   "source": [
    "# <div class=\"alert alert-info\">\n",
    "# <div class=\"alert alert-success\">\n",
    "# <div class=\"alert alert-danger\">\n",
    "# <div class=\"alert alert-warning\">"
   ]
  }
 ],
 "metadata": {
  "kernelspec": {
   "display_name": "Python 3 (ipykernel)",
   "language": "python",
   "name": "python3"
  },
  "language_info": {
   "codemirror_mode": {
    "name": "ipython",
    "version": 3
   },
   "file_extension": ".py",
   "mimetype": "text/x-python",
   "name": "python",
   "nbconvert_exporter": "python",
   "pygments_lexer": "ipython3",
   "version": "3.10.0"
  },
  "varInspector": {
   "cols": {
    "lenName": 16,
    "lenType": 16,
    "lenVar": 40
   },
   "kernels_config": {
    "python": {
     "delete_cmd_postfix": "",
     "delete_cmd_prefix": "del ",
     "library": "var_list.py",
     "varRefreshCmd": "print(var_dic_list())"
    },
    "r": {
     "delete_cmd_postfix": ") ",
     "delete_cmd_prefix": "rm(",
     "library": "var_list.r",
     "varRefreshCmd": "cat(var_dic_list()) "
    }
   },
   "position": {
    "height": "527.85px",
    "left": "1185.2px",
    "right": "20px",
    "top": "120px",
    "width": "314px"
   },
   "types_to_exclude": [
    "module",
    "function",
    "builtin_function_or_method",
    "instance",
    "_Feature"
   ],
   "window_display": false
  }
 },
 "nbformat": 4,
 "nbformat_minor": 5
}
