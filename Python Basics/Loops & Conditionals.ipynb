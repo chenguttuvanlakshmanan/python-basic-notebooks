{
 "cells": [
  {
   "cell_type": "markdown",
   "id": "783a7dcc",
   "metadata": {},
   "source": [
    "### Loops"
   ]
  },
  {
   "cell_type": "code",
   "execution_count": 22,
   "id": "c6a71ea2",
   "metadata": {
    "ExecuteTime": {
     "end_time": "2022-04-08T08:57:50.172846Z",
     "start_time": "2022-04-08T08:57:50.167818Z"
    }
   },
   "outputs": [
    {
     "name": "stdout",
     "output_type": "stream",
     "text": [
      "0\n",
      "1\n",
      "2\n"
     ]
    }
   ],
   "source": [
    "for x in range(3):\n",
    "    print(x)"
   ]
  },
  {
   "cell_type": "code",
   "execution_count": 23,
   "id": "f7d1ffcb",
   "metadata": {
    "ExecuteTime": {
     "end_time": "2022-04-08T08:57:56.391328Z",
     "start_time": "2022-04-08T08:57:56.372454Z"
    }
   },
   "outputs": [
    {
     "name": "stdout",
     "output_type": "stream",
     "text": [
      "3\n",
      "2\n",
      "1\n",
      "[1, 2, 3]\n"
     ]
    }
   ],
   "source": [
    "# reverse the object while iterating the sequence\n",
    "mylist = [1,2,3]\n",
    "for x in reversed(mylist):\n",
    "    print(x)\n",
    "print(mylist)"
   ]
  },
  {
   "cell_type": "code",
   "execution_count": 24,
   "id": "d875910a",
   "metadata": {
    "ExecuteTime": {
     "end_time": "2022-04-08T08:58:07.591025Z",
     "start_time": "2022-04-08T08:58:07.573278Z"
    }
   },
   "outputs": [
    {
     "name": "stdout",
     "output_type": "stream",
     "text": [
      "0\n",
      "1\n",
      "2\n",
      "loop not breaked\n"
     ]
    }
   ],
   "source": [
    "# else block will be executed when the loop executed without breaking\n",
    "for x in range(3):\n",
    "    if x > 3:\n",
    "        break\n",
    "    else:\n",
    "        print(x)\n",
    "else:\n",
    "    print(\"loop not breaked\")"
   ]
  },
  {
   "cell_type": "code",
   "execution_count": 12,
   "id": "50f9775a",
   "metadata": {
    "ExecuteTime": {
     "end_time": "2022-04-08T08:12:51.751339Z",
     "start_time": "2022-04-08T08:12:51.740378Z"
    }
   },
   "outputs": [
    {
     "name": "stdout",
     "output_type": "stream",
     "text": [
      "0 0\n",
      "0 1\n",
      "0 2\n",
      "1 0\n",
      "1 1\n",
      "1 2\n"
     ]
    }
   ],
   "source": [
    "# nested for loop\n",
    "for x in range(2):\n",
    "    for y in range(3):\n",
    "        print(x,y)"
   ]
  },
  {
   "cell_type": "code",
   "execution_count": 7,
   "id": "9b899281",
   "metadata": {
    "ExecuteTime": {
     "end_time": "2022-04-08T08:06:08.900896Z",
     "start_time": "2022-04-08T08:06:08.885841Z"
    }
   },
   "outputs": [
    {
     "name": "stdout",
     "output_type": "stream",
     "text": [
      "0\n",
      "1\n",
      "2\n"
     ]
    }
   ],
   "source": [
    "i = 0\n",
    "while i < 3:\n",
    "    print(i)\n",
    "    i +=1   "
   ]
  },
  {
   "cell_type": "code",
   "execution_count": 9,
   "id": "a07cfdb4",
   "metadata": {
    "ExecuteTime": {
     "end_time": "2022-04-08T08:07:14.284807Z",
     "start_time": "2022-04-08T08:07:14.269808Z"
    }
   },
   "outputs": [
    {
     "name": "stdout",
     "output_type": "stream",
     "text": [
      "1 0\n",
      "2 1\n",
      "3 2\n",
      "4 3\n",
      "5 4\n"
     ]
    }
   ],
   "source": [
    "# enumerate used to get the index of the sequence we can start with 0 or 1\n",
    "mylist = list(range(5))\n",
    "for i,x in enumerate(mylist,1):\n",
    "    print(i,x)"
   ]
  },
  {
   "cell_type": "code",
   "execution_count": 10,
   "id": "d003c919",
   "metadata": {
    "ExecuteTime": {
     "end_time": "2022-04-08T08:09:16.248768Z",
     "start_time": "2022-04-08T08:09:16.233817Z"
    }
   },
   "outputs": [
    {
     "name": "stdout",
     "output_type": "stream",
     "text": [
      "1 10\n",
      "2 20\n",
      "3 30\n",
      "4 40\n"
     ]
    }
   ],
   "source": [
    "# combine two values using zip\n",
    "list1 = [1,2,3,4]\n",
    "list2 = [10,20,30,40]\n",
    "\n",
    "for x,y in zip(list1,list2):\n",
    "    print(x,y)"
   ]
  },
  {
   "cell_type": "markdown",
   "id": "f7072a49",
   "metadata": {},
   "source": [
    "<i> Break will immediately stop the loop execution</i><br/>\n",
    "<i>Continue will stop from current execution line and start run from the begining of the loop ( statement below next to continue will not be executed)</i>"
   ]
  },
  {
   "cell_type": "markdown",
   "id": "38b1b765",
   "metadata": {},
   "source": [
    "### Conditionals"
   ]
  },
  {
   "cell_type": "code",
   "execution_count": 14,
   "id": "0933d9a7",
   "metadata": {
    "ExecuteTime": {
     "end_time": "2022-04-08T08:18:56.319627Z",
     "start_time": "2022-04-08T08:18:56.301688Z"
    }
   },
   "outputs": [
    {
     "name": "stdout",
     "output_type": "stream",
     "text": [
      "greater than 5\n"
     ]
    }
   ],
   "source": [
    "x = 10\n",
    "if x > 5:\n",
    "    print(\"greater than 5\")\n",
    "elif x > 2:\n",
    "    print(\"greater than 2\")\n",
    "else:\n",
    "    print(\"less than 2\")"
   ]
  },
  {
   "cell_type": "code",
   "execution_count": 15,
   "id": "ca870e95",
   "metadata": {
    "ExecuteTime": {
     "end_time": "2022-04-08T08:20:36.785856Z",
     "start_time": "2022-04-08T08:20:36.777814Z"
    }
   },
   "outputs": [
    {
     "name": "stdout",
     "output_type": "stream",
     "text": [
      "five\n"
     ]
    }
   ],
   "source": [
    "# shorthand if\n",
    "x = 5\n",
    "if x == 5: print(\"five\")  "
   ]
  },
  {
   "cell_type": "code",
   "execution_count": 16,
   "id": "504d886a",
   "metadata": {
    "ExecuteTime": {
     "end_time": "2022-04-08T08:22:10.188626Z",
     "start_time": "2022-04-08T08:22:10.173712Z"
    }
   },
   "outputs": [
    {
     "name": "stdout",
     "output_type": "stream",
     "text": [
      "even\n"
     ]
    }
   ],
   "source": [
    "# shorthand if else\n",
    "x = 2\n",
    "print(\"even\") if x % 2 == 0 else print(\"odd\")"
   ]
  },
  {
   "cell_type": "code",
   "execution_count": 21,
   "id": "fd4eebeb",
   "metadata": {
    "ExecuteTime": {
     "end_time": "2022-04-08T08:43:39.690437Z",
     "start_time": "2022-04-08T08:43:39.685454Z"
    }
   },
   "outputs": [
    {
     "name": "stdout",
     "output_type": "stream",
     "text": [
      "no mtach\n"
     ]
    }
   ],
   "source": [
    "# swicth case in python this is available from version 3.10\n",
    "x =0\n",
    "match x:\n",
    "    case 1:\n",
    "        print(1)\n",
    "    case 2:\n",
    "        print(2)\n",
    "    case _:\n",
    "        print(\"no mtach\")"
   ]
  },
  {
   "cell_type": "code",
   "execution_count": null,
   "id": "d5cf05bd",
   "metadata": {},
   "outputs": [],
   "source": []
  }
 ],
 "metadata": {
  "kernelspec": {
   "display_name": "Python 3 (ipykernel)",
   "language": "python",
   "name": "python3"
  },
  "language_info": {
   "codemirror_mode": {
    "name": "ipython",
    "version": 3
   },
   "file_extension": ".py",
   "mimetype": "text/x-python",
   "name": "python",
   "nbconvert_exporter": "python",
   "pygments_lexer": "ipython3",
   "version": "3.10.0"
  },
  "varInspector": {
   "cols": {
    "lenName": 16,
    "lenType": 16,
    "lenVar": 40
   },
   "kernels_config": {
    "python": {
     "delete_cmd_postfix": "",
     "delete_cmd_prefix": "del ",
     "library": "var_list.py",
     "varRefreshCmd": "print(var_dic_list())"
    },
    "r": {
     "delete_cmd_postfix": ") ",
     "delete_cmd_prefix": "rm(",
     "library": "var_list.r",
     "varRefreshCmd": "cat(var_dic_list()) "
    }
   },
   "types_to_exclude": [
    "module",
    "function",
    "builtin_function_or_method",
    "instance",
    "_Feature"
   ],
   "window_display": false
  }
 },
 "nbformat": 4,
 "nbformat_minor": 5
}
