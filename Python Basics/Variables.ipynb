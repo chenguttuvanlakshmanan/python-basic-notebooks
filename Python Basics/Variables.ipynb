{
 "cells": [
  {
   "cell_type": "markdown",
   "id": "13e333bb",
   "metadata": {
    "ExecuteTime": {
     "end_time": "2022-04-08T07:46:11.063759Z",
     "start_time": "2022-04-08T07:46:11.059854Z"
    }
   },
   "source": [
    "### Object"
   ]
  },
  {
   "cell_type": "markdown",
   "id": "1ff91397",
   "metadata": {
    "ExecuteTime": {
     "end_time": "2022-04-08T07:19:18.620122Z",
     "start_time": "2022-04-08T07:19:18.608158Z"
    }
   },
   "source": [
    "<i>Python is dynamically typed language</i>\n"
   ]
  },
  {
   "cell_type": "markdown",
   "id": "bd09446c",
   "metadata": {},
   "source": [
    "   <i> Objects are Python's abstraction for data. In Python, data are represented by objects or by relations between objects.</i>\n",
    "   "
   ]
  },
  {
   "cell_type": "markdown",
   "id": "a3c004aa",
   "metadata": {
    "ExecuteTime": {
     "end_time": "2022-04-08T06:53:32.525093Z",
     "start_time": "2022-04-08T06:53:32.512134Z"
    }
   },
   "source": [
    "### Variables in python\n"
   ]
  },
  {
   "cell_type": "markdown",
   "id": "2091dd48",
   "metadata": {},
   "source": [
    "    Variables in Python are names given to objects, so that it becomes easy to refer a value. In other words, a variable points to an object\n",
    "    A Python variable is a symbolic name that is a reference or pointer to an object."
   ]
  },
  {
   "cell_type": "markdown",
   "id": "24f3f590",
   "metadata": {},
   "source": [
    "<strong>Naming Conventions:</strong>\n",
    "  <div class=\"alert alert-info\">\n",
    "    <ol>\n",
    "       <li>The name of the variable should start with either an alphabet letter (lower or upper case) or an underscore (_), but it cannot start with a digit. </li>\n",
    "    <li>More than one alpha-numeric characters or underscores may follow. </li>\n",
    "     <li>The variable name can consist of alphabet letter(s), number(s) and underscore(s) only. For example, myVar, MyVar, _myVar, MyVar123 are valid variable names, but m*var, my-var, 1myVar are invalid variable names. </li>\n",
    "   <li> Variable names in Python are case sensitive. So, NAME, name, nAME, and nAmE are treated as different variable names. </li>\n",
    "   <li>Variable names cannot be a reserved keywords in Python. </li>\n",
    "    </ol>\n",
    " </div>   "
   ]
  },
  {
   "attachments": {
    "image.png": {
     "image/png": "[encoded data removed]"
    }
   },
   "cell_type": "markdown",
   "id": "6b0ed0ef",
   "metadata": {},
   "source": [
    "![image.png](attachment:image.png)"
   ]
  },
  {
   "cell_type": "code",
   "execution_count": 9,
   "id": "05ff5745",
   "metadata": {
    "ExecuteTime": {
     "end_time": "2022-04-08T07:31:38.717083Z",
     "start_time": "2022-04-08T07:31:38.714089Z"
    }
   },
   "outputs": [
    {
     "name": "stdout",
     "output_type": "stream",
     "text": [
      "2116739072528\n",
      "2116739072528\n",
      "True\n"
     ]
    }
   ],
   "source": [
    "a = 10\n",
    "b = a\n",
    "print(id(a))\n",
    "print(id(b))\n",
    "print(a is b)"
   ]
  },
  {
   "cell_type": "code",
   "execution_count": 3,
   "id": "14a6ff59",
   "metadata": {
    "ExecuteTime": {
     "end_time": "2022-04-08T07:17:52.364977Z",
     "start_time": "2022-04-08T07:17:52.349237Z"
    }
   },
   "outputs": [
    {
     "name": "stdout",
     "output_type": "stream",
     "text": [
      "<class 'int'>\n",
      "2116739072528\n"
     ]
    }
   ],
   "source": [
    "var = 10\n",
    "print(type(var)) # identify the class of the object stored\n",
    "print(id(var)) # location storage of object"
   ]
  },
  {
   "cell_type": "code",
   "execution_count": 5,
   "id": "d556a9e5",
   "metadata": {
    "ExecuteTime": {
     "end_time": "2022-04-08T07:20:15.784657Z",
     "start_time": "2022-04-08T07:20:15.769740Z"
    }
   },
   "outputs": [
    {
     "name": "stdout",
     "output_type": "stream",
     "text": [
      "<class 'str'>\n",
      "2117075427824\n"
     ]
    }
   ],
   "source": [
    "var1 = 'expert'\n",
    "print(type(var1))\n",
    "print(id(var1))"
   ]
  },
  {
   "cell_type": "code",
   "execution_count": 6,
   "id": "95f8c1f6",
   "metadata": {
    "ExecuteTime": {
     "end_time": "2022-04-08T07:21:58.272869Z",
     "start_time": "2022-04-08T07:21:58.253915Z"
    }
   },
   "outputs": [
    {
     "name": "stdout",
     "output_type": "stream",
     "text": [
      "<class 'float'>\n",
      "2117055770288\n"
     ]
    }
   ],
   "source": [
    "var2 = 5.4\n",
    "print(type(var2))\n",
    "print(id(var2))"
   ]
  },
  {
   "cell_type": "code",
   "execution_count": 7,
   "id": "ae77ff74",
   "metadata": {
    "ExecuteTime": {
     "end_time": "2022-04-08T07:22:24.102116Z",
     "start_time": "2022-04-08T07:22:24.085175Z"
    }
   },
   "outputs": [
    {
     "name": "stdout",
     "output_type": "stream",
     "text": [
      "<class 'bool'>\n",
      "140725065923432\n"
     ]
    }
   ],
   "source": [
    "var3 = True\n",
    "print(type(var3))\n",
    "print(id(var3))"
   ]
  },
  {
   "cell_type": "code",
   "execution_count": 8,
   "id": "5f1cc5c6",
   "metadata": {
    "ExecuteTime": {
     "end_time": "2022-04-08T07:23:44.812604Z",
     "start_time": "2022-04-08T07:23:44.797621Z"
    }
   },
   "outputs": [
    {
     "name": "stdout",
     "output_type": "stream",
     "text": [
      "<class 'complex'>\n",
      "2117055770992\n"
     ]
    }
   ],
   "source": [
    "var4 = 4 + 5j\n",
    "print(type(var4))\n",
    "print(id(var4))"
   ]
  },
  {
   "cell_type": "code",
   "execution_count": 10,
   "id": "858bb283",
   "metadata": {
    "ExecuteTime": {
     "end_time": "2022-04-08T07:33:12.041503Z",
     "start_time": "2022-04-08T07:33:12.033501Z"
    }
   },
   "outputs": [
    {
     "name": "stdout",
     "output_type": "stream",
     "text": [
      "1 2 3\n"
     ]
    }
   ],
   "source": [
    "# multiple assigment\n",
    "x,y,z = 1,2,3\n",
    "print(x,y,z)"
   ]
  },
  {
   "cell_type": "code",
   "execution_count": 11,
   "id": "dd58b3b4",
   "metadata": {
    "ExecuteTime": {
     "end_time": "2022-04-08T07:33:45.792370Z",
     "start_time": "2022-04-08T07:33:45.784399Z"
    }
   },
   "outputs": [
    {
     "name": "stdout",
     "output_type": "stream",
     "text": [
      "2 3\n",
      "3 2\n"
     ]
    }
   ],
   "source": [
    "# interchange values between variables\n",
    "print(y,z)\n",
    "y,z = z,y\n",
    "print(y,z)"
   ]
  },
  {
   "cell_type": "code",
   "execution_count": null,
   "id": "c89e32b1",
   "metadata": {},
   "outputs": [],
   "source": []
  }
 ],
 "metadata": {
  "kernelspec": {
   "display_name": "Python 3 (ipykernel)",
   "language": "python",
   "name": "python3"
  },
  "language_info": {
   "codemirror_mode": {
    "name": "ipython",
    "version": 3
   },
   "file_extension": ".py",
   "mimetype": "text/x-python",
   "name": "python",
   "nbconvert_exporter": "python",
   "pygments_lexer": "ipython3",
   "version": "3.10.0"
  },
  "varInspector": {
   "cols": {
    "lenName": 16,
    "lenType": 16,
    "lenVar": 40
   },
   "kernels_config": {
    "python": {
     "delete_cmd_postfix": "",
     "delete_cmd_prefix": "del ",
     "library": "var_list.py",
     "varRefreshCmd": "print(var_dic_list())"
    },
    "r": {
     "delete_cmd_postfix": ") ",
     "delete_cmd_prefix": "rm(",
     "library": "var_list.r",
     "varRefreshCmd": "cat(var_dic_list()) "
    }
   },
   "types_to_exclude": [
    "module",
    "function",
    "builtin_function_or_method",
    "instance",
    "_Feature"
   ],
   "window_display": false
  }
 },
 "nbformat": 4,
 "nbformat_minor": 5
}
