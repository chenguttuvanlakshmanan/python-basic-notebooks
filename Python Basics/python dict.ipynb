{
 "cells": [
  {
   "cell_type": "markdown",
   "id": "9781772d",
   "metadata": {},
   "source": [
    "Dictionary :\n",
    "\n",
    "dictionary is a set of key-value pairs  changeable (mutable), and indexed collections of data\n",
    "\n",
    "It is not a sequence type and keys must be unique\n",
    "\n",
    "It stores the order of elements from 3.6 version\n"
   ]
  },
  {
   "cell_type": "code",
   "execution_count": 3,
   "id": "3ddcb54f",
   "metadata": {
    "ExecuteTime": {
     "end_time": "2022-05-04T14:10:35.435226Z",
     "start_time": "2022-05-04T14:10:35.420507Z"
    }
   },
   "outputs": [
    {
     "name": "stdout",
     "output_type": "stream",
     "text": [
      "{'a': 10} \\ {'a': 10}\n"
     ]
    }
   ],
   "source": [
    "# creating dictionary\n",
    "mydict = dict(a=10)\n",
    "mydict = {\"a\" : 10}\n",
    "\n",
    "newdict = {}\n",
    "newdict[\"a\"] = 10\n",
    "\n",
    "print(mydict,newdict,sep= \" \\\\ \")"
   ]
  },
  {
   "cell_type": "code",
   "execution_count": 5,
   "id": "f1942a4e",
   "metadata": {
    "ExecuteTime": {
     "end_time": "2022-05-04T14:12:08.646758Z",
     "start_time": "2022-05-04T14:12:08.631499Z"
    }
   },
   "outputs": [
    {
     "data": {
      "text/plain": [
       "10"
      ]
     },
     "execution_count": 5,
     "metadata": {},
     "output_type": "execute_result"
    }
   ],
   "source": [
    "# indexing dictionary using keys\n",
    "mydict[\"a\"]"
   ]
  },
  {
   "cell_type": "code",
   "execution_count": 7,
   "id": "a5ffd1d1",
   "metadata": {
    "ExecuteTime": {
     "end_time": "2022-05-04T14:13:04.925000Z",
     "start_time": "2022-05-04T14:13:04.920028Z"
    }
   },
   "outputs": [
    {
     "name": "stdout",
     "output_type": "stream",
     "text": [
      "a\n"
     ]
    }
   ],
   "source": [
    "# looping through elements in a dictionary\n",
    "for k in mydict.keys():\n",
    "    print(k)"
   ]
  },
  {
   "cell_type": "code",
   "execution_count": 8,
   "id": "655cb66a",
   "metadata": {
    "ExecuteTime": {
     "end_time": "2022-05-04T14:13:20.850925Z",
     "start_time": "2022-05-04T14:13:20.836353Z"
    }
   },
   "outputs": [
    {
     "name": "stdout",
     "output_type": "stream",
     "text": [
      "10\n"
     ]
    }
   ],
   "source": [
    "for v in mydict.values():\n",
    "    print(v)"
   ]
  },
  {
   "cell_type": "code",
   "execution_count": 10,
   "id": "8d910119",
   "metadata": {
    "ExecuteTime": {
     "end_time": "2022-05-04T14:13:51.237588Z",
     "start_time": "2022-05-04T14:13:51.219805Z"
    }
   },
   "outputs": [
    {
     "name": "stdout",
     "output_type": "stream",
     "text": [
      "a , 10\n"
     ]
    }
   ],
   "source": [
    "for k,v in mydict.items():\n",
    "    print(k,v,sep=\" , \")"
   ]
  },
  {
   "cell_type": "code",
   "execution_count": 11,
   "id": "3ab63a87",
   "metadata": {
    "ExecuteTime": {
     "end_time": "2022-05-04T14:14:23.521697Z",
     "start_time": "2022-05-04T14:14:23.507548Z"
    }
   },
   "outputs": [
    {
     "name": "stdout",
     "output_type": "stream",
     "text": [
      "__class__ __class_getitem__ __contains__ __delattr__ __delitem__ __dir__ __doc__ __eq__ __format__ __ge__ __getattribute__ __getitem__ __gt__ __hash__ __init__ __init_subclass__ __ior__ __iter__ __le__ __len__ __lt__ __ne__ __new__ __or__ __reduce__ __reduce_ex__ __repr__ __reversed__ __ror__ __setattr__ __setitem__ __sizeof__ __str__ __subclasshook__ clear copy fromkeys get items keys pop popitem setdefault update values "
     ]
    }
   ],
   "source": [
    "for d in dir(mydict):\n",
    "    print(d,end = \" \")"
   ]
  },
  {
   "cell_type": "code",
   "execution_count": 12,
   "id": "7c7ea4c6",
   "metadata": {
    "ExecuteTime": {
     "end_time": "2022-05-04T14:14:59.966477Z",
     "start_time": "2022-05-04T14:14:59.956300Z"
    }
   },
   "outputs": [
    {
     "data": {
      "text/plain": [
       "1"
      ]
     },
     "execution_count": 12,
     "metadata": {},
     "output_type": "execute_result"
    }
   ],
   "source": [
    "# length will return the number of key value pairs\n",
    "len(mydict)"
   ]
  },
  {
   "cell_type": "code",
   "execution_count": 16,
   "id": "67f7ded5",
   "metadata": {
    "ExecuteTime": {
     "end_time": "2022-05-04T14:19:28.169549Z",
     "start_time": "2022-05-04T14:19:28.151183Z"
    }
   },
   "outputs": [
    {
     "data": {
      "text/plain": [
       "{'a': 10}"
      ]
     },
     "execution_count": 16,
     "metadata": {},
     "output_type": "execute_result"
    }
   ],
   "source": [
    "n2 = newdict.copy()\n",
    "n2"
   ]
  },
  {
   "cell_type": "code",
   "execution_count": 17,
   "id": "368a786b",
   "metadata": {
    "ExecuteTime": {
     "end_time": "2022-05-04T14:20:13.476573Z",
     "start_time": "2022-05-04T14:20:13.459360Z"
    }
   },
   "outputs": [
    {
     "data": {
      "text/plain": [
       "{}"
      ]
     },
     "execution_count": 17,
     "metadata": {},
     "output_type": "execute_result"
    }
   ],
   "source": [
    "n2.clear()\n",
    "n2"
   ]
  },
  {
   "cell_type": "code",
   "execution_count": 5,
   "id": "9fb92cfe",
   "metadata": {
    "ExecuteTime": {
     "end_time": "2022-05-05T08:16:36.763244Z",
     "start_time": "2022-05-05T08:16:36.746323Z"
    }
   },
   "outputs": [
    {
     "name": "stdout",
     "output_type": "stream",
     "text": [
      "{'b': 40}\n",
      "{'b': 40, 'a': 20}\n"
     ]
    }
   ],
   "source": [
    "# update can be used to update a value or insert new one\n",
    "updatedict = { \"b\" : 30}\n",
    "updatedict.update({\"b\" : 40})\n",
    "print(updatedict)\n",
    "updatedict.update({\"a\" : 20})\n",
    "print(updatedict)"
   ]
  },
  {
   "cell_type": "code",
   "execution_count": 24,
   "id": "596c4328",
   "metadata": {
    "ExecuteTime": {
     "end_time": "2022-05-04T14:41:58.579483Z",
     "start_time": "2022-05-04T14:41:58.569558Z"
    }
   },
   "outputs": [
    {
     "data": {
      "text/plain": [
       "0"
      ]
     },
     "execution_count": 24,
     "metadata": {},
     "output_type": "execute_result"
    }
   ],
   "source": [
    "# we can set default value using get in dictionary if the key is not available\n",
    "updatedict.get(\"a\",0)"
   ]
  },
  {
   "cell_type": "code",
   "execution_count": 2,
   "id": "c19e08cb",
   "metadata": {
    "ExecuteTime": {
     "end_time": "2022-05-05T08:12:00.098211Z",
     "start_time": "2022-05-05T08:12:00.084321Z"
    }
   },
   "outputs": [
    {
     "data": {
      "text/plain": [
       "('b', 20)"
      ]
     },
     "execution_count": 2,
     "metadata": {},
     "output_type": "execute_result"
    }
   ],
   "source": [
    "# we can pass the key for poping elments from the dict or it will automatically pop the last item\n",
    "mydict.pop(\"a\")\n",
    "\n",
    "popdict = dict(a=10,b=20)\n",
    "popdict.popitem()"
   ]
  },
  {
   "cell_type": "code",
   "execution_count": 25,
   "id": "0a845cf7",
   "metadata": {
    "ExecuteTime": {
     "end_time": "2022-05-04T14:45:20.667474Z",
     "start_time": "2022-05-04T14:45:20.654769Z"
    }
   },
   "outputs": [
    {
     "data": {
      "text/plain": [
       "{}"
      ]
     },
     "execution_count": 25,
     "metadata": {},
     "output_type": "execute_result"
    }
   ],
   "source": [
    "mydict = {\"z\" : 100}\n",
    "del mydict[\"z\"]\n",
    "mydict"
   ]
  },
  {
   "cell_type": "code",
   "execution_count": 21,
   "id": "5dd7ac65",
   "metadata": {
    "ExecuteTime": {
     "end_time": "2022-05-04T14:26:27.327205Z",
     "start_time": "2022-05-04T14:26:27.315132Z"
    }
   },
   "outputs": [
    {
     "data": {
      "text/plain": [
       "{}"
      ]
     },
     "execution_count": 21,
     "metadata": {},
     "output_type": "execute_result"
    }
   ],
   "source": [
    "mydict"
   ]
  },
  {
   "cell_type": "code",
   "execution_count": 3,
   "id": "47c1eecf",
   "metadata": {
    "ExecuteTime": {
     "end_time": "2022-05-05T08:14:40.371270Z",
     "start_time": "2022-05-05T08:14:40.364122Z"
    }
   },
   "outputs": [
    {
     "name": "stdout",
     "output_type": "stream",
     "text": [
      "2808514844416 | 2808497337024\n"
     ]
    }
   ],
   "source": [
    "dict1 = dict(a = 10)\n",
    "\n",
    "dict2 = dict1.copy()\n",
    "\n",
    "print(id(dict1),id(dict2), sep = \" | \")"
   ]
  },
  {
   "cell_type": "code",
   "execution_count": null,
   "id": "8c8aed65",
   "metadata": {},
   "outputs": [],
   "source": [
    "# we can nest dictionary"
   ]
  }
 ],
 "metadata": {
  "kernelspec": {
   "display_name": "Python 3 (ipykernel)",
   "language": "python",
   "name": "python3"
  },
  "language_info": {
   "codemirror_mode": {
    "name": "ipython",
    "version": 3
   },
   "file_extension": ".py",
   "mimetype": "text/x-python",
   "name": "python",
   "nbconvert_exporter": "python",
   "pygments_lexer": "ipython3",
   "version": "3.10.0"
  },
  "varInspector": {
   "cols": {
    "lenName": 16,
    "lenType": 16,
    "lenVar": 40
   },
   "kernels_config": {
    "python": {
     "delete_cmd_postfix": "",
     "delete_cmd_prefix": "del ",
     "library": "var_list.py",
     "varRefreshCmd": "print(var_dic_list())"
    },
    "r": {
     "delete_cmd_postfix": ") ",
     "delete_cmd_prefix": "rm(",
     "library": "var_list.r",
     "varRefreshCmd": "cat(var_dic_list()) "
    }
   },
   "types_to_exclude": [
    "module",
    "function",
    "builtin_function_or_method",
    "instance",
    "_Feature"
   ],
   "window_display": false
  }
 },
 "nbformat": 4,
 "nbformat_minor": 5
}
