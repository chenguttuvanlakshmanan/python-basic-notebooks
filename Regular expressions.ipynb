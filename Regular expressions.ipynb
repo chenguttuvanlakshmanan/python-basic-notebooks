{
 "cells": [
  {
   "cell_type": "markdown",
   "id": "aa7a2891",
   "metadata": {},
   "source": [
    "# Regular Expressions"
   ]
  },
  {
   "cell_type": "code",
   "execution_count": 1,
   "id": "e26b0fb0",
   "metadata": {
    "ExecuteTime": {
     "end_time": "2022-02-01T10:00:34.779229Z",
     "start_time": "2022-02-01T10:00:34.763284Z"
    }
   },
   "outputs": [],
   "source": [
    "import re"
   ]
  },
  {
   "cell_type": "markdown",
   "id": "89861029",
   "metadata": {},
   "source": [
    "### Word by Word Match pattern in String"
   ]
  },
  {
   "cell_type": "code",
   "execution_count": null,
   "id": "97e8837a",
   "metadata": {},
   "outputs": [],
   "source": [
    "# . period tester this will subsitute for any character more suitable test with numbers"
   ]
  },
  {
   "cell_type": "code",
   "execution_count": 45,
   "id": "d3dfef1d",
   "metadata": {},
   "outputs": [
    {
     "data": {
      "text/plain": [
       "['map', 'm%p']"
      ]
     },
     "execution_count": 45,
     "metadata": {},
     "output_type": "execute_result"
    }
   ],
   "source": [
    "re.findall('m.p','map m%p')"
   ]
  },
  {
   "cell_type": "code",
   "execution_count": 46,
   "id": "42e616f6",
   "metadata": {},
   "outputs": [
    {
     "data": {
      "text/plain": [
       "['ma&p']"
      ]
     },
     "execution_count": 46,
     "metadata": {},
     "output_type": "execute_result"
    }
   ],
   "source": [
    "re.findall('m..p','map m%p ma&p')"
   ]
  },
  {
   "cell_type": "code",
   "execution_count": null,
   "id": "d5b8f46e",
   "metadata": {},
   "outputs": [],
   "source": [
    "# * symbol matches anything afterwards"
   ]
  },
  {
   "cell_type": "code",
   "execution_count": 54,
   "id": "dc09fcbd",
   "metadata": {},
   "outputs": [
    {
     "data": {
      "text/plain": [
       "['m', '', '', '']"
      ]
     },
     "execution_count": 54,
     "metadata": {},
     "output_type": "execute_result"
    }
   ],
   "source": [
    "re.findall('m*','map')"
   ]
  },
  {
   "cell_type": "code",
   "execution_count": 2,
   "id": "963abf75",
   "metadata": {},
   "outputs": [],
   "source": [
    "# ^ caret symbol used alone will check the word starts with letter"
   ]
  },
  {
   "cell_type": "code",
   "execution_count": 3,
   "id": "88735adf",
   "metadata": {},
   "outputs": [
    {
     "data": {
      "text/plain": [
       "['m']"
      ]
     },
     "execution_count": 3,
     "metadata": {},
     "output_type": "execute_result"
    }
   ],
   "source": [
    "re.findall('^m','map world')"
   ]
  },
  {
   "cell_type": "code",
   "execution_count": 4,
   "id": "608cc403",
   "metadata": {},
   "outputs": [
    {
     "data": {
      "text/plain": [
       "[]"
      ]
     },
     "execution_count": 4,
     "metadata": {},
     "output_type": "execute_result"
    }
   ],
   "source": [
    "re.findall('^w','map world')"
   ]
  },
  {
   "cell_type": "code",
   "execution_count": 5,
   "id": "106a2619",
   "metadata": {},
   "outputs": [],
   "source": [
    "# $ dollar symbol used alone will check the word end with letter"
   ]
  },
  {
   "cell_type": "code",
   "execution_count": 6,
   "id": "0dfa7a2b",
   "metadata": {},
   "outputs": [
    {
     "data": {
      "text/plain": [
       "['p']"
      ]
     },
     "execution_count": 6,
     "metadata": {},
     "output_type": "execute_result"
    }
   ],
   "source": [
    "re.findall('p$','map')"
   ]
  },
  {
   "cell_type": "code",
   "execution_count": 9,
   "id": "a566cdd0",
   "metadata": {},
   "outputs": [],
   "source": [
    "#The [] square braket will serach for the item mentioned inside it"
   ]
  },
  {
   "cell_type": "code",
   "execution_count": 10,
   "id": "81e21170",
   "metadata": {},
   "outputs": [
    {
     "data": {
      "text/plain": [
       "['m']"
      ]
     },
     "execution_count": 10,
     "metadata": {},
     "output_type": "execute_result"
    }
   ],
   "source": [
    "re.findall('[m]','map world')"
   ]
  },
  {
   "cell_type": "code",
   "execution_count": 11,
   "id": "9e8d2fd7",
   "metadata": {},
   "outputs": [
    {
     "data": {
      "text/plain": [
       "['ma']"
      ]
     },
     "execution_count": 11,
     "metadata": {},
     "output_type": "execute_result"
    }
   ],
   "source": [
    "re.findall('[m][a]','map world')"
   ]
  },
  {
   "cell_type": "code",
   "execution_count": 12,
   "id": "fda52e69",
   "metadata": {},
   "outputs": [
    {
     "data": {
      "text/plain": [
       "['m', 'a']"
      ]
     },
     "execution_count": 12,
     "metadata": {},
     "output_type": "execute_result"
    }
   ],
   "source": [
    "re.findall('[ma]','map world')"
   ]
  },
  {
   "cell_type": "code",
   "execution_count": 13,
   "id": "3f49978a",
   "metadata": {},
   "outputs": [],
   "source": [
    "#The [^] caret symbol will reverse the search when used with square bracket here we can see the m is removed from the result"
   ]
  },
  {
   "cell_type": "code",
   "execution_count": 14,
   "id": "a40b9abe",
   "metadata": {},
   "outputs": [
    {
     "data": {
      "text/plain": [
       "['a', 'p', ' ', 'w', 'o', 'r', 'l', 'd']"
      ]
     },
     "execution_count": 14,
     "metadata": {},
     "output_type": "execute_result"
    }
   ],
   "source": [
    "re.findall('[^m]','map world')"
   ]
  },
  {
   "cell_type": "code",
   "execution_count": 15,
   "id": "ed6fa35a",
   "metadata": {},
   "outputs": [],
   "source": [
    "#we can mention the range by mentioning [a-c]"
   ]
  },
  {
   "cell_type": "code",
   "execution_count": 16,
   "id": "3fef0783",
   "metadata": {},
   "outputs": [
    {
     "data": {
      "text/plain": [
       "['a', 'a', 'c']"
      ]
     },
     "execution_count": 16,
     "metadata": {},
     "output_type": "execute_result"
    }
   ],
   "source": [
    "re.findall('[a-c]','map hatc')"
   ]
  },
  {
   "cell_type": "code",
   "execution_count": 17,
   "id": "01bc9ed5",
   "metadata": {},
   "outputs": [],
   "source": [
    "#we can find the digit using [0-9]"
   ]
  },
  {
   "cell_type": "code",
   "execution_count": 18,
   "id": "49d7d668",
   "metadata": {},
   "outputs": [
    {
     "data": {
      "text/plain": [
       "['3', '1', '2']"
      ]
     },
     "execution_count": 18,
     "metadata": {},
     "output_type": "execute_result"
    }
   ],
   "source": [
    "re.findall('[0-9]','map3 hatc12')"
   ]
  },
  {
   "cell_type": "code",
   "execution_count": 19,
   "id": "6765fc5b",
   "metadata": {},
   "outputs": [],
   "source": [
    "#we can find any characters using a-z\n",
    "#we can serach for 2 words combination"
   ]
  },
  {
   "cell_type": "code",
   "execution_count": 20,
   "id": "eed83cf6",
   "metadata": {},
   "outputs": [
    {
     "data": {
      "text/plain": [
       "['ma', 'hp']"
      ]
     },
     "execution_count": 20,
     "metadata": {},
     "output_type": "execute_result"
    }
   ],
   "source": [
    "re.findall('[mh][a-z]','map3 hptc12')"
   ]
  },
  {
   "cell_type": "code",
   "execution_count": 21,
   "id": "176743bd",
   "metadata": {},
   "outputs": [],
   "source": [
    "#Consider this code: {n,m}. This means at least n, and at most m repetitions of the pattern left to it."
   ]
  },
  {
   "cell_type": "code",
   "execution_count": 22,
   "id": "c6378297",
   "metadata": {},
   "outputs": [
    {
     "data": {
      "text/plain": [
       "[]"
      ]
     },
     "execution_count": 22,
     "metadata": {},
     "output_type": "execute_result"
    }
   ],
   "source": [
    "re.findall('a{2,3}','map3')"
   ]
  },
  {
   "cell_type": "code",
   "execution_count": 23,
   "id": "c11d93da",
   "metadata": {},
   "outputs": [
    {
     "data": {
      "text/plain": [
       "['aa', 'aaa']"
      ]
     },
     "execution_count": 23,
     "metadata": {},
     "output_type": "execute_result"
    }
   ],
   "source": [
    "re.findall('a{2,3}','maap maaaap')"
   ]
  },
  {
   "cell_type": "code",
   "execution_count": null,
   "id": "ef141bf3",
   "metadata": {},
   "outputs": [],
   "source": [
    "#Parentheses () is used to group sub-patterns. For example, (a|b|c)xz match \n",
    "#any string that matches either a or b or c followed by xz"
   ]
  },
  {
   "cell_type": "code",
   "execution_count": 40,
   "id": "ddb3a192",
   "metadata": {},
   "outputs": [
    {
     "data": {
      "text/plain": [
       "[]"
      ]
     },
     "execution_count": 40,
     "metadata": {},
     "output_type": "execute_result"
    }
   ],
   "source": [
    "re.findall('(a|b|c)xz','ab xz')"
   ]
  },
  {
   "cell_type": "code",
   "execution_count": 41,
   "id": "938ee227",
   "metadata": {},
   "outputs": [
    {
     "data": {
      "text/plain": [
       "['b']"
      ]
     },
     "execution_count": 41,
     "metadata": {},
     "output_type": "execute_result"
    }
   ],
   "source": [
    "re.findall('(a|b|c)xz','abxz')"
   ]
  },
  {
   "cell_type": "code",
   "execution_count": 43,
   "id": "d1b1e3c9",
   "metadata": {},
   "outputs": [
    {
     "data": {
      "text/plain": [
       "['b', 'c']"
      ]
     },
     "execution_count": 43,
     "metadata": {},
     "output_type": "execute_result"
    }
   ],
   "source": [
    "re.findall('(a|b|c)xz','abxz cxz')"
   ]
  },
  {
   "cell_type": "code",
   "execution_count": 27,
   "id": "62158d8c",
   "metadata": {},
   "outputs": [],
   "source": [
    "# Backlash \\ is used to escape various characters including all metacharacters."
   ]
  },
  {
   "cell_type": "code",
   "execution_count": 28,
   "id": "4ae8cee0",
   "metadata": {},
   "outputs": [
    {
     "data": {
      "text/plain": [
       "['a$']"
      ]
     },
     "execution_count": 28,
     "metadata": {},
     "output_type": "execute_result"
    }
   ],
   "source": [
    "re.findall('a\\$','ma$') # $ is metacharfacter"
   ]
  },
  {
   "cell_type": "code",
   "execution_count": 29,
   "id": "b4f99653",
   "metadata": {},
   "outputs": [],
   "source": [
    "# Vertical bar | is used for alternation (or operator)"
   ]
  },
  {
   "cell_type": "code",
   "execution_count": 30,
   "id": "0a255a0d",
   "metadata": {},
   "outputs": [
    {
     "data": {
      "text/plain": [
       "['a', 'b', 'a']"
      ]
     },
     "execution_count": 30,
     "metadata": {},
     "output_type": "execute_result"
    }
   ],
   "source": [
    "re.findall('a|b',\"ab am pm\")"
   ]
  },
  {
   "cell_type": "code",
   "execution_count": null,
   "id": "03557fe3",
   "metadata": {},
   "outputs": [],
   "source": []
  },
  {
   "cell_type": "code",
   "execution_count": 31,
   "id": "b9b8860c",
   "metadata": {},
   "outputs": [],
   "source": [
    "#The plus symbol + matches one or more occurrences of the pattern left to it."
   ]
  },
  {
   "cell_type": "code",
   "execution_count": 32,
   "id": "8db37d61",
   "metadata": {},
   "outputs": [
    {
     "data": {
      "text/plain": [
       "['man', 'maan']"
      ]
     },
     "execution_count": 32,
     "metadata": {},
     "output_type": "execute_result"
    }
   ],
   "source": [
    "re.findall('ma+n',\"mn man maan\")"
   ]
  },
  {
   "cell_type": "code",
   "execution_count": 33,
   "id": "c33d8b87",
   "metadata": {},
   "outputs": [],
   "source": [
    "#The star symbol * matches zero or more occurrences of the pattern left to it."
   ]
  },
  {
   "cell_type": "code",
   "execution_count": 34,
   "id": "cd60eb8c",
   "metadata": {},
   "outputs": [
    {
     "data": {
      "text/plain": [
       "['map', 'mp', 'maap']"
      ]
     },
     "execution_count": 34,
     "metadata": {},
     "output_type": "execute_result"
    }
   ],
   "source": [
    "re.findall('ma*p','map3 mp maap mhp hptc12')"
   ]
  },
  {
   "cell_type": "code",
   "execution_count": 7,
   "id": "005a090f",
   "metadata": {},
   "outputs": [],
   "source": [
    "#The question mark symbol ? matches zero or one occurrence of the pattern left to it."
   ]
  },
  {
   "cell_type": "code",
   "execution_count": 8,
   "id": "c48c857e",
   "metadata": {},
   "outputs": [
    {
     "data": {
      "text/plain": [
       "['man', 'mn']"
      ]
     },
     "execution_count": 8,
     "metadata": {},
     "output_type": "execute_result"
    }
   ],
   "source": [
    "re.findall('ma?n','man mn maan')"
   ]
  },
  {
   "cell_type": "code",
   "execution_count": null,
   "id": "be4de68e",
   "metadata": {},
   "outputs": [],
   "source": []
  },
  {
   "cell_type": "code",
   "execution_count": 24,
   "id": "31bc5214",
   "metadata": {},
   "outputs": [],
   "source": [
    "# \\w fill find all alphanumeric  in the word and \\W non alphanumeric"
   ]
  },
  {
   "cell_type": "code",
   "execution_count": 25,
   "id": "61f5fd88",
   "metadata": {},
   "outputs": [
    {
     "data": {
      "text/plain": [
       "['m', 'a', 'p', '1', '2', '3']"
      ]
     },
     "execution_count": 25,
     "metadata": {},
     "output_type": "execute_result"
    }
   ],
   "source": [
    "re.findall('\\w','map123%')"
   ]
  },
  {
   "cell_type": "code",
   "execution_count": 35,
   "id": "40d36603",
   "metadata": {},
   "outputs": [
    {
     "data": {
      "text/plain": [
       "['%']"
      ]
     },
     "execution_count": 35,
     "metadata": {},
     "output_type": "execute_result"
    }
   ],
   "source": [
    "re.findall('\\W','map123%')"
   ]
  },
  {
   "cell_type": "code",
   "execution_count": 36,
   "id": "cc3218b1",
   "metadata": {},
   "outputs": [],
   "source": [
    "# \\d fill find all numeric  in the word and \\D non numeric"
   ]
  },
  {
   "cell_type": "code",
   "execution_count": 38,
   "id": "d5531b14",
   "metadata": {},
   "outputs": [
    {
     "data": {
      "text/plain": [
       "['1', '2', '3']"
      ]
     },
     "execution_count": 38,
     "metadata": {},
     "output_type": "execute_result"
    }
   ],
   "source": [
    "re.findall('\\d','map123%')"
   ]
  },
  {
   "cell_type": "code",
   "execution_count": 39,
   "id": "dd57a14c",
   "metadata": {},
   "outputs": [
    {
     "data": {
      "text/plain": [
       "['m', 'a', 'p', '%']"
      ]
     },
     "execution_count": 39,
     "metadata": {},
     "output_type": "execute_result"
    }
   ],
   "source": [
    "re.findall('\\D','map123%')"
   ]
  },
  {
   "cell_type": "code",
   "execution_count": null,
   "id": "40e6ec4b",
   "metadata": {},
   "outputs": [],
   "source": []
  },
  {
   "cell_type": "markdown",
   "id": "2569d07d",
   "metadata": {},
   "source": [
    "### Special Sequences"
   ]
  },
  {
   "cell_type": "code",
   "execution_count": 1,
   "id": "7d40f88e",
   "metadata": {},
   "outputs": [],
   "source": [
    "#\\A - Matches if the specified characters are at the start of a string.|"
   ]
  },
  {
   "cell_type": "code",
   "execution_count": 4,
   "id": "0e4e4471",
   "metadata": {},
   "outputs": [
    {
     "data": {
      "text/plain": [
       "['the']"
      ]
     },
     "execution_count": 4,
     "metadata": {},
     "output_type": "execute_result"
    }
   ],
   "source": [
    "re.findall('\\Athe',\"the hammer\")"
   ]
  },
  {
   "cell_type": "code",
   "execution_count": 5,
   "id": "fca54afc",
   "metadata": {},
   "outputs": [
    {
     "data": {
      "text/plain": [
       "[]"
      ]
     },
     "execution_count": 5,
     "metadata": {},
     "output_type": "execute_result"
    }
   ],
   "source": [
    "re.findall('\\Athe',\"a hammer\")"
   ]
  },
  {
   "cell_type": "code",
   "execution_count": 6,
   "id": "b2635210",
   "metadata": {},
   "outputs": [],
   "source": [
    "#\\b - Matches if the specified characters are at the beginning or end of a word."
   ]
  },
  {
   "cell_type": "code",
   "execution_count": 18,
   "id": "4be4abc7",
   "metadata": {},
   "outputs": [
    {
     "data": {
      "text/plain": [
       "[]"
      ]
     },
     "execution_count": 18,
     "metadata": {},
     "output_type": "execute_result"
    }
   ],
   "source": [
    "re.findall('\\bthe',\"thehammer\")"
   ]
  },
  {
   "cell_type": "code",
   "execution_count": 13,
   "id": "2c8c3e35",
   "metadata": {},
   "outputs": [
    {
     "data": {
      "text/plain": [
       "[]"
      ]
     },
     "execution_count": 13,
     "metadata": {},
     "output_type": "execute_result"
    }
   ],
   "source": [
    "re.findall('\\bfoo',\"foo\")"
   ]
  },
  {
   "cell_type": "code",
   "execution_count": 20,
   "id": "11e5378d",
   "metadata": {},
   "outputs": [
    {
     "data": {
      "text/plain": [
       "[]"
      ]
     },
     "execution_count": 20,
     "metadata": {},
     "output_type": "execute_result"
    }
   ],
   "source": [
    "re.findall('foo\\b',\"tafoo\")"
   ]
  },
  {
   "cell_type": "code",
   "execution_count": 25,
   "id": "93c2c808",
   "metadata": {},
   "outputs": [
    {
     "data": {
      "text/plain": [
       "['afoo']"
      ]
     },
     "execution_count": 25,
     "metadata": {},
     "output_type": "execute_result"
    }
   ],
   "source": [
    "re.findall('\\wfoo',\"tafoo\")"
   ]
  },
  {
   "cell_type": "code",
   "execution_count": 26,
   "id": "b3632206",
   "metadata": {},
   "outputs": [],
   "source": [
    "# \\s - Matches where a string contains any whitespace character. Equivalent to and \\S opposite to it"
   ]
  },
  {
   "cell_type": "code",
   "execution_count": 28,
   "id": "abd0ad1c",
   "metadata": {},
   "outputs": [
    {
     "data": {
      "text/plain": [
       "[' ']"
      ]
     },
     "execution_count": 28,
     "metadata": {},
     "output_type": "execute_result"
    }
   ],
   "source": [
    "re.findall('\\s',\"ta foo\")"
   ]
  },
  {
   "cell_type": "code",
   "execution_count": 29,
   "id": "06d42317",
   "metadata": {},
   "outputs": [
    {
     "data": {
      "text/plain": [
       "[]"
      ]
     },
     "execution_count": 29,
     "metadata": {},
     "output_type": "execute_result"
    }
   ],
   "source": [
    "re.findall('\\s',\"tafoo\")"
   ]
  },
  {
   "cell_type": "code",
   "execution_count": 40,
   "id": "63155708",
   "metadata": {
    "ExecuteTime": {
     "end_time": "2022-02-01T10:35:36.858097Z",
     "start_time": "2022-02-01T10:35:36.855107Z"
    }
   },
   "outputs": [],
   "source": [
    "s= 'news/100'\n",
    "myiter = re.finditer('\\w+/\\d+',s)"
   ]
  },
  {
   "cell_type": "code",
   "execution_count": 41,
   "id": "c569784d",
   "metadata": {
    "ExecuteTime": {
     "end_time": "2022-02-01T10:35:48.047671Z",
     "start_time": "2022-02-01T10:35:48.030715Z"
    }
   },
   "outputs": [
    {
     "name": "stdout",
     "output_type": "stream",
     "text": [
      "<re.Match object; span=(0, 8), match='news/100'>\n"
     ]
    }
   ],
   "source": [
    "for t in myiter:\n",
    "    print(t)"
   ]
  },
  {
   "cell_type": "code",
   "execution_count": 31,
   "id": "ec20d3ed",
   "metadata": {
    "ExecuteTime": {
     "end_time": "2022-02-01T10:30:46.239161Z",
     "start_time": "2022-02-01T10:30:46.222216Z"
    }
   },
   "outputs": [
    {
     "data": {
      "text/plain": [
       "callable_iterator"
      ]
     },
     "execution_count": 31,
     "metadata": {},
     "output_type": "execute_result"
    }
   ],
   "source": [
    "type(myiter)"
   ]
  },
  {
   "cell_type": "code",
   "execution_count": 76,
   "id": "a9c6865c",
   "metadata": {
    "ExecuteTime": {
     "end_time": "2022-02-01T10:55:30.048071Z",
     "start_time": "2022-02-01T10:55:30.035116Z"
    }
   },
   "outputs": [
    {
     "name": "stdout",
     "output_type": "stream",
     "text": [
      "<re.Match object; span=(0, 8), match='news\\\\100'>\n"
     ]
    },
    {
     "data": {
      "text/plain": [
       "'news\\\\100'"
      ]
     },
     "execution_count": 76,
     "metadata": {},
     "output_type": "execute_result"
    }
   ],
   "source": [
    "import re\n",
    "\n",
    "s = r'news\\100'\n",
    "pattern = '\\w+\\\\\\(\\d+)'\n",
    "\n",
    "x= ''\n",
    "\n",
    "matches = re.finditer(pattern,s)\n",
    "for mat in matches:\n",
    "    print(mat)\n",
    "    x = mat.group()\n",
    "    \n",
    "x\n",
    "   \n"
   ]
  },
  {
   "cell_type": "code",
   "execution_count": 114,
   "id": "4954f60b",
   "metadata": {
    "ExecuteTime": {
     "end_time": "2022-02-01T11:56:19.460198Z",
     "start_time": "2022-02-01T11:56:19.443245Z"
    }
   },
   "outputs": [
    {
     "name": "stdout",
     "output_type": "stream",
     "text": [
      "Python ws Python is awesome ------------------  ws  is awesome awesome\n"
     ]
    }
   ],
   "source": [
    "s = 'Python ws Python is awesome awesome'\n",
    "\n",
    "new_s = re.sub(r'(\\w+)\\s+\\1', r'\\1', s)\n",
    "new_s22 = re.sub(r'.ython', '', s)\n",
    "\n",
    "\n",
    "print(new_s ,\"------------------\",new_s22)\n"
   ]
  },
  {
   "cell_type": "code",
   "execution_count": 110,
   "id": "ea80129d",
   "metadata": {
    "ExecuteTime": {
     "end_time": "2022-02-01T11:45:58.370757Z",
     "start_time": "2022-02-01T11:45:58.361710Z"
    }
   },
   "outputs": [
    {
     "data": {
      "text/plain": [
       "3"
      ]
     },
     "execution_count": 110,
     "metadata": {},
     "output_type": "execute_result"
    }
   ],
   "source": [
    "1 | 2"
   ]
  },
  {
   "cell_type": "code",
   "execution_count": 112,
   "id": "1e0393dd",
   "metadata": {
    "ExecuteTime": {
     "end_time": "2022-02-01T11:46:17.751290Z",
     "start_time": "2022-02-01T11:46:17.738928Z"
    }
   },
   "outputs": [
    {
     "data": {
      "text/plain": [
       "1"
      ]
     },
     "execution_count": 112,
     "metadata": {},
     "output_type": "execute_result"
    }
   ],
   "source": [
    "1 or 2"
   ]
  },
  {
   "cell_type": "code",
   "execution_count": 115,
   "id": "9d57d0f0",
   "metadata": {
    "ExecuteTime": {
     "end_time": "2022-02-01T11:56:49.054339Z",
     "start_time": "2022-02-01T11:56:44.891235Z"
    }
   },
   "outputs": [
    {
     "name": "stdout",
     "output_type": "stream",
     "text": [
      "enter your namecheng\n"
     ]
    }
   ],
   "source": [
    "myname = input(\"enter your name\")"
   ]
  },
  {
   "cell_type": "code",
   "execution_count": 116,
   "id": "813996fb",
   "metadata": {
    "ExecuteTime": {
     "end_time": "2022-02-01T11:56:59.880731Z",
     "start_time": "2022-02-01T11:56:59.863791Z"
    }
   },
   "outputs": [
    {
     "data": {
      "text/plain": [
       "'cheng'"
      ]
     },
     "execution_count": 116,
     "metadata": {},
     "output_type": "execute_result"
    }
   ],
   "source": [
    "myname"
   ]
  },
  {
   "cell_type": "code",
   "execution_count": 119,
   "id": "823335c6",
   "metadata": {
    "ExecuteTime": {
     "end_time": "2022-02-01T12:07:04.656277Z",
     "start_time": "2022-02-01T12:07:04.639334Z"
    }
   },
   "outputs": [
    {
     "data": {
      "text/plain": [
       "['33.']"
      ]
     },
     "execution_count": 119,
     "metadata": {},
     "output_type": "execute_result"
    }
   ],
   "source": [
    "re.findall('\\d+\\.',\"33.3\")"
   ]
  },
  {
   "cell_type": "code",
   "execution_count": 128,
   "id": "71507907",
   "metadata": {
    "ExecuteTime": {
     "end_time": "2022-02-01T12:21:27.269932Z",
     "start_time": "2022-02-01T12:21:27.262957Z"
    }
   },
   "outputs": [
    {
     "data": {
      "text/plain": [
       "['$5']"
      ]
     },
     "execution_count": 128,
     "metadata": {},
     "output_type": "execute_result"
    }
   ],
   "source": [
    "re.findall('\\$\\d',\"$500 50\")"
   ]
  },
  {
   "cell_type": "code",
   "execution_count": 141,
   "id": "0798b340",
   "metadata": {
    "ExecuteTime": {
     "end_time": "2022-02-01T12:48:59.276564Z",
     "start_time": "2022-02-01T12:48:59.263601Z"
    }
   },
   "outputs": [],
   "source": [
    "re.match('2','3 foo 2')"
   ]
  },
  {
   "cell_type": "code",
   "execution_count": 139,
   "id": "56ba1b68",
   "metadata": {
    "ExecuteTime": {
     "end_time": "2022-02-01T12:48:42.398602Z",
     "start_time": "2022-02-01T12:48:42.379665Z"
    }
   },
   "outputs": [
    {
     "data": {
      "text/plain": [
       "<re.Match object; span=(4, 5), match='2'>"
      ]
     },
     "execution_count": 139,
     "metadata": {},
     "output_type": "execute_result"
    }
   ],
   "source": [
    "re.search('2','foo 2')"
   ]
  },
  {
   "cell_type": "code",
   "execution_count": 144,
   "id": "44366ac6",
   "metadata": {
    "ExecuteTime": {
     "end_time": "2022-02-01T12:59:46.619075Z",
     "start_time": "2022-02-01T12:59:46.604124Z"
    }
   },
   "outputs": [
    {
     "data": {
      "text/plain": [
       "<re.Match object; span=(0, 3), match='123'>"
      ]
     },
     "execution_count": 144,
     "metadata": {},
     "output_type": "execute_result"
    }
   ],
   "source": [
    "re.fullmatch('\\d{3}','123')"
   ]
  },
  {
   "cell_type": "code",
   "execution_count": 147,
   "id": "ad376d3e",
   "metadata": {
    "ExecuteTime": {
     "end_time": "2022-02-01T13:26:20.032325Z",
     "start_time": "2022-02-01T13:26:20.016390Z"
    }
   },
   "outputs": [],
   "source": [
    "from collections import Counter"
   ]
  },
  {
   "cell_type": "code",
   "execution_count": 148,
   "id": "8dc12bd6",
   "metadata": {
    "ExecuteTime": {
     "end_time": "2022-02-01T13:26:58.018382Z",
     "start_time": "2022-02-01T13:26:58.004343Z"
    }
   },
   "outputs": [
    {
     "data": {
      "text/plain": [
       "Counter({1: 1, 2: 2, 3: 1, 4: 1})"
      ]
     },
     "execution_count": 148,
     "metadata": {},
     "output_type": "execute_result"
    }
   ],
   "source": [
    "lt = [1,2,3,4,2]\n",
    "\n",
    "ct = Counter(lt)\n",
    "ct"
   ]
  },
  {
   "cell_type": "code",
   "execution_count": 150,
   "id": "c369c322",
   "metadata": {
    "ExecuteTime": {
     "end_time": "2022-02-01T13:27:34.057191Z",
     "start_time": "2022-02-01T13:27:34.040247Z"
    }
   },
   "outputs": [],
   "source": [
    "import collections"
   ]
  },
  {
   "cell_type": "code",
   "execution_count": null,
   "id": "e34d1620",
   "metadata": {},
   "outputs": [],
   "source": [
    "collections.UserList()"
   ]
  }
 ],
 "metadata": {
  "kernelspec": {
   "display_name": "Python 3 (ipykernel)",
   "language": "python",
   "name": "python3"
  },
  "language_info": {
   "codemirror_mode": {
    "name": "ipython",
    "version": 3
   },
   "file_extension": ".py",
   "mimetype": "text/x-python",
   "name": "python",
   "nbconvert_exporter": "python",
   "pygments_lexer": "ipython3",
   "version": "3.10.0"
  },
  "varInspector": {
   "cols": {
    "lenName": 16,
    "lenType": 16,
    "lenVar": 40
   },
   "kernels_config": {
    "python": {
     "delete_cmd_postfix": "",
     "delete_cmd_prefix": "del ",
     "library": "var_list.py",
     "varRefreshCmd": "print(var_dic_list())"
    },
    "r": {
     "delete_cmd_postfix": ") ",
     "delete_cmd_prefix": "rm(",
     "library": "var_list.r",
     "varRefreshCmd": "cat(var_dic_list()) "
    }
   },
   "types_to_exclude": [
    "module",
    "function",
    "builtin_function_or_method",
    "instance",
    "_Feature"
   ],
   "window_display": false
  }
 },
 "nbformat": 4,
 "nbformat_minor": 5
}
