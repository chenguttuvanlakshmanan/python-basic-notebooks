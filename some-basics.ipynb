{
 "cells": [
  {
   "cell_type": "markdown",
   "id": "dde5f019",
   "metadata": {},
   "source": [
    "Literal:\n",
    "\n",
    "A literal is data whose values are determined by the literal itself.\n",
    "\n",
    "ex : 123, \"c\"\n",
    "\n",
    "literal types:\n",
    "int\n",
    "oct/hex\n",
    "float\n",
    "string\n",
    "boolean\n",
    "None"
   ]
  },
  {
   "cell_type": "code",
   "execution_count": 1,
   "id": "23818eac",
   "metadata": {
    "ExecuteTime": {
     "end_time": "2022-05-09T07:16:07.890862Z",
     "start_time": "2022-05-09T07:16:07.878943Z"
    }
   },
   "outputs": [
    {
     "data": {
      "text/plain": [
       "float"
      ]
     },
     "execution_count": 1,
     "metadata": {},
     "output_type": "execute_result"
    }
   ],
   "source": [
    "type(4.)"
   ]
  },
  {
   "cell_type": "code",
   "execution_count": 5,
   "id": "9a80fe2b",
   "metadata": {
    "ExecuteTime": {
     "end_time": "2022-05-09T07:21:12.313831Z",
     "start_time": "2022-05-09T07:21:12.298706Z"
    }
   },
   "outputs": [
    {
     "name": "stdout",
     "output_type": "stream",
     "text": [
      "3e+24\n"
     ]
    }
   ],
   "source": [
    "print(3e24)"
   ]
  },
  {
   "cell_type": "code",
   "execution_count": 4,
   "id": "8d37a665",
   "metadata": {
    "ExecuteTime": {
     "end_time": "2022-05-09T07:20:58.607828Z",
     "start_time": "2022-05-09T07:20:58.595284Z"
    }
   },
   "outputs": [
    {
     "name": "stdout",
     "output_type": "stream",
     "text": [
      "1e-22\n"
     ]
    }
   ],
   "source": [
    "# literal will select optimal way to store it\n",
    "print(0.0000000000000000000001)"
   ]
  },
  {
   "cell_type": "code",
   "execution_count": 6,
   "id": "c7b47876",
   "metadata": {
    "ExecuteTime": {
     "end_time": "2022-05-09T07:27:16.809884Z",
     "start_time": "2022-05-09T07:27:16.795221Z"
    }
   },
   "outputs": [
    {
     "name": "stdout",
     "output_type": "stream",
     "text": [
      "i \"am expert\n"
     ]
    }
   ],
   "source": [
    "# escape special character using back slash \\\n",
    "\n",
    "print(\"i \\\"am expert\")"
   ]
  },
  {
   "cell_type": "markdown",
   "id": "34a83db4",
   "metadata": {},
   "source": [
    "Operator:\n",
    "\n",
    "operator is a symbol of the programming language, which is able to operate on the values.\n",
    "\n",
    "Data and operators when connected together form expressions. The simplest expression is a literal itself.\n",
    "\n",
    "Artimetic Operator :\n",
    "\n",
    "    Some operators act before others - the hierarchy of priorities:\n",
    "\n",
    "    unary + and - have the highest priority\n",
    "    then: **, then: *, /, and %, and then the lowest priority: binary + and -.\n",
    "\n",
    "    when both ** arguments are integers, the result is an integer, too;\n",
    "    when at least one ** argument is a float, the result is a float, too.\n",
    "\n",
    "    A / (slash) sign is a divisional operator.\n",
    "\n",
    "    The value in front of the slash is a dividend, the value behind the slash, a divisor.\n",
    "\n",
    "    // => integer of floor division ( quotient)\n",
    "\n",
    "    % => Modulo operator (remainder )\n",
    "    \n",
    "    The subtraction operator is obviously the - (minus) sign, although you should note that this operator also has another meaning - it can change the sign of a number.\n",
    "\n",
    "    This is a great opportunity to present a very important distinction between unary and binary operators.\n",
    "    \n",
    "    The addition operator is the + (plus) sign\n",
    "    "
   ]
  },
  {
   "cell_type": "code",
   "execution_count": 7,
   "id": "52521b33",
   "metadata": {
    "ExecuteTime": {
     "end_time": "2022-05-09T07:50:40.609267Z",
     "start_time": "2022-05-09T07:50:40.594195Z"
    }
   },
   "outputs": [
    {
     "name": "stdout",
     "output_type": "stream",
     "text": [
      "2.0\n"
     ]
    }
   ],
   "source": [
    "print( 6 / 3)"
   ]
  },
  {
   "cell_type": "code",
   "execution_count": 9,
   "id": "35ec7dc9",
   "metadata": {
    "ExecuteTime": {
     "end_time": "2022-05-09T07:52:12.119144Z",
     "start_time": "2022-05-09T07:52:12.113068Z"
    }
   },
   "outputs": [
    {
     "name": "stdout",
     "output_type": "stream",
     "text": [
      "2\n",
      "2.0\n",
      "1\n"
     ]
    }
   ],
   "source": [
    "print( 6 // 3)\n",
    "print( 6. // 3)\n",
    "print( 6 // 4)"
   ]
  },
  {
   "cell_type": "code",
   "execution_count": 10,
   "id": "3d0fc2ff",
   "metadata": {
    "ExecuteTime": {
     "end_time": "2022-05-09T08:02:49.815978Z",
     "start_time": "2022-05-09T08:02:49.809900Z"
    }
   },
   "outputs": [
    {
     "name": "stdout",
     "output_type": "stream",
     "text": [
      "1.0\n"
     ]
    }
   ],
   "source": [
    "print( 1.0 - 0)"
   ]
  },
  {
   "cell_type": "code",
   "execution_count": 11,
   "id": "b888455f",
   "metadata": {
    "ExecuteTime": {
     "end_time": "2022-05-09T08:04:20.060602Z",
     "start_time": "2022-05-09T08:04:20.053499Z"
    }
   },
   "outputs": [
    {
     "data": {
      "text/plain": [
       "17"
      ]
     },
     "execution_count": 11,
     "metadata": {},
     "output_type": "execute_result"
    }
   ],
   "source": [
    "2 + 3 * 5"
   ]
  },
  {
   "cell_type": "code",
   "execution_count": 13,
   "id": "43c1e899",
   "metadata": {
    "ExecuteTime": {
     "end_time": "2022-05-09T08:11:20.711473Z",
     "start_time": "2022-05-09T08:11:20.705008Z"
    }
   },
   "outputs": [
    {
     "data": {
      "text/plain": [
       "25"
      ]
     },
     "execution_count": 13,
     "metadata": {},
     "output_type": "execute_result"
    }
   ],
   "source": [
    "(2 + 3) * 5"
   ]
  },
  {
   "cell_type": "markdown",
   "id": "bd8f97ab",
   "metadata": {},
   "source": [
    "exponentiation is performed first (when available), multiplication and division are performed next, addition and subtraction are performed last.\n",
    "\n",
    "The binding of the operator determines the order of computations performed by some operators with equal priority, put side by side in one expression."
   ]
  },
  {
   "cell_type": "code",
   "execution_count": 12,
   "id": "39af3261",
   "metadata": {
    "ExecuteTime": {
     "end_time": "2022-05-09T08:05:15.267562Z",
     "start_time": "2022-05-09T08:05:15.255555Z"
    }
   },
   "outputs": [
    {
     "name": "stdout",
     "output_type": "stream",
     "text": [
      "1\n"
     ]
    }
   ],
   "source": [
    "# here we can see left side binding\n",
    "print(9 % 6 % 2)"
   ]
  },
  {
   "cell_type": "code",
   "execution_count": 14,
   "id": "fc2665be",
   "metadata": {
    "ExecuteTime": {
     "end_time": "2022-05-09T08:12:33.675921Z",
     "start_time": "2022-05-09T08:12:33.664425Z"
    }
   },
   "outputs": [
    {
     "name": "stdout",
     "output_type": "stream",
     "text": [
      "256\n"
     ]
    }
   ],
   "source": [
    " # the exponentiation operator uses right-sided binding.\n",
    "print(2 ** 2 ** 3)"
   ]
  },
  {
   "cell_type": "code",
   "execution_count": 16,
   "id": "2fd5d27c",
   "metadata": {
    "ExecuteTime": {
     "end_time": "2022-05-09T08:13:43.500724Z",
     "start_time": "2022-05-09T08:13:43.488095Z"
    }
   },
   "outputs": [
    {
     "name": "stdout",
     "output_type": "stream",
     "text": [
      "256\n"
     ]
    }
   ],
   "source": [
    "print( 2 ** 8)"
   ]
  },
  {
   "cell_type": "code",
   "execution_count": 17,
   "id": "a4ebc932",
   "metadata": {
    "ExecuteTime": {
     "end_time": "2022-05-09T08:21:50.675633Z",
     "start_time": "2022-05-09T08:21:50.667497Z"
    }
   },
   "outputs": [],
   "source": [
    "_b = 25"
   ]
  },
  {
   "cell_type": "code",
   "execution_count": 18,
   "id": "e8e9df2a",
   "metadata": {
    "ExecuteTime": {
     "end_time": "2022-05-09T08:21:57.252542Z",
     "start_time": "2022-05-09T08:21:57.248454Z"
    }
   },
   "outputs": [
    {
     "name": "stdout",
     "output_type": "stream",
     "text": [
      "25\n"
     ]
    }
   ],
   "source": [
    "print(_b)"
   ]
  },
  {
   "cell_type": "markdown",
   "id": "8b9e38f3",
   "metadata": {},
   "source": [
    "Variable :\n",
    "    \n",
    "    A variable is a named location reserved to store values in the memory. A variable is created or initialized automatically when you assign a value to it for the first time. (2.1.4.1)\n",
    "\n",
    "    Each variable must have a unique name - an identifier. A legal identifier name must be a non-empty sequence of characters, must begin with the underscore(_), or a letter, and it cannot be a Python keyword. The first character may be followed by underscores, letters, and digits. Identifiers in Python are case-sensitive. (2.1.4.1)\n",
    "\n",
    "    Python is a dynamically-typed language, which means you don't need to declare variables in it. (2.1.4.3) To assign values to variables, you can use a simple assignment operator in the form of the equal (=) sign, i.e., var = 1.\n",
    "\n",
    "    You can also use compound assignment operators (shortcut operators) to modify values assigned to variables, e.g., var += 1, or var /= 5 * 2"
   ]
  },
  {
   "cell_type": "markdown",
   "id": "50468b2b",
   "metadata": {},
   "source": [
    "Variable Name:\n",
    "    \n",
    "    variable names should be lowercase, with words separated by underscores to improve readability (e.g., var, my_variable)\n",
    "    function names follow the same convention as variable names (e.g., fun, my_function)\n",
    "    it's also possible to use mixed case (e.g., myVariable), but only in contexts where that's already the prevailing style, to retain backwards compatibility with the adopted convention.\n"
   ]
  },
  {
   "cell_type": "markdown",
   "id": "25f31939",
   "metadata": {},
   "source": [
    "Comments:\n",
    "    # => single line comment & there is no multi line comment"
   ]
  },
  {
   "cell_type": "markdown",
   "id": "a2230399",
   "metadata": {
    "ExecuteTime": {
     "end_time": "2022-05-09T08:51:07.102496Z",
     "start_time": "2022-05-09T08:51:07.093829Z"
    }
   },
   "source": [
    "Type casting:\n",
    "\n",
    "Python offers two simple functions to specify a type of data and solve this problem - here they are: int() , float() & str()."
   ]
  },
  {
   "cell_type": "markdown",
   "id": "1e203336",
   "metadata": {
    "ExecuteTime": {
     "end_time": "2022-05-09T08:54:50.500792Z",
     "start_time": "2022-05-09T08:54:50.485554Z"
    }
   },
   "source": [
    "String Operators:\n",
    "\n",
    "Addition & Multiplication ( Replication operator for string)\n"
   ]
  },
  {
   "cell_type": "code",
   "execution_count": 23,
   "id": "c5a0faac",
   "metadata": {
    "ExecuteTime": {
     "end_time": "2022-05-09T08:57:31.489093Z",
     "start_time": "2022-05-09T08:57:31.482013Z"
    }
   },
   "outputs": [
    {
     "name": "stdout",
     "output_type": "stream",
     "text": [
      "cheng expert\n"
     ]
    }
   ],
   "source": [
    "print(\"cheng\" + \" expert\")"
   ]
  },
  {
   "cell_type": "code",
   "execution_count": 24,
   "id": "70c7fc35",
   "metadata": {
    "ExecuteTime": {
     "end_time": "2022-05-09T08:57:44.896677Z",
     "start_time": "2022-05-09T08:57:44.889609Z"
    }
   },
   "outputs": [
    {
     "name": "stdout",
     "output_type": "stream",
     "text": [
      "ccc\n"
     ]
    }
   ],
   "source": [
    "print(\"c\" * 3)"
   ]
  },
  {
   "attachments": {
    "image.png": {
     "image/png": "[encoded data removed]"
    }
   },
   "cell_type": "markdown",
   "id": "62ce117b",
   "metadata": {},
   "source": [
    "Bitwise operators:\n",
    "\n",
    "there are four operators that allow you to manipulate single bits of data. They are called bitwise operators.\n",
    "\n",
    "They cover all the operations we mentioned before in the logical context, and one additional operator. This is the xor (as in exclusive or) operator, and is denoted as ^ (caret).\n",
    "\n",
    "Here are all of them:\n",
    "\n",
    "& (ampersand) - bitwise conjunction;\n",
    "| (bar) - bitwise disjunction;\n",
    "~ (tilde) - bitwise negation;\n",
    "^ (caret) - bitwise exclusive or (xor).\n",
    "\n",
    "![image.png](attachment:image.png)\n",
    "\n",
    "Let's make it easier:\n",
    "\n",
    "& requires exactly two 1s to provide 1 as the result;\n",
    "| requires at least one 1 to provide 1 as the result;\n",
    "^ requires exactly one 1 to provide 1 as the result.\n",
    "\n"
   ]
  },
  {
   "cell_type": "markdown",
   "id": "fde925fa",
   "metadata": {},
   "source": [
    "Binary left shift and binary right shift:<br/>\n",
    "    Python offers yet another operation relating to single bits: shifting. This is applied only to integer values, and you mustn't use floats as arguments for it.\n",
    "    \n",
    "    17 // 2 → 8 (shifting to the right by one bit is the same as integer division by two)\n",
    "    17 * 4 → 68 (shifting to the left by two bits is the same as integer multiplication by four)\n"
   ]
  },
  {
   "cell_type": "code",
   "execution_count": null,
   "id": "91f98490",
   "metadata": {},
   "outputs": [],
   "source": []
  }
 ],
 "metadata": {
  "kernelspec": {
   "display_name": "Python 3 (ipykernel)",
   "language": "python",
   "name": "python3"
  },
  "language_info": {
   "codemirror_mode": {
    "name": "ipython",
    "version": 3
   },
   "file_extension": ".py",
   "mimetype": "text/x-python",
   "name": "python",
   "nbconvert_exporter": "python",
   "pygments_lexer": "ipython3",
   "version": "3.10.0"
  },
  "varInspector": {
   "cols": {
    "lenName": 16,
    "lenType": 16,
    "lenVar": 40
   },
   "kernels_config": {
    "python": {
     "delete_cmd_postfix": "",
     "delete_cmd_prefix": "del ",
     "library": "var_list.py",
     "varRefreshCmd": "print(var_dic_list())"
    },
    "r": {
     "delete_cmd_postfix": ") ",
     "delete_cmd_prefix": "rm(",
     "library": "var_list.r",
     "varRefreshCmd": "cat(var_dic_list()) "
    }
   },
   "types_to_exclude": [
    "module",
    "function",
    "builtin_function_or_method",
    "instance",
    "_Feature"
   ],
   "window_display": false
  }
 },
 "nbformat": 4,
 "nbformat_minor": 5
}
